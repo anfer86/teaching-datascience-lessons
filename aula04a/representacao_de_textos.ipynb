{
 "cells": [
  {
   "cell_type": "markdown",
   "metadata": {
    "slideshow": {
     "slide_type": "slide"
    }
   },
   "source": [
    "<link rel=\"stylesheet\" href=\"ipython.min.css\">\n",
    "\n",
    "<img src=\"img/logoifsc.png\">\n",
    "\n",
    "---\n",
    "\n",
    "Prof. Carlos Andrés Ferrero\n",
    "\n",
    "# Representação de Textos\n",
    "---"
   ]
  },
  {
   "cell_type": "markdown",
   "metadata": {
    "slideshow": {
     "slide_type": "slide"
    }
   },
   "source": [
    "## Conteúdo\n",
    "\n",
    "- Representação de Textos em Atributo-Valor\n",
    "- Representações:\n",
    "    - Term Frequency (TR)\n",
    "    - Binary\n",
    "    - Term Frequency - Inverse Document Frequency (TF-IDF)\n",
    "- Indução e Avaliação de Classificadores de Texto"
   ]
  },
  {
   "cell_type": "markdown",
   "metadata": {
    "slideshow": {
     "slide_type": "slide"
    }
   },
   "source": [
    "## Representação de Textos em Atributo-Valor"
   ]
  },
  {
   "cell_type": "markdown",
   "metadata": {
    "slideshow": {
     "slide_type": "-"
    }
   },
   "source": [
    "**A maior parte dos algoritmos de Machine Learning para indução de modelos preditivos trabalham a partir do formato de dados atributo-valor**\n",
    "\n",
    "|Exemplo | Atributo 1 | Atributo 2 | ... | Atributo m | Atributo classe |\n",
    "|------|------|------|------|------|------| \n",
    "|$e_1$ | $x_{1,1}$ | $x_{1,2}$ | ... | $x_{1,m}$ | $y_1$ |\n",
    "|$e_2$ | $x_{2,1}$ | $x_{2,2}$ | ... | $x_{2,m}$ | $y_2$ |\n",
    "| ... | ... | ... | ... | ... | ... |\n",
    "|$e_n$ | $x_{n,1}$ | $x_{n,2}$ | ... | $x_{n,m}$ | $y_n$ |\n",
    "\n",
    "- Cada exemplo é representado pelos valores de um conjunto de atrbiutos, inclusive o atributo classe\n",
    "\n",
    "- No entanto, como já foi discutido em momento anteriores os dados textuais não estão nesse formato diretamente, pois cada exemplo de sentença é um texto e não um conjunto de atributos com seus valores."
   ]
  },
  {
   "cell_type": "markdown",
   "metadata": {
    "slideshow": {
     "slide_type": "subslide"
    }
   },
   "source": [
    "### Transformação de um Conjunto de Sentenças em uma Tabela Atributo-Valor"
   ]
  },
  {
   "cell_type": "markdown",
   "metadata": {
    "slideshow": {
     "slide_type": "-"
    }
   },
   "source": [
    "No entanto, podemos representar cada sentença pelas palavras que estão contidas nela e dessa forma, usar a representação atributo-valor. Essa ideia também nos permite usar os algoritmos de Machine Learning para induzir modelos preditivos, que a partir das palavras contidas nela, consiga prever alguma classe do problema.\n",
    "\n",
    "- Similar à tabela-atributo valor convencional, à gerada a partir de sentenças seria da seguinte forma:\n",
    "\n",
    "|Sentença | Atributo Termo 1 | Atributo Termo 2 | ... | Atributo Termo m | Atributo classe |\n",
    "|------|------|------|------|------|------| \n",
    "|$s_1$ | $x_{1,1}$ | $x_{1,2}$ | ... | $x_{1,m}$ | $y_1$ |\n",
    "|$s_2$ | $x_{2,1}$ | $x_{2,2}$ | ... | $x_{2,m}$ | $y_2$ |\n",
    "| ... | ... | ... | ... | ... | ... |\n",
    "|$s_n$ | $x_{n,1}$ | $x_{n,2}$ | ... | $x_{n,m}$ | $y_n$ |\n",
    "\n",
    "- onde cada linha é uma sentença e cada atributo correponde a uma termo (em geral, uma palavra) do conjunto de dados. Na última coluna também temos o atributo classe.\n",
    "\n",
    "- Dessa forma, **cada sentença é representada por um conjunto de valores que que relacionam cada sentença com cada palavra**."
   ]
  },
  {
   "cell_type": "markdown",
   "metadata": {
    "slideshow": {
     "slide_type": "slide"
    }
   },
   "source": [
    "## Representações\n",
    "\n",
    "- Term Frequency (TF): cada valor $x_{i,j}$ na tabela atributo-valor corresponde ao número de vezes que a $j$-ésima palavra está na $i$-ésima sentença.\n",
    "- Binary: cada valor $x_{i,j}$ na tabela atributo-valor é 1 se $j$-ésima palavra está na $i$-ésima sentença e 0, caso contrário.\n",
    "- Term Frequency - Inverse Document Frequency (TF-IDF): cada valor $x_{i,j}$ na tabela atributo-valor procura refletir quão importante é a $j$-éssima palavra para a $i$-ésima sentença dentro da coleção de sentenças.\n",
    "    - Por exemplo, se uma palavra aparece em todas as instâncias (sentenças), o fato de aparecer em uma especificamente não traz muita informação."
   ]
  },
  {
   "cell_type": "markdown",
   "metadata": {
    "slideshow": {
     "slide_type": "subslide"
    }
   },
   "source": [
    "### Representação Term Frequency (TF)\n",
    "\n",
    "Nesta representação contabilizamos o número de vezes que cada palavra aparece em cada sentença, como segue:\n",
    "\n",
    "|Sentença | Atributo Termo 1 | Atributo Termo 2 | ... | Atributo Termo m | Atributo classe |\n",
    "|------|------|------|------|------|------| \n",
    "|$s_1$ | $x_{1,1}$ | $x_{1,2}$ | ... | $x_{1,m}$ | $y_1$ |\n",
    "|$s_2$ | $x_{2,1}$ | $x_{2,2}$ | ... | $x_{2,m}$ | $y_2$ |\n",
    "| ... | ... | ... | ... | ... | ... |\n",
    "|$s_n$ | $x_{n,1}$ | $x_{n,2}$ | ... | $x_{n,m}$ | $y_n$ |\n",
    "\n",
    "cada valor $x_{i,j}$ na tabela atributo-valor corresponde ao número de vezes que a $j$-ésimo termo está na $i$-ésima sentença."
   ]
  },
  {
   "cell_type": "markdown",
   "metadata": {
    "slideshow": {
     "slide_type": "subslide"
    }
   },
   "source": [
    "**Exemplo de Implementação**\n",
    "\n",
    "A partir de um conjunto de dados de avaliações (reviews) sobre filmes, vamos realizar a representação no formato Term Frequency (TR). As avaliações pode ser negativas (Label 0) ou positivas (Label 1)."
   ]
  },
  {
   "cell_type": "code",
   "execution_count": 40,
   "metadata": {},
   "outputs": [
    {
     "data": {
      "text/html": [
       "<div>\n",
       "<style scoped>\n",
       "    .dataframe tbody tr th:only-of-type {\n",
       "        vertical-align: middle;\n",
       "    }\n",
       "\n",
       "    .dataframe tbody tr th {\n",
       "        vertical-align: top;\n",
       "    }\n",
       "\n",
       "    .dataframe thead th {\n",
       "        text-align: right;\n",
       "    }\n",
       "</style>\n",
       "<table border=\"1\" class=\"dataframe\">\n",
       "  <thead>\n",
       "    <tr style=\"text-align: right;\">\n",
       "      <th></th>\n",
       "      <th>Review</th>\n",
       "      <th>Label</th>\n",
       "    </tr>\n",
       "  </thead>\n",
       "  <tbody>\n",
       "    <tr>\n",
       "      <th>0</th>\n",
       "      <td>A very, very, very slow-moving, aimless movie ...</td>\n",
       "      <td>0</td>\n",
       "    </tr>\n",
       "    <tr>\n",
       "      <th>1</th>\n",
       "      <td>Not sure who was more lost - the flat characte...</td>\n",
       "      <td>0</td>\n",
       "    </tr>\n",
       "    <tr>\n",
       "      <th>2</th>\n",
       "      <td>Attempting artiness with black &amp; white and cle...</td>\n",
       "      <td>0</td>\n",
       "    </tr>\n",
       "    <tr>\n",
       "      <th>3</th>\n",
       "      <td>Very little music or anything to speak of.</td>\n",
       "      <td>0</td>\n",
       "    </tr>\n",
       "    <tr>\n",
       "      <th>4</th>\n",
       "      <td>The best scene in the movie was when Gerardo i...</td>\n",
       "      <td>1</td>\n",
       "    </tr>\n",
       "  </tbody>\n",
       "</table>\n",
       "</div>"
      ],
      "text/plain": [
       "                                              Review  Label\n",
       "0  A very, very, very slow-moving, aimless movie ...      0\n",
       "1  Not sure who was more lost - the flat characte...      0\n",
       "2  Attempting artiness with black & white and cle...      0\n",
       "3       Very little music or anything to speak of.        0\n",
       "4  The best scene in the movie was when Gerardo i...      1"
      ]
     },
     "execution_count": 40,
     "metadata": {},
     "output_type": "execute_result"
    }
   ],
   "source": [
    "import pandas as pd\n",
    "data = pd.read_csv('data/imdb_labelled.txt', sep='\\t')\n",
    "data.head()"
   ]
  },
  {
   "cell_type": "markdown",
   "metadata": {
    "slideshow": {
     "slide_type": "subslide"
    }
   },
   "source": [
    "Vamos também separar 5 registros na variável `data5` para realizar testes."
   ]
  },
  {
   "cell_type": "code",
   "execution_count": 41,
   "metadata": {},
   "outputs": [
    {
     "data": {
      "text/html": [
       "<div>\n",
       "<style scoped>\n",
       "    .dataframe tbody tr th:only-of-type {\n",
       "        vertical-align: middle;\n",
       "    }\n",
       "\n",
       "    .dataframe tbody tr th {\n",
       "        vertical-align: top;\n",
       "    }\n",
       "\n",
       "    .dataframe thead th {\n",
       "        text-align: right;\n",
       "    }\n",
       "</style>\n",
       "<table border=\"1\" class=\"dataframe\">\n",
       "  <thead>\n",
       "    <tr style=\"text-align: right;\">\n",
       "      <th></th>\n",
       "      <th>Review</th>\n",
       "      <th>Label</th>\n",
       "    </tr>\n",
       "  </thead>\n",
       "  <tbody>\n",
       "    <tr>\n",
       "      <th>0</th>\n",
       "      <td>A very, very, very slow-moving, aimless movie ...</td>\n",
       "      <td>0</td>\n",
       "    </tr>\n",
       "    <tr>\n",
       "      <th>1</th>\n",
       "      <td>Not sure who was more lost - the flat characte...</td>\n",
       "      <td>0</td>\n",
       "    </tr>\n",
       "    <tr>\n",
       "      <th>2</th>\n",
       "      <td>Attempting artiness with black &amp; white and cle...</td>\n",
       "      <td>0</td>\n",
       "    </tr>\n",
       "    <tr>\n",
       "      <th>3</th>\n",
       "      <td>Very little music or anything to speak of.</td>\n",
       "      <td>0</td>\n",
       "    </tr>\n",
       "    <tr>\n",
       "      <th>4</th>\n",
       "      <td>The best scene in the movie was when Gerardo i...</td>\n",
       "      <td>1</td>\n",
       "    </tr>\n",
       "  </tbody>\n",
       "</table>\n",
       "</div>"
      ],
      "text/plain": [
       "                                              Review  Label\n",
       "0  A very, very, very slow-moving, aimless movie ...      0\n",
       "1  Not sure who was more lost - the flat characte...      0\n",
       "2  Attempting artiness with black & white and cle...      0\n",
       "3       Very little music or anything to speak of.        0\n",
       "4  The best scene in the movie was when Gerardo i...      1"
      ]
     },
     "execution_count": 41,
     "metadata": {},
     "output_type": "execute_result"
    }
   ],
   "source": [
    "data5 = data.head(5)\n",
    "data5"
   ]
  },
  {
   "cell_type": "markdown",
   "metadata": {
    "slideshow": {
     "slide_type": "subslide"
    }
   },
   "source": [
    "**Classe CountVectorizer**\n",
    "\n",
    "[CountVectorizer](https://scikit-learn.org/stable/modules/generated/sklearn.feature_extraction.text.CountVectorizer.html) é uma classe da biblioteca scikit-learn que permite transformar uma coleção de sentenças e transformar essa coleção em uma tabela atributo valor:"
   ]
  },
  {
   "cell_type": "code",
   "execution_count": 42,
   "metadata": {},
   "outputs": [],
   "source": [
    "from sklearn.feature_extraction.text import CountVectorizer\n",
    "countVectorizer = CountVectorizer()\n",
    "#countVectorizer = CountVectorizer(preprocessor=preprocessar_sentenca)"
   ]
  },
  {
   "cell_type": "markdown",
   "metadata": {},
   "source": [
    "O método fit() permite que CountVectorizer conheça as palavras que estão contidas nesses textos."
   ]
  },
  {
   "cell_type": "code",
   "execution_count": 43,
   "metadata": {},
   "outputs": [
    {
     "data": {
      "text/plain": [
       "CountVectorizer(analyzer='word', binary=False, decode_error='strict',\n",
       "                dtype=<class 'numpy.int64'>, encoding='utf-8', input='content',\n",
       "                lowercase=True, max_df=1.0, max_features=None, min_df=1,\n",
       "                ngram_range=(1, 1), preprocessor=None, stop_words=None,\n",
       "                strip_accents=None, token_pattern='(?u)\\\\b\\\\w\\\\w+\\\\b',\n",
       "                tokenizer=None, vocabulary=None)"
      ]
     },
     "execution_count": 43,
     "metadata": {},
     "output_type": "execute_result"
    }
   ],
   "source": [
    "countVectorizer.fit(data5.Review)"
   ]
  },
  {
   "cell_type": "markdown",
   "metadata": {},
   "source": [
    "Note que alguns parámetros do CountVectorizer são: \n",
    "- max_features: considerar as M palavras mais frequências apenas\n",
    "- stop_words: passar lista de stop_words para remover\n",
    "- tokenizer: passar um tokenizador, por exemplo aquele da biblioteca nltk\n",
    "- preprocessor: passar uma função que realiza o pre-procesamento desejado, como a realizada na nossa avaliação."
   ]
  },
  {
   "cell_type": "markdown",
   "metadata": {
    "slideshow": {
     "slide_type": "subslide"
    }
   },
   "source": [
    "**Lista de Palavras Presentes na Coleção de Textos**"
   ]
  },
  {
   "cell_type": "code",
   "execution_count": 44,
   "metadata": {},
   "outputs": [
    {
     "name": "stdout",
     "output_type": "stream",
     "text": [
      "['about', 'acting', 'aimless', 'almost', 'and', 'angles', 'anything', 'artiness', 'as', 'attempting', 'audience', 'became', 'best', 'black', 'camera', 'characters', 'clever', 'disappointed', 'distressed', 'drifting', 'even', 'existent', 'find', 'flat', 'gerardo', 'half', 'head', 'his', 'in', 'is', 'keeps', 'lines', 'little', 'lost', 'man', 'more', 'movie', 'moving', 'music', 'nearly', 'non', 'not', 'of', 'or', 'out', 'plot', 'poor', 'ridiculous', 'running', 'scene', 'slow', 'song', 'speak', 'sure', 'that', 'the', 'through', 'to', 'trying', 'very', 'walked', 'was', 'when', 'white', 'who', 'whom', 'with', 'young']\n"
     ]
    }
   ],
   "source": [
    "print( countVectorizer.get_feature_names() )"
   ]
  },
  {
   "cell_type": "markdown",
   "metadata": {},
   "source": [
    "Estes termos seriam justamente o nome das colunas da nossa tabela atributo-valor para sentenças, e vamos utilizar isto em momento posterior."
   ]
  },
  {
   "cell_type": "markdown",
   "metadata": {
    "slideshow": {
     "slide_type": "subslide"
    }
   },
   "source": [
    "**Número de vezes que cada palavra foi encontrada na Coleção de Textos**"
   ]
  },
  {
   "cell_type": "code",
   "execution_count": 45,
   "metadata": {},
   "outputs": [
    {
     "data": {
      "text/plain": [
       "{'very': 59,\n",
       " 'slow': 50,\n",
       " 'moving': 37,\n",
       " 'aimless': 2,\n",
       " 'movie': 36,\n",
       " 'about': 0,\n",
       " 'distressed': 18,\n",
       " 'drifting': 19,\n",
       " 'young': 67,\n",
       " 'man': 34,\n",
       " 'not': 41,\n",
       " 'sure': 53,\n",
       " 'who': 64,\n",
       " 'was': 61,\n",
       " 'more': 35,\n",
       " 'lost': 33,\n",
       " 'the': 55,\n",
       " 'flat': 23,\n",
       " 'characters': 15,\n",
       " 'or': 43,\n",
       " 'audience': 10,\n",
       " 'nearly': 39,\n",
       " 'half': 25,\n",
       " 'of': 42,\n",
       " 'whom': 65,\n",
       " 'walked': 60,\n",
       " 'out': 44,\n",
       " 'attempting': 9,\n",
       " 'artiness': 7,\n",
       " 'with': 66,\n",
       " 'black': 13,\n",
       " 'white': 63,\n",
       " 'and': 4,\n",
       " 'clever': 16,\n",
       " 'camera': 14,\n",
       " 'angles': 5,\n",
       " 'disappointed': 17,\n",
       " 'became': 11,\n",
       " 'even': 20,\n",
       " 'ridiculous': 47,\n",
       " 'as': 8,\n",
       " 'acting': 1,\n",
       " 'poor': 46,\n",
       " 'plot': 45,\n",
       " 'lines': 31,\n",
       " 'almost': 3,\n",
       " 'non': 40,\n",
       " 'existent': 21,\n",
       " 'little': 32,\n",
       " 'music': 38,\n",
       " 'anything': 6,\n",
       " 'to': 57,\n",
       " 'speak': 52,\n",
       " 'best': 12,\n",
       " 'scene': 49,\n",
       " 'in': 28,\n",
       " 'when': 62,\n",
       " 'gerardo': 24,\n",
       " 'is': 29,\n",
       " 'trying': 58,\n",
       " 'find': 22,\n",
       " 'song': 51,\n",
       " 'that': 54,\n",
       " 'keeps': 30,\n",
       " 'running': 48,\n",
       " 'through': 56,\n",
       " 'his': 27,\n",
       " 'head': 26}"
      ]
     },
     "execution_count": 45,
     "metadata": {},
     "output_type": "execute_result"
    }
   ],
   "source": [
    "countVectorizer.vocabulary_"
   ]
  },
  {
   "cell_type": "markdown",
   "metadata": {
    "slideshow": {
     "slide_type": "subslide"
    }
   },
   "source": [
    "**Transformação do Conjunto no Formato Atributo-Valor**"
   ]
  },
  {
   "cell_type": "markdown",
   "metadata": {},
   "source": [
    "Primeiramente vetorizamos cada um dos textos, utilizando a função `trasform`. A biblioteca usa um representação interna de tabelas esparsas (que tem pouco valores diferentes de zero)"
   ]
  },
  {
   "cell_type": "code",
   "execution_count": 46,
   "metadata": {},
   "outputs": [
    {
     "data": {
      "text/plain": [
       "<5x68 sparse matrix of type '<class 'numpy.int64'>'\n",
       "\twith 79 stored elements in Compressed Sparse Row format>"
      ]
     },
     "execution_count": 46,
     "metadata": {},
     "output_type": "execute_result"
    }
   ],
   "source": [
    "data5_vectorized = countVectorizer.transform(data5.Review)\n",
    "data5_vectorized"
   ]
  },
  {
   "cell_type": "markdown",
   "metadata": {
    "slideshow": {
     "slide_type": "subslide"
    }
   },
   "source": [
    "No entanto, podemos visualizar os dados na sua forma densa, no formato de uma matriz, em que cada linha é uma sentença."
   ]
  },
  {
   "cell_type": "code",
   "execution_count": 47,
   "metadata": {},
   "outputs": [
    {
     "data": {
      "text/plain": [
       "matrix([[1, 0, 1, 0, 0, 0, 0, 0, 0, 0, 0, 0, 0, 0, 0, 0, 0, 0, 1, 1, 0,\n",
       "         0, 0, 0, 0, 0, 0, 0, 0, 0, 0, 0, 0, 0, 1, 0, 1, 1, 0, 0, 0, 0,\n",
       "         0, 0, 0, 0, 0, 0, 0, 0, 1, 0, 0, 0, 0, 0, 0, 0, 0, 3, 0, 0, 0,\n",
       "         0, 0, 0, 0, 1],\n",
       "        [0, 0, 0, 0, 0, 0, 0, 0, 0, 0, 1, 0, 0, 0, 0, 1, 0, 0, 0, 0, 0,\n",
       "         0, 0, 1, 0, 1, 0, 0, 0, 0, 0, 0, 0, 1, 0, 1, 0, 0, 0, 1, 0, 1,\n",
       "         1, 1, 1, 0, 0, 0, 0, 0, 0, 0, 0, 1, 0, 2, 0, 0, 0, 0, 1, 1, 0,\n",
       "         0, 1, 1, 0, 0],\n",
       "        [0, 1, 0, 1, 3, 1, 0, 1, 1, 1, 0, 1, 0, 1, 1, 0, 1, 1, 0, 0, 1,\n",
       "         1, 0, 0, 0, 0, 0, 0, 0, 0, 0, 1, 0, 0, 0, 1, 1, 0, 0, 0, 1, 0,\n",
       "         0, 0, 0, 1, 1, 1, 0, 0, 0, 0, 0, 0, 0, 3, 0, 0, 0, 0, 0, 1, 0,\n",
       "         1, 0, 0, 1, 0],\n",
       "        [0, 0, 0, 0, 0, 0, 1, 0, 0, 0, 0, 0, 0, 0, 0, 0, 0, 0, 0, 0, 0,\n",
       "         0, 0, 0, 0, 0, 0, 0, 0, 0, 0, 0, 1, 0, 0, 0, 0, 0, 1, 0, 0, 0,\n",
       "         1, 1, 0, 0, 0, 0, 0, 0, 0, 0, 1, 0, 0, 0, 0, 1, 0, 1, 0, 0, 0,\n",
       "         0, 0, 0, 0, 0],\n",
       "        [0, 0, 0, 0, 0, 0, 0, 0, 0, 0, 0, 0, 1, 0, 0, 0, 0, 0, 0, 0, 0,\n",
       "         0, 1, 0, 1, 0, 1, 1, 1, 1, 1, 0, 0, 0, 0, 0, 1, 0, 0, 0, 0, 0,\n",
       "         0, 0, 0, 0, 0, 0, 1, 1, 0, 1, 0, 0, 1, 2, 1, 1, 1, 0, 0, 1, 1,\n",
       "         0, 0, 0, 0, 0]], dtype=int64)"
      ]
     },
     "execution_count": 47,
     "metadata": {},
     "output_type": "execute_result"
    }
   ],
   "source": [
    "data5_vectorized.todense()"
   ]
  },
  {
   "cell_type": "markdown",
   "metadata": {
    "slideshow": {
     "slide_type": "subslide"
    }
   },
   "source": [
    "Para visualizar melhor vamos mostrar isso em um DataFrame, que é o mais próximo a uma tabela atributo-valor"
   ]
  },
  {
   "cell_type": "code",
   "execution_count": 48,
   "metadata": {},
   "outputs": [],
   "source": [
    "df_tf = pd.DataFrame(data = data5_vectorized.todense(), columns = countVectorizer.get_feature_names())"
   ]
  },
  {
   "cell_type": "code",
   "execution_count": 49,
   "metadata": {},
   "outputs": [
    {
     "data": {
      "text/html": [
       "<div>\n",
       "<style scoped>\n",
       "    .dataframe tbody tr th:only-of-type {\n",
       "        vertical-align: middle;\n",
       "    }\n",
       "\n",
       "    .dataframe tbody tr th {\n",
       "        vertical-align: top;\n",
       "    }\n",
       "\n",
       "    .dataframe thead th {\n",
       "        text-align: right;\n",
       "    }\n",
       "</style>\n",
       "<table border=\"1\" class=\"dataframe\">\n",
       "  <thead>\n",
       "    <tr style=\"text-align: right;\">\n",
       "      <th></th>\n",
       "      <th>about</th>\n",
       "      <th>acting</th>\n",
       "      <th>aimless</th>\n",
       "      <th>almost</th>\n",
       "      <th>and</th>\n",
       "      <th>angles</th>\n",
       "      <th>anything</th>\n",
       "      <th>artiness</th>\n",
       "      <th>as</th>\n",
       "      <th>attempting</th>\n",
       "      <th>...</th>\n",
       "      <th>trying</th>\n",
       "      <th>very</th>\n",
       "      <th>walked</th>\n",
       "      <th>was</th>\n",
       "      <th>when</th>\n",
       "      <th>white</th>\n",
       "      <th>who</th>\n",
       "      <th>whom</th>\n",
       "      <th>with</th>\n",
       "      <th>young</th>\n",
       "    </tr>\n",
       "  </thead>\n",
       "  <tbody>\n",
       "    <tr>\n",
       "      <th>0</th>\n",
       "      <td>1</td>\n",
       "      <td>0</td>\n",
       "      <td>1</td>\n",
       "      <td>0</td>\n",
       "      <td>0</td>\n",
       "      <td>0</td>\n",
       "      <td>0</td>\n",
       "      <td>0</td>\n",
       "      <td>0</td>\n",
       "      <td>0</td>\n",
       "      <td>...</td>\n",
       "      <td>0</td>\n",
       "      <td>3</td>\n",
       "      <td>0</td>\n",
       "      <td>0</td>\n",
       "      <td>0</td>\n",
       "      <td>0</td>\n",
       "      <td>0</td>\n",
       "      <td>0</td>\n",
       "      <td>0</td>\n",
       "      <td>1</td>\n",
       "    </tr>\n",
       "    <tr>\n",
       "      <th>1</th>\n",
       "      <td>0</td>\n",
       "      <td>0</td>\n",
       "      <td>0</td>\n",
       "      <td>0</td>\n",
       "      <td>0</td>\n",
       "      <td>0</td>\n",
       "      <td>0</td>\n",
       "      <td>0</td>\n",
       "      <td>0</td>\n",
       "      <td>0</td>\n",
       "      <td>...</td>\n",
       "      <td>0</td>\n",
       "      <td>0</td>\n",
       "      <td>1</td>\n",
       "      <td>1</td>\n",
       "      <td>0</td>\n",
       "      <td>0</td>\n",
       "      <td>1</td>\n",
       "      <td>1</td>\n",
       "      <td>0</td>\n",
       "      <td>0</td>\n",
       "    </tr>\n",
       "    <tr>\n",
       "      <th>2</th>\n",
       "      <td>0</td>\n",
       "      <td>1</td>\n",
       "      <td>0</td>\n",
       "      <td>1</td>\n",
       "      <td>3</td>\n",
       "      <td>1</td>\n",
       "      <td>0</td>\n",
       "      <td>1</td>\n",
       "      <td>1</td>\n",
       "      <td>1</td>\n",
       "      <td>...</td>\n",
       "      <td>0</td>\n",
       "      <td>0</td>\n",
       "      <td>0</td>\n",
       "      <td>1</td>\n",
       "      <td>0</td>\n",
       "      <td>1</td>\n",
       "      <td>0</td>\n",
       "      <td>0</td>\n",
       "      <td>1</td>\n",
       "      <td>0</td>\n",
       "    </tr>\n",
       "    <tr>\n",
       "      <th>3</th>\n",
       "      <td>0</td>\n",
       "      <td>0</td>\n",
       "      <td>0</td>\n",
       "      <td>0</td>\n",
       "      <td>0</td>\n",
       "      <td>0</td>\n",
       "      <td>1</td>\n",
       "      <td>0</td>\n",
       "      <td>0</td>\n",
       "      <td>0</td>\n",
       "      <td>...</td>\n",
       "      <td>0</td>\n",
       "      <td>1</td>\n",
       "      <td>0</td>\n",
       "      <td>0</td>\n",
       "      <td>0</td>\n",
       "      <td>0</td>\n",
       "      <td>0</td>\n",
       "      <td>0</td>\n",
       "      <td>0</td>\n",
       "      <td>0</td>\n",
       "    </tr>\n",
       "    <tr>\n",
       "      <th>4</th>\n",
       "      <td>0</td>\n",
       "      <td>0</td>\n",
       "      <td>0</td>\n",
       "      <td>0</td>\n",
       "      <td>0</td>\n",
       "      <td>0</td>\n",
       "      <td>0</td>\n",
       "      <td>0</td>\n",
       "      <td>0</td>\n",
       "      <td>0</td>\n",
       "      <td>...</td>\n",
       "      <td>1</td>\n",
       "      <td>0</td>\n",
       "      <td>0</td>\n",
       "      <td>1</td>\n",
       "      <td>1</td>\n",
       "      <td>0</td>\n",
       "      <td>0</td>\n",
       "      <td>0</td>\n",
       "      <td>0</td>\n",
       "      <td>0</td>\n",
       "    </tr>\n",
       "  </tbody>\n",
       "</table>\n",
       "<p>5 rows × 68 columns</p>\n",
       "</div>"
      ],
      "text/plain": [
       "   about  acting  aimless  almost  and  angles  anything  artiness  as  \\\n",
       "0      1       0        1       0    0       0         0         0   0   \n",
       "1      0       0        0       0    0       0         0         0   0   \n",
       "2      0       1        0       1    3       1         0         1   1   \n",
       "3      0       0        0       0    0       0         1         0   0   \n",
       "4      0       0        0       0    0       0         0         0   0   \n",
       "\n",
       "   attempting  ...  trying  very  walked  was  when  white  who  whom  with  \\\n",
       "0           0  ...       0     3       0    0     0      0    0     0     0   \n",
       "1           0  ...       0     0       1    1     0      0    1     1     0   \n",
       "2           1  ...       0     0       0    1     0      1    0     0     1   \n",
       "3           0  ...       0     1       0    0     0      0    0     0     0   \n",
       "4           0  ...       1     0       0    1     1      0    0     0     0   \n",
       "\n",
       "   young  \n",
       "0      1  \n",
       "1      0  \n",
       "2      0  \n",
       "3      0  \n",
       "4      0  \n",
       "\n",
       "[5 rows x 68 columns]"
      ]
     },
     "execution_count": 49,
     "metadata": {},
     "output_type": "execute_result"
    }
   ],
   "source": [
    "df_tf"
   ]
  },
  {
   "cell_type": "markdown",
   "metadata": {},
   "source": [
    "Como exemplo, o termo **and** aparece 3 (três) vezes no terceiro texto, vejamos"
   ]
  },
  {
   "cell_type": "code",
   "execution_count": 50,
   "metadata": {},
   "outputs": [
    {
     "data": {
      "text/html": [
       "Attempting artiness with black & white <b>and</b> clever camera angles, the movie disappointed - became even more ridiculous - as the acting was poor <b>and</b> the plot <b>and</b> lines almost non-existent.  "
      ],
      "text/plain": [
       "<IPython.core.display.HTML object>"
      ]
     },
     "metadata": {},
     "output_type": "display_data"
    }
   ],
   "source": [
    "from IPython.core.display import display, HTML\n",
    "display(\n",
    "    HTML(\n",
    "        data5.Review[2].replace('and',  '<b>and</b>')\n",
    "    )\n",
    ")"
   ]
  },
  {
   "cell_type": "markdown",
   "metadata": {
    "slideshow": {
     "slide_type": "subslide"
    }
   },
   "source": [
    "Para ficar como a nossa definição anterior de tabela-atributo valor supervisonada, podemos adicionar o atributo classe `class_label`. Usamos desta forma para que não seja confundido com o termo `class`."
   ]
  },
  {
   "cell_type": "code",
   "execution_count": 51,
   "metadata": {},
   "outputs": [],
   "source": [
    "df_tf['class_label'] = data5.Label"
   ]
  },
  {
   "cell_type": "code",
   "execution_count": 52,
   "metadata": {},
   "outputs": [
    {
     "data": {
      "text/html": [
       "<div>\n",
       "<style scoped>\n",
       "    .dataframe tbody tr th:only-of-type {\n",
       "        vertical-align: middle;\n",
       "    }\n",
       "\n",
       "    .dataframe tbody tr th {\n",
       "        vertical-align: top;\n",
       "    }\n",
       "\n",
       "    .dataframe thead th {\n",
       "        text-align: right;\n",
       "    }\n",
       "</style>\n",
       "<table border=\"1\" class=\"dataframe\">\n",
       "  <thead>\n",
       "    <tr style=\"text-align: right;\">\n",
       "      <th></th>\n",
       "      <th>about</th>\n",
       "      <th>acting</th>\n",
       "      <th>aimless</th>\n",
       "      <th>almost</th>\n",
       "      <th>and</th>\n",
       "      <th>angles</th>\n",
       "      <th>anything</th>\n",
       "      <th>artiness</th>\n",
       "      <th>as</th>\n",
       "      <th>attempting</th>\n",
       "      <th>...</th>\n",
       "      <th>very</th>\n",
       "      <th>walked</th>\n",
       "      <th>was</th>\n",
       "      <th>when</th>\n",
       "      <th>white</th>\n",
       "      <th>who</th>\n",
       "      <th>whom</th>\n",
       "      <th>with</th>\n",
       "      <th>young</th>\n",
       "      <th>class_label</th>\n",
       "    </tr>\n",
       "  </thead>\n",
       "  <tbody>\n",
       "    <tr>\n",
       "      <th>0</th>\n",
       "      <td>1</td>\n",
       "      <td>0</td>\n",
       "      <td>1</td>\n",
       "      <td>0</td>\n",
       "      <td>0</td>\n",
       "      <td>0</td>\n",
       "      <td>0</td>\n",
       "      <td>0</td>\n",
       "      <td>0</td>\n",
       "      <td>0</td>\n",
       "      <td>...</td>\n",
       "      <td>3</td>\n",
       "      <td>0</td>\n",
       "      <td>0</td>\n",
       "      <td>0</td>\n",
       "      <td>0</td>\n",
       "      <td>0</td>\n",
       "      <td>0</td>\n",
       "      <td>0</td>\n",
       "      <td>1</td>\n",
       "      <td>0</td>\n",
       "    </tr>\n",
       "    <tr>\n",
       "      <th>1</th>\n",
       "      <td>0</td>\n",
       "      <td>0</td>\n",
       "      <td>0</td>\n",
       "      <td>0</td>\n",
       "      <td>0</td>\n",
       "      <td>0</td>\n",
       "      <td>0</td>\n",
       "      <td>0</td>\n",
       "      <td>0</td>\n",
       "      <td>0</td>\n",
       "      <td>...</td>\n",
       "      <td>0</td>\n",
       "      <td>1</td>\n",
       "      <td>1</td>\n",
       "      <td>0</td>\n",
       "      <td>0</td>\n",
       "      <td>1</td>\n",
       "      <td>1</td>\n",
       "      <td>0</td>\n",
       "      <td>0</td>\n",
       "      <td>0</td>\n",
       "    </tr>\n",
       "    <tr>\n",
       "      <th>2</th>\n",
       "      <td>0</td>\n",
       "      <td>1</td>\n",
       "      <td>0</td>\n",
       "      <td>1</td>\n",
       "      <td>3</td>\n",
       "      <td>1</td>\n",
       "      <td>0</td>\n",
       "      <td>1</td>\n",
       "      <td>1</td>\n",
       "      <td>1</td>\n",
       "      <td>...</td>\n",
       "      <td>0</td>\n",
       "      <td>0</td>\n",
       "      <td>1</td>\n",
       "      <td>0</td>\n",
       "      <td>1</td>\n",
       "      <td>0</td>\n",
       "      <td>0</td>\n",
       "      <td>1</td>\n",
       "      <td>0</td>\n",
       "      <td>0</td>\n",
       "    </tr>\n",
       "    <tr>\n",
       "      <th>3</th>\n",
       "      <td>0</td>\n",
       "      <td>0</td>\n",
       "      <td>0</td>\n",
       "      <td>0</td>\n",
       "      <td>0</td>\n",
       "      <td>0</td>\n",
       "      <td>1</td>\n",
       "      <td>0</td>\n",
       "      <td>0</td>\n",
       "      <td>0</td>\n",
       "      <td>...</td>\n",
       "      <td>1</td>\n",
       "      <td>0</td>\n",
       "      <td>0</td>\n",
       "      <td>0</td>\n",
       "      <td>0</td>\n",
       "      <td>0</td>\n",
       "      <td>0</td>\n",
       "      <td>0</td>\n",
       "      <td>0</td>\n",
       "      <td>0</td>\n",
       "    </tr>\n",
       "    <tr>\n",
       "      <th>4</th>\n",
       "      <td>0</td>\n",
       "      <td>0</td>\n",
       "      <td>0</td>\n",
       "      <td>0</td>\n",
       "      <td>0</td>\n",
       "      <td>0</td>\n",
       "      <td>0</td>\n",
       "      <td>0</td>\n",
       "      <td>0</td>\n",
       "      <td>0</td>\n",
       "      <td>...</td>\n",
       "      <td>0</td>\n",
       "      <td>0</td>\n",
       "      <td>1</td>\n",
       "      <td>1</td>\n",
       "      <td>0</td>\n",
       "      <td>0</td>\n",
       "      <td>0</td>\n",
       "      <td>0</td>\n",
       "      <td>0</td>\n",
       "      <td>1</td>\n",
       "    </tr>\n",
       "  </tbody>\n",
       "</table>\n",
       "<p>5 rows × 69 columns</p>\n",
       "</div>"
      ],
      "text/plain": [
       "   about  acting  aimless  almost  and  angles  anything  artiness  as  \\\n",
       "0      1       0        1       0    0       0         0         0   0   \n",
       "1      0       0        0       0    0       0         0         0   0   \n",
       "2      0       1        0       1    3       1         0         1   1   \n",
       "3      0       0        0       0    0       0         1         0   0   \n",
       "4      0       0        0       0    0       0         0         0   0   \n",
       "\n",
       "   attempting  ...  very  walked  was  when  white  who  whom  with  young  \\\n",
       "0           0  ...     3       0    0     0      0    0     0     0      1   \n",
       "1           0  ...     0       1    1     0      0    1     1     0      0   \n",
       "2           1  ...     0       0    1     0      1    0     0     1      0   \n",
       "3           0  ...     1       0    0     0      0    0     0     0      0   \n",
       "4           0  ...     0       0    1     1      0    0     0     0      0   \n",
       "\n",
       "   class_label  \n",
       "0            0  \n",
       "1            0  \n",
       "2            0  \n",
       "3            0  \n",
       "4            1  \n",
       "\n",
       "[5 rows x 69 columns]"
      ]
     },
     "execution_count": 52,
     "metadata": {},
     "output_type": "execute_result"
    }
   ],
   "source": [
    "df_tf"
   ]
  },
  {
   "cell_type": "markdown",
   "metadata": {
    "slideshow": {
     "slide_type": "subslide"
    }
   },
   "source": [
    "#### Pré-processando a Sentença com CountVectorizer"
   ]
  },
  {
   "cell_type": "code",
   "execution_count": 53,
   "metadata": {},
   "outputs": [
    {
     "name": "stdout",
     "output_type": "stream",
     "text": [
      "def preprocessar_sentenca(sentenca):\n",
      "    \"\"\"Esta função preprocessa um conjunto de sentenças\n",
      "\n",
      "    Parameters:\n",
      "    sentenca (string): uma sentenca\n",
      "\n",
      "    Returns:\n",
      "    array: um array de palavras tokens pré-processados\n",
      "   \"\"\"    \n",
      "    x = sentenca \n",
      "    x = tokenizar(x)\n",
      "    x = remover_pontuacao(x)\n",
      "    x = remover_stopwords(x)\n",
      "    x = aplicar_stemming(x)\n",
      "    \n",
      "    return ' '.join(x)\n",
      "\n"
     ]
    }
   ],
   "source": [
    "import inspect\n",
    "from helper import preprocessar_sentenca\n",
    "print( inspect.getsource(preprocessar_sentenca) )"
   ]
  },
  {
   "cell_type": "code",
   "execution_count": 54,
   "metadata": {
    "slideshow": {
     "slide_type": "subslide"
    }
   },
   "outputs": [
    {
     "name": "stdout",
     "output_type": "stream",
     "text": [
      "Número de termos sem pré-processar:  68\n",
      "Número de termos com pré-processar:  50\n"
     ]
    }
   ],
   "source": [
    "countVectorizer = CountVectorizer()\n",
    "countVectorizer_pre = CountVectorizer(preprocessor=preprocessar_sentenca)\n",
    "\n",
    "countVectorizer.fit(data5.Review)\n",
    "countVectorizer_pre.fit(data5.Review)\n",
    "\n",
    "print('Número de termos sem pré-processar: ', len(countVectorizer.get_feature_names()) )\n",
    "print('Número de termos com pré-processar: ', len(countVectorizer_pre.get_feature_names()) )"
   ]
  },
  {
   "cell_type": "code",
   "execution_count": 55,
   "metadata": {
    "slideshow": {
     "slide_type": "subslide"
    }
   },
   "outputs": [
    {
     "data": {
      "text/html": [
       "<div>\n",
       "<style scoped>\n",
       "    .dataframe tbody tr th:only-of-type {\n",
       "        vertical-align: middle;\n",
       "    }\n",
       "\n",
       "    .dataframe tbody tr th {\n",
       "        vertical-align: top;\n",
       "    }\n",
       "\n",
       "    .dataframe thead th {\n",
       "        text-align: right;\n",
       "    }\n",
       "</style>\n",
       "<table border=\"1\" class=\"dataframe\">\n",
       "  <thead>\n",
       "    <tr style=\"text-align: right;\">\n",
       "      <th></th>\n",
       "      <th>act</th>\n",
       "      <th>aimless</th>\n",
       "      <th>almost</th>\n",
       "      <th>angl</th>\n",
       "      <th>anyth</th>\n",
       "      <th>arti</th>\n",
       "      <th>attempt</th>\n",
       "      <th>audienc</th>\n",
       "      <th>becam</th>\n",
       "      <th>best</th>\n",
       "      <th>...</th>\n",
       "      <th>slow</th>\n",
       "      <th>song</th>\n",
       "      <th>speak</th>\n",
       "      <th>sure</th>\n",
       "      <th>the</th>\n",
       "      <th>tri</th>\n",
       "      <th>veri</th>\n",
       "      <th>walk</th>\n",
       "      <th>white</th>\n",
       "      <th>young</th>\n",
       "    </tr>\n",
       "  </thead>\n",
       "  <tbody>\n",
       "    <tr>\n",
       "      <th>0</th>\n",
       "      <td>0</td>\n",
       "      <td>1</td>\n",
       "      <td>0</td>\n",
       "      <td>0</td>\n",
       "      <td>0</td>\n",
       "      <td>0</td>\n",
       "      <td>0</td>\n",
       "      <td>0</td>\n",
       "      <td>0</td>\n",
       "      <td>0</td>\n",
       "      <td>...</td>\n",
       "      <td>1</td>\n",
       "      <td>0</td>\n",
       "      <td>0</td>\n",
       "      <td>0</td>\n",
       "      <td>0</td>\n",
       "      <td>0</td>\n",
       "      <td>0</td>\n",
       "      <td>0</td>\n",
       "      <td>0</td>\n",
       "      <td>1</td>\n",
       "    </tr>\n",
       "    <tr>\n",
       "      <th>1</th>\n",
       "      <td>0</td>\n",
       "      <td>0</td>\n",
       "      <td>0</td>\n",
       "      <td>0</td>\n",
       "      <td>0</td>\n",
       "      <td>0</td>\n",
       "      <td>0</td>\n",
       "      <td>1</td>\n",
       "      <td>0</td>\n",
       "      <td>0</td>\n",
       "      <td>...</td>\n",
       "      <td>0</td>\n",
       "      <td>0</td>\n",
       "      <td>0</td>\n",
       "      <td>1</td>\n",
       "      <td>0</td>\n",
       "      <td>0</td>\n",
       "      <td>0</td>\n",
       "      <td>1</td>\n",
       "      <td>0</td>\n",
       "      <td>0</td>\n",
       "    </tr>\n",
       "    <tr>\n",
       "      <th>2</th>\n",
       "      <td>1</td>\n",
       "      <td>0</td>\n",
       "      <td>1</td>\n",
       "      <td>1</td>\n",
       "      <td>0</td>\n",
       "      <td>1</td>\n",
       "      <td>1</td>\n",
       "      <td>0</td>\n",
       "      <td>1</td>\n",
       "      <td>0</td>\n",
       "      <td>...</td>\n",
       "      <td>0</td>\n",
       "      <td>0</td>\n",
       "      <td>0</td>\n",
       "      <td>0</td>\n",
       "      <td>0</td>\n",
       "      <td>0</td>\n",
       "      <td>0</td>\n",
       "      <td>0</td>\n",
       "      <td>1</td>\n",
       "      <td>0</td>\n",
       "    </tr>\n",
       "    <tr>\n",
       "      <th>3</th>\n",
       "      <td>0</td>\n",
       "      <td>0</td>\n",
       "      <td>0</td>\n",
       "      <td>0</td>\n",
       "      <td>1</td>\n",
       "      <td>0</td>\n",
       "      <td>0</td>\n",
       "      <td>0</td>\n",
       "      <td>0</td>\n",
       "      <td>0</td>\n",
       "      <td>...</td>\n",
       "      <td>0</td>\n",
       "      <td>0</td>\n",
       "      <td>1</td>\n",
       "      <td>0</td>\n",
       "      <td>0</td>\n",
       "      <td>0</td>\n",
       "      <td>1</td>\n",
       "      <td>0</td>\n",
       "      <td>0</td>\n",
       "      <td>0</td>\n",
       "    </tr>\n",
       "    <tr>\n",
       "      <th>4</th>\n",
       "      <td>0</td>\n",
       "      <td>0</td>\n",
       "      <td>0</td>\n",
       "      <td>0</td>\n",
       "      <td>0</td>\n",
       "      <td>0</td>\n",
       "      <td>0</td>\n",
       "      <td>0</td>\n",
       "      <td>0</td>\n",
       "      <td>1</td>\n",
       "      <td>...</td>\n",
       "      <td>0</td>\n",
       "      <td>1</td>\n",
       "      <td>0</td>\n",
       "      <td>0</td>\n",
       "      <td>1</td>\n",
       "      <td>1</td>\n",
       "      <td>0</td>\n",
       "      <td>0</td>\n",
       "      <td>0</td>\n",
       "      <td>0</td>\n",
       "    </tr>\n",
       "  </tbody>\n",
       "</table>\n",
       "<p>5 rows × 50 columns</p>\n",
       "</div>"
      ],
      "text/plain": [
       "   act  aimless  almost  angl  anyth  arti  attempt  audienc  becam  best  \\\n",
       "0    0        1       0     0      0     0        0        0      0     0   \n",
       "1    0        0       0     0      0     0        0        1      0     0   \n",
       "2    1        0       1     1      0     1        1        0      1     0   \n",
       "3    0        0       0     0      1     0        0        0      0     0   \n",
       "4    0        0       0     0      0     0        0        0      0     1   \n",
       "\n",
       "   ...  slow  song  speak  sure  the  tri  veri  walk  white  young  \n",
       "0  ...     1     0      0     0    0    0     0     0      0      1  \n",
       "1  ...     0     0      0     1    0    0     0     1      0      0  \n",
       "2  ...     0     0      0     0    0    0     0     0      1      0  \n",
       "3  ...     0     0      1     0    0    0     1     0      0      0  \n",
       "4  ...     0     1      0     0    1    1     0     0      0      0  \n",
       "\n",
       "[5 rows x 50 columns]"
      ]
     },
     "execution_count": 55,
     "metadata": {},
     "output_type": "execute_result"
    }
   ],
   "source": [
    "df_tf_pre = pd.DataFrame(\n",
    "    data = countVectorizer_pre.transform(data5.Review).todense(), \n",
    "    columns = countVectorizer_pre.get_feature_names()\n",
    ")\n",
    "\n",
    "df_tf_pre"
   ]
  },
  {
   "cell_type": "markdown",
   "metadata": {
    "slideshow": {
     "slide_type": "subslide"
    }
   },
   "source": [
    "### N-Grams \n",
    "\n",
    "- Suponha as seguintes frases:\n",
    "    - **Frase 1**: 'I hate comedian films, but I like this film' (classe Positiva)\n",
    "    - **Frase 2**: 'I like comedian films, but I hate this film' (classe Negativa)\n",
    "- Ao analisar as seguintes frases observamos que ambas possuem os mesmos termos, no entanto são claramente de classes diferentes.\n",
    "- Devem ter observado que ao analisar a importância de cada palavra em relação à classe ou mesmo usar uma tabela atributo valor, não se tem mais ideia da ordem das palavras (apenas a presença/ausência, contagem ou importância), de cada termo no texto. Dessa forma, pela tabela atributo valor não haveria diferença entre a **Frase 1** e a **Frase 2**.\n",
    "- O conceito de *N-gramas* é o considerar uma sequência de palavras como um atributo.\n",
    "- Com *n-gramas* podemos analisar:\n",
    "    - Os bi-gramas 'hate comedian' e 'like comedian'\n",
    "    - Os tri-gramas 'like this film' e 'hate this film'\n",
    "    - Isso pode trazer benefícios na análise mais completa das frases"
   ]
  },
  {
   "cell_type": "markdown",
   "metadata": {
    "slideshow": {
     "slide_type": "subslide"
    }
   },
   "source": [
    "**Exemplo de Implementação**\n",
    "\n",
    "Vamos considerar n-gramas de tamanho 1 a 3, ou seja unigramas, bigramas e trigramas."
   ]
  },
  {
   "cell_type": "code",
   "execution_count": 56,
   "metadata": {
    "slideshow": {
     "slide_type": "-"
    }
   },
   "outputs": [
    {
     "name": "stdout",
     "output_type": "stream",
     "text": [
      "Número de atributos sem n-gramas:  68\n",
      "Número de atributos com n-gramas (1,3):  225\n"
     ]
    }
   ],
   "source": [
    "countVectorizer = CountVectorizer()\n",
    "countVectorizer_ngrams = CountVectorizer( ngram_range = (1,3) )\n",
    "\n",
    "countVectorizer.fit(data5.Review)\n",
    "countVectorizer_ngrams.fit(data5.Review)\n",
    "\n",
    "print('Número de atributos sem n-gramas: ', len(countVectorizer.get_feature_names()) )\n",
    "print('Número de atributos com n-gramas (1,3): ', len(countVectorizer_ngrams.get_feature_names()) )"
   ]
  },
  {
   "cell_type": "markdown",
   "metadata": {
    "slideshow": {
     "slide_type": "subslide"
    }
   },
   "source": [
    "Tabela no formato atributo-valor usando n-gramas"
   ]
  },
  {
   "cell_type": "code",
   "execution_count": 57,
   "metadata": {
    "slideshow": {
     "slide_type": "-"
    }
   },
   "outputs": [
    {
     "data": {
      "text/html": [
       "<div>\n",
       "<style scoped>\n",
       "    .dataframe tbody tr th:only-of-type {\n",
       "        vertical-align: middle;\n",
       "    }\n",
       "\n",
       "    .dataframe tbody tr th {\n",
       "        vertical-align: top;\n",
       "    }\n",
       "\n",
       "    .dataframe thead th {\n",
       "        text-align: right;\n",
       "    }\n",
       "</style>\n",
       "<table border=\"1\" class=\"dataframe\">\n",
       "  <thead>\n",
       "    <tr style=\"text-align: right;\">\n",
       "      <th></th>\n",
       "      <th>about</th>\n",
       "      <th>about distressed</th>\n",
       "      <th>about distressed drifting</th>\n",
       "      <th>acting</th>\n",
       "      <th>acting was</th>\n",
       "      <th>acting was poor</th>\n",
       "      <th>aimless</th>\n",
       "      <th>aimless movie</th>\n",
       "      <th>aimless movie about</th>\n",
       "      <th>almost</th>\n",
       "      <th>...</th>\n",
       "      <th>who was</th>\n",
       "      <th>who was more</th>\n",
       "      <th>whom</th>\n",
       "      <th>whom walked</th>\n",
       "      <th>whom walked out</th>\n",
       "      <th>with</th>\n",
       "      <th>with black</th>\n",
       "      <th>with black white</th>\n",
       "      <th>young</th>\n",
       "      <th>young man</th>\n",
       "    </tr>\n",
       "  </thead>\n",
       "  <tbody>\n",
       "    <tr>\n",
       "      <th>0</th>\n",
       "      <td>1</td>\n",
       "      <td>1</td>\n",
       "      <td>1</td>\n",
       "      <td>0</td>\n",
       "      <td>0</td>\n",
       "      <td>0</td>\n",
       "      <td>1</td>\n",
       "      <td>1</td>\n",
       "      <td>1</td>\n",
       "      <td>0</td>\n",
       "      <td>...</td>\n",
       "      <td>0</td>\n",
       "      <td>0</td>\n",
       "      <td>0</td>\n",
       "      <td>0</td>\n",
       "      <td>0</td>\n",
       "      <td>0</td>\n",
       "      <td>0</td>\n",
       "      <td>0</td>\n",
       "      <td>1</td>\n",
       "      <td>1</td>\n",
       "    </tr>\n",
       "    <tr>\n",
       "      <th>1</th>\n",
       "      <td>0</td>\n",
       "      <td>0</td>\n",
       "      <td>0</td>\n",
       "      <td>0</td>\n",
       "      <td>0</td>\n",
       "      <td>0</td>\n",
       "      <td>0</td>\n",
       "      <td>0</td>\n",
       "      <td>0</td>\n",
       "      <td>0</td>\n",
       "      <td>...</td>\n",
       "      <td>1</td>\n",
       "      <td>1</td>\n",
       "      <td>1</td>\n",
       "      <td>1</td>\n",
       "      <td>1</td>\n",
       "      <td>0</td>\n",
       "      <td>0</td>\n",
       "      <td>0</td>\n",
       "      <td>0</td>\n",
       "      <td>0</td>\n",
       "    </tr>\n",
       "    <tr>\n",
       "      <th>2</th>\n",
       "      <td>0</td>\n",
       "      <td>0</td>\n",
       "      <td>0</td>\n",
       "      <td>1</td>\n",
       "      <td>1</td>\n",
       "      <td>1</td>\n",
       "      <td>0</td>\n",
       "      <td>0</td>\n",
       "      <td>0</td>\n",
       "      <td>1</td>\n",
       "      <td>...</td>\n",
       "      <td>0</td>\n",
       "      <td>0</td>\n",
       "      <td>0</td>\n",
       "      <td>0</td>\n",
       "      <td>0</td>\n",
       "      <td>1</td>\n",
       "      <td>1</td>\n",
       "      <td>1</td>\n",
       "      <td>0</td>\n",
       "      <td>0</td>\n",
       "    </tr>\n",
       "    <tr>\n",
       "      <th>3</th>\n",
       "      <td>0</td>\n",
       "      <td>0</td>\n",
       "      <td>0</td>\n",
       "      <td>0</td>\n",
       "      <td>0</td>\n",
       "      <td>0</td>\n",
       "      <td>0</td>\n",
       "      <td>0</td>\n",
       "      <td>0</td>\n",
       "      <td>0</td>\n",
       "      <td>...</td>\n",
       "      <td>0</td>\n",
       "      <td>0</td>\n",
       "      <td>0</td>\n",
       "      <td>0</td>\n",
       "      <td>0</td>\n",
       "      <td>0</td>\n",
       "      <td>0</td>\n",
       "      <td>0</td>\n",
       "      <td>0</td>\n",
       "      <td>0</td>\n",
       "    </tr>\n",
       "    <tr>\n",
       "      <th>4</th>\n",
       "      <td>0</td>\n",
       "      <td>0</td>\n",
       "      <td>0</td>\n",
       "      <td>0</td>\n",
       "      <td>0</td>\n",
       "      <td>0</td>\n",
       "      <td>0</td>\n",
       "      <td>0</td>\n",
       "      <td>0</td>\n",
       "      <td>0</td>\n",
       "      <td>...</td>\n",
       "      <td>0</td>\n",
       "      <td>0</td>\n",
       "      <td>0</td>\n",
       "      <td>0</td>\n",
       "      <td>0</td>\n",
       "      <td>0</td>\n",
       "      <td>0</td>\n",
       "      <td>0</td>\n",
       "      <td>0</td>\n",
       "      <td>0</td>\n",
       "    </tr>\n",
       "  </tbody>\n",
       "</table>\n",
       "<p>5 rows × 225 columns</p>\n",
       "</div>"
      ],
      "text/plain": [
       "   about  about distressed  about distressed drifting  acting  acting was  \\\n",
       "0      1                 1                          1       0           0   \n",
       "1      0                 0                          0       0           0   \n",
       "2      0                 0                          0       1           1   \n",
       "3      0                 0                          0       0           0   \n",
       "4      0                 0                          0       0           0   \n",
       "\n",
       "   acting was poor  aimless  aimless movie  aimless movie about  almost  ...  \\\n",
       "0                0        1              1                    1       0  ...   \n",
       "1                0        0              0                    0       0  ...   \n",
       "2                1        0              0                    0       1  ...   \n",
       "3                0        0              0                    0       0  ...   \n",
       "4                0        0              0                    0       0  ...   \n",
       "\n",
       "   who was  who was more  whom  whom walked  whom walked out  with  \\\n",
       "0        0             0     0            0                0     0   \n",
       "1        1             1     1            1                1     0   \n",
       "2        0             0     0            0                0     1   \n",
       "3        0             0     0            0                0     0   \n",
       "4        0             0     0            0                0     0   \n",
       "\n",
       "   with black  with black white  young  young man  \n",
       "0           0                 0      1          1  \n",
       "1           0                 0      0          0  \n",
       "2           1                 1      0          0  \n",
       "3           0                 0      0          0  \n",
       "4           0                 0      0          0  \n",
       "\n",
       "[5 rows x 225 columns]"
      ]
     },
     "execution_count": 57,
     "metadata": {},
     "output_type": "execute_result"
    }
   ],
   "source": [
    "df_tf_ngrams = pd.DataFrame(\n",
    "    data = countVectorizer_ngrams.transform(data5.Review).todense(), \n",
    "    columns = countVectorizer_ngrams.get_feature_names()\n",
    ")\n",
    "\n",
    "df_tf_ngrams"
   ]
  },
  {
   "cell_type": "markdown",
   "metadata": {
    "slideshow": {
     "slide_type": "subslide"
    }
   },
   "source": [
    "### Representação Binária\n",
    "\n",
    "Nesta representação contabilizamos o número de vezes que cada palavra aparece em cada sentença, como segue:\n",
    "\n",
    "|Sentença | Atributo Termo 1 | Atributo Termo 2 | ... | Atributo Termo m | Atributo classe |\n",
    "|------|------|------|------|------|------| \n",
    "|$s_1$ | $x_{1,1}$ | $x_{1,2}$ | ... | $x_{1,m}$ | $y_1$ |\n",
    "|$s_2$ | $x_{2,1}$ | $x_{2,2}$ | ... | $x_{2,m}$ | $y_2$ |\n",
    "| ... | ... | ... | ... | ... | ... |\n",
    "|$s_n$ | $x_{n,1}$ | $x_{n,2}$ | ... | $x_{n,m}$ | $y_n$ |\n",
    "\n",
    "cada valor $x_{i,j}$ na tabela atributo-valor é 1 se $j$-ésima palavra está na $i$-ésima sentença e 0, caso contrário."
   ]
  },
  {
   "cell_type": "markdown",
   "metadata": {
    "slideshow": {
     "slide_type": "subslide"
    }
   },
   "source": [
    "**Exemplo de Implementação**"
   ]
  },
  {
   "cell_type": "code",
   "execution_count": 58,
   "metadata": {},
   "outputs": [],
   "source": [
    "countVectorizer_bin = CountVectorizer(binary = True )"
   ]
  },
  {
   "cell_type": "code",
   "execution_count": 59,
   "metadata": {},
   "outputs": [
    {
     "data": {
      "text/plain": [
       "CountVectorizer(analyzer='word', binary=True, decode_error='strict',\n",
       "                dtype=<class 'numpy.int64'>, encoding='utf-8', input='content',\n",
       "                lowercase=True, max_df=1.0, max_features=None, min_df=1,\n",
       "                ngram_range=(1, 1), preprocessor=None, stop_words=None,\n",
       "                strip_accents=None, token_pattern='(?u)\\\\b\\\\w\\\\w+\\\\b',\n",
       "                tokenizer=None, vocabulary=None)"
      ]
     },
     "execution_count": 59,
     "metadata": {},
     "output_type": "execute_result"
    }
   ],
   "source": [
    "countVectorizer_bin.fit(data5.Review)"
   ]
  },
  {
   "cell_type": "markdown",
   "metadata": {
    "slideshow": {
     "slide_type": "subslide"
    }
   },
   "source": [
    "Tabela no formato atributo-valor de representação binária"
   ]
  },
  {
   "cell_type": "code",
   "execution_count": 60,
   "metadata": {
    "slideshow": {
     "slide_type": "-"
    }
   },
   "outputs": [
    {
     "data": {
      "text/html": [
       "<div>\n",
       "<style scoped>\n",
       "    .dataframe tbody tr th:only-of-type {\n",
       "        vertical-align: middle;\n",
       "    }\n",
       "\n",
       "    .dataframe tbody tr th {\n",
       "        vertical-align: top;\n",
       "    }\n",
       "\n",
       "    .dataframe thead th {\n",
       "        text-align: right;\n",
       "    }\n",
       "</style>\n",
       "<table border=\"1\" class=\"dataframe\">\n",
       "  <thead>\n",
       "    <tr style=\"text-align: right;\">\n",
       "      <th></th>\n",
       "      <th>about</th>\n",
       "      <th>acting</th>\n",
       "      <th>aimless</th>\n",
       "      <th>almost</th>\n",
       "      <th>and</th>\n",
       "      <th>angles</th>\n",
       "      <th>anything</th>\n",
       "      <th>artiness</th>\n",
       "      <th>as</th>\n",
       "      <th>attempting</th>\n",
       "      <th>...</th>\n",
       "      <th>trying</th>\n",
       "      <th>very</th>\n",
       "      <th>walked</th>\n",
       "      <th>was</th>\n",
       "      <th>when</th>\n",
       "      <th>white</th>\n",
       "      <th>who</th>\n",
       "      <th>whom</th>\n",
       "      <th>with</th>\n",
       "      <th>young</th>\n",
       "    </tr>\n",
       "  </thead>\n",
       "  <tbody>\n",
       "    <tr>\n",
       "      <th>0</th>\n",
       "      <td>1</td>\n",
       "      <td>0</td>\n",
       "      <td>1</td>\n",
       "      <td>0</td>\n",
       "      <td>0</td>\n",
       "      <td>0</td>\n",
       "      <td>0</td>\n",
       "      <td>0</td>\n",
       "      <td>0</td>\n",
       "      <td>0</td>\n",
       "      <td>...</td>\n",
       "      <td>0</td>\n",
       "      <td>1</td>\n",
       "      <td>0</td>\n",
       "      <td>0</td>\n",
       "      <td>0</td>\n",
       "      <td>0</td>\n",
       "      <td>0</td>\n",
       "      <td>0</td>\n",
       "      <td>0</td>\n",
       "      <td>1</td>\n",
       "    </tr>\n",
       "    <tr>\n",
       "      <th>1</th>\n",
       "      <td>0</td>\n",
       "      <td>0</td>\n",
       "      <td>0</td>\n",
       "      <td>0</td>\n",
       "      <td>0</td>\n",
       "      <td>0</td>\n",
       "      <td>0</td>\n",
       "      <td>0</td>\n",
       "      <td>0</td>\n",
       "      <td>0</td>\n",
       "      <td>...</td>\n",
       "      <td>0</td>\n",
       "      <td>0</td>\n",
       "      <td>1</td>\n",
       "      <td>1</td>\n",
       "      <td>0</td>\n",
       "      <td>0</td>\n",
       "      <td>1</td>\n",
       "      <td>1</td>\n",
       "      <td>0</td>\n",
       "      <td>0</td>\n",
       "    </tr>\n",
       "    <tr>\n",
       "      <th>2</th>\n",
       "      <td>0</td>\n",
       "      <td>1</td>\n",
       "      <td>0</td>\n",
       "      <td>1</td>\n",
       "      <td>1</td>\n",
       "      <td>1</td>\n",
       "      <td>0</td>\n",
       "      <td>1</td>\n",
       "      <td>1</td>\n",
       "      <td>1</td>\n",
       "      <td>...</td>\n",
       "      <td>0</td>\n",
       "      <td>0</td>\n",
       "      <td>0</td>\n",
       "      <td>1</td>\n",
       "      <td>0</td>\n",
       "      <td>1</td>\n",
       "      <td>0</td>\n",
       "      <td>0</td>\n",
       "      <td>1</td>\n",
       "      <td>0</td>\n",
       "    </tr>\n",
       "    <tr>\n",
       "      <th>3</th>\n",
       "      <td>0</td>\n",
       "      <td>0</td>\n",
       "      <td>0</td>\n",
       "      <td>0</td>\n",
       "      <td>0</td>\n",
       "      <td>0</td>\n",
       "      <td>1</td>\n",
       "      <td>0</td>\n",
       "      <td>0</td>\n",
       "      <td>0</td>\n",
       "      <td>...</td>\n",
       "      <td>0</td>\n",
       "      <td>1</td>\n",
       "      <td>0</td>\n",
       "      <td>0</td>\n",
       "      <td>0</td>\n",
       "      <td>0</td>\n",
       "      <td>0</td>\n",
       "      <td>0</td>\n",
       "      <td>0</td>\n",
       "      <td>0</td>\n",
       "    </tr>\n",
       "    <tr>\n",
       "      <th>4</th>\n",
       "      <td>0</td>\n",
       "      <td>0</td>\n",
       "      <td>0</td>\n",
       "      <td>0</td>\n",
       "      <td>0</td>\n",
       "      <td>0</td>\n",
       "      <td>0</td>\n",
       "      <td>0</td>\n",
       "      <td>0</td>\n",
       "      <td>0</td>\n",
       "      <td>...</td>\n",
       "      <td>1</td>\n",
       "      <td>0</td>\n",
       "      <td>0</td>\n",
       "      <td>1</td>\n",
       "      <td>1</td>\n",
       "      <td>0</td>\n",
       "      <td>0</td>\n",
       "      <td>0</td>\n",
       "      <td>0</td>\n",
       "      <td>0</td>\n",
       "    </tr>\n",
       "  </tbody>\n",
       "</table>\n",
       "<p>5 rows × 68 columns</p>\n",
       "</div>"
      ],
      "text/plain": [
       "   about  acting  aimless  almost  and  angles  anything  artiness  as  \\\n",
       "0      1       0        1       0    0       0         0         0   0   \n",
       "1      0       0        0       0    0       0         0         0   0   \n",
       "2      0       1        0       1    1       1         0         1   1   \n",
       "3      0       0        0       0    0       0         1         0   0   \n",
       "4      0       0        0       0    0       0         0         0   0   \n",
       "\n",
       "   attempting  ...  trying  very  walked  was  when  white  who  whom  with  \\\n",
       "0           0  ...       0     1       0    0     0      0    0     0     0   \n",
       "1           0  ...       0     0       1    1     0      0    1     1     0   \n",
       "2           1  ...       0     0       0    1     0      1    0     0     1   \n",
       "3           0  ...       0     1       0    0     0      0    0     0     0   \n",
       "4           0  ...       1     0       0    1     1      0    0     0     0   \n",
       "\n",
       "   young  \n",
       "0      1  \n",
       "1      0  \n",
       "2      0  \n",
       "3      0  \n",
       "4      0  \n",
       "\n",
       "[5 rows x 68 columns]"
      ]
     },
     "execution_count": 60,
     "metadata": {},
     "output_type": "execute_result"
    }
   ],
   "source": [
    "df_bin = pd.DataFrame(\n",
    "    data = countVectorizer_bin.transform(data5.Review).todense(), \n",
    "    columns = countVectorizer_bin.get_feature_names()\n",
    ")\n",
    "df_bin"
   ]
  },
  {
   "cell_type": "markdown",
   "metadata": {
    "slideshow": {
     "slide_type": "subslide"
    }
   },
   "source": [
    "Como exemplo, o termo **and** aparece 3 (três) vezes no terceiro texto, mas na tabela atributo valor aparece apenas o valor **1 (um)**, vejamos"
   ]
  },
  {
   "cell_type": "code",
   "execution_count": 61,
   "metadata": {},
   "outputs": [
    {
     "data": {
      "text/html": [
       "Attempting artiness with black & white <b>and</b> clever camera angles, the movie disappointed - became even more ridiculous - as the acting was poor <b>and</b> the plot <b>and</b> lines almost non-existent.  "
      ],
      "text/plain": [
       "<IPython.core.display.HTML object>"
      ]
     },
     "metadata": {},
     "output_type": "display_data"
    }
   ],
   "source": [
    "display(\n",
    "    HTML(\n",
    "        data5.Review[2].replace('and',  '<b>and</b>')\n",
    "    )\n",
    ")"
   ]
  },
  {
   "cell_type": "markdown",
   "metadata": {
    "slideshow": {
     "slide_type": "subslide"
    }
   },
   "source": [
    "**Diferença entre Representações TF e Binária**"
   ]
  },
  {
   "cell_type": "code",
   "execution_count": 62,
   "metadata": {},
   "outputs": [
    {
     "data": {
      "text/html": [
       "<div>\n",
       "<style scoped>\n",
       "    .dataframe tbody tr th:only-of-type {\n",
       "        vertical-align: middle;\n",
       "    }\n",
       "\n",
       "    .dataframe tbody tr th {\n",
       "        vertical-align: top;\n",
       "    }\n",
       "\n",
       "    .dataframe thead th {\n",
       "        text-align: right;\n",
       "    }\n",
       "</style>\n",
       "<table border=\"1\" class=\"dataframe\">\n",
       "  <thead>\n",
       "    <tr style=\"text-align: right;\">\n",
       "      <th></th>\n",
       "      <th>about</th>\n",
       "      <th>acting</th>\n",
       "      <th>aimless</th>\n",
       "      <th>almost</th>\n",
       "      <th>and</th>\n",
       "      <th>angles</th>\n",
       "      <th>anything</th>\n",
       "      <th>artiness</th>\n",
       "      <th>as</th>\n",
       "      <th>attempting</th>\n",
       "      <th>...</th>\n",
       "      <th>trying</th>\n",
       "      <th>very</th>\n",
       "      <th>walked</th>\n",
       "      <th>was</th>\n",
       "      <th>when</th>\n",
       "      <th>white</th>\n",
       "      <th>who</th>\n",
       "      <th>whom</th>\n",
       "      <th>with</th>\n",
       "      <th>young</th>\n",
       "    </tr>\n",
       "  </thead>\n",
       "  <tbody>\n",
       "    <tr>\n",
       "      <th>0</th>\n",
       "      <td>0</td>\n",
       "      <td>1</td>\n",
       "      <td>0</td>\n",
       "      <td>1</td>\n",
       "      <td>3</td>\n",
       "      <td>1</td>\n",
       "      <td>0</td>\n",
       "      <td>1</td>\n",
       "      <td>1</td>\n",
       "      <td>1</td>\n",
       "      <td>...</td>\n",
       "      <td>0</td>\n",
       "      <td>0</td>\n",
       "      <td>0</td>\n",
       "      <td>1</td>\n",
       "      <td>0</td>\n",
       "      <td>1</td>\n",
       "      <td>0</td>\n",
       "      <td>0</td>\n",
       "      <td>1</td>\n",
       "      <td>0</td>\n",
       "    </tr>\n",
       "  </tbody>\n",
       "</table>\n",
       "<p>1 rows × 68 columns</p>\n",
       "</div>"
      ],
      "text/plain": [
       "   about  acting  aimless  almost  and  angles  anything  artiness  as  \\\n",
       "0      0       1        0       1    3       1         0         1   1   \n",
       "\n",
       "   attempting  ...  trying  very  walked  was  when  white  who  whom  with  \\\n",
       "0           1  ...       0     0       0    1     0      1    0     0     1   \n",
       "\n",
       "   young  \n",
       "0      0  \n",
       "\n",
       "[1 rows x 68 columns]"
      ]
     },
     "execution_count": 62,
     "metadata": {},
     "output_type": "execute_result"
    }
   ],
   "source": [
    "pd.DataFrame(\n",
    "    data = countVectorizer.transform(data5.Review)[2].todense(), \n",
    "    columns = countVectorizer.get_feature_names()\n",
    ")"
   ]
  },
  {
   "cell_type": "code",
   "execution_count": 63,
   "metadata": {},
   "outputs": [
    {
     "data": {
      "text/html": [
       "<div>\n",
       "<style scoped>\n",
       "    .dataframe tbody tr th:only-of-type {\n",
       "        vertical-align: middle;\n",
       "    }\n",
       "\n",
       "    .dataframe tbody tr th {\n",
       "        vertical-align: top;\n",
       "    }\n",
       "\n",
       "    .dataframe thead th {\n",
       "        text-align: right;\n",
       "    }\n",
       "</style>\n",
       "<table border=\"1\" class=\"dataframe\">\n",
       "  <thead>\n",
       "    <tr style=\"text-align: right;\">\n",
       "      <th></th>\n",
       "      <th>about</th>\n",
       "      <th>acting</th>\n",
       "      <th>aimless</th>\n",
       "      <th>almost</th>\n",
       "      <th>and</th>\n",
       "      <th>angles</th>\n",
       "      <th>anything</th>\n",
       "      <th>artiness</th>\n",
       "      <th>as</th>\n",
       "      <th>attempting</th>\n",
       "      <th>...</th>\n",
       "      <th>trying</th>\n",
       "      <th>very</th>\n",
       "      <th>walked</th>\n",
       "      <th>was</th>\n",
       "      <th>when</th>\n",
       "      <th>white</th>\n",
       "      <th>who</th>\n",
       "      <th>whom</th>\n",
       "      <th>with</th>\n",
       "      <th>young</th>\n",
       "    </tr>\n",
       "  </thead>\n",
       "  <tbody>\n",
       "    <tr>\n",
       "      <th>0</th>\n",
       "      <td>0</td>\n",
       "      <td>1</td>\n",
       "      <td>0</td>\n",
       "      <td>1</td>\n",
       "      <td>1</td>\n",
       "      <td>1</td>\n",
       "      <td>0</td>\n",
       "      <td>1</td>\n",
       "      <td>1</td>\n",
       "      <td>1</td>\n",
       "      <td>...</td>\n",
       "      <td>0</td>\n",
       "      <td>0</td>\n",
       "      <td>0</td>\n",
       "      <td>1</td>\n",
       "      <td>0</td>\n",
       "      <td>1</td>\n",
       "      <td>0</td>\n",
       "      <td>0</td>\n",
       "      <td>1</td>\n",
       "      <td>0</td>\n",
       "    </tr>\n",
       "  </tbody>\n",
       "</table>\n",
       "<p>1 rows × 68 columns</p>\n",
       "</div>"
      ],
      "text/plain": [
       "   about  acting  aimless  almost  and  angles  anything  artiness  as  \\\n",
       "0      0       1        0       1    1       1         0         1   1   \n",
       "\n",
       "   attempting  ...  trying  very  walked  was  when  white  who  whom  with  \\\n",
       "0           1  ...       0     0       0    1     0      1    0     0     1   \n",
       "\n",
       "   young  \n",
       "0      0  \n",
       "\n",
       "[1 rows x 68 columns]"
      ]
     },
     "execution_count": 63,
     "metadata": {},
     "output_type": "execute_result"
    }
   ],
   "source": [
    "pd.DataFrame(\n",
    "    data = countVectorizer_bin.transform(data5.Review)[2].todense(), \n",
    "    columns = countVectorizer_bin.get_feature_names()\n",
    ")"
   ]
  },
  {
   "cell_type": "markdown",
   "metadata": {
    "slideshow": {
     "slide_type": "subslide"
    }
   },
   "source": [
    "### Representação Term Frequency - Inverse Document Frequency (TF-IDF)\n",
    "\n",
    "Nesta representação contabilizamos o número de vezes que cada palavra aparece em cada sentença, como segue:\n",
    "\n",
    "|Sentença | Atributo Termo 1 | Atributo Termo 2 | ... | Atributo Termo m | Atributo classe |\n",
    "|------|------|------|------|------|------| \n",
    "|$s_1$ | $x_{1,1}$ | $x_{1,2}$ | ... | $x_{1,m}$ | $y_1$ |\n",
    "|$s_2$ | $x_{2,1}$ | $x_{2,2}$ | ... | $x_{2,m}$ | $y_2$ |\n",
    "| ... | ... | ... | ... | ... | ... |\n",
    "|$s_n$ | $x_{n,1}$ | $x_{n,2}$ | ... | $x_{n,m}$ | $y_n$ |\n",
    "\n",
    "onde cada valor $x_{i,j}$ na tabela atributo-valor procura refletir quão importante é a $j$-éssima palavra para a $i$-ésima sentença dentro da coleção de sentenças."
   ]
  },
  {
   "cell_type": "markdown",
   "metadata": {
    "slideshow": {
     "slide_type": "subslide"
    }
   },
   "source": [
    "**Cálculo do TF-IDF**:\n",
    "- **Term Frequency (TF)**: consiste no número de vezes que uma palavra aparece em um texto.\n",
    "- **Inverse Document Frequency (IDF)**: consiste em medir quão importante um termo é. Ao usar TF todos os termos tem o mesmo valor. No entanto, algumas palavras como 'é', 'e', 'de', aparecem muitas vezes e tem naturalmente terão menos importância. Logo, nesta medida se abaixa a importância do termo em função de sua frequência e se aumenta em função de sua raridade.\n",
    "\n",
    "$$IDF(term,collection)=\\log\\Bigg(\\frac{|collection|+1}{|term~in~collection|+1}\\Bigg) + 1$$\n",
    "- **TF-IDF**: consiste no produto entre o TF e o IDF.\n",
    "\n",
    "$$TF\\_IDF(term,sentence,collection) = TF(term,sentence) * IDF(term,collection)$$\n",
    "\n",
    "- Existem outras versões do cálculo de TF-IDF de acordo com propostas de diferentes artigos científicos."
   ]
  },
  {
   "cell_type": "markdown",
   "metadata": {
    "slideshow": {
     "slide_type": "subslide"
    }
   },
   "source": [
    "**Exemplo:** suponha uma coleção de 100 sentenças sobre reviews\n",
    "- Se o termo 'the' aparece em 90 de 100 sentenças, ao aparecer uma vez em uma sentença, temos:\n",
    "\n",
    "$$\n",
    "\\begin{align}\n",
    "TF(term,sentence) &= 1\\\\\n",
    "IDF(term,document) &= \\log\\Bigg(\\frac{101}{91}\\Bigg) + 1 = 1.1043\\\\\n",
    "TF\\_IDF(term,sentence,document) &= 1 * 1.1043 = \\textbf{1.1043}\n",
    "\\end{align}\n",
    "$$\n",
    "- Já o termo 'amazing' aparece em 10 de 100 sentenças, ao aparecer 3 vezes na sentença, temos:\n",
    "\n",
    "$$\n",
    "\\begin{align}\n",
    "TF(term,sentence) &= 3\\\\\n",
    "IDF(term,document) &= \\log\\Bigg(\\frac{101}{4}\\Bigg) + 1 = 4.2288\\\\\n",
    "TF\\_IDF(term,sentence,document) &= 3 * 4.2288 = \\textbf{12.6864}\n",
    "\\end{align}\n",
    "$$\n",
    "- Isso mostra que o termo 'amazing' é mais importante do que o termo 'the' para a sentença em questão"
   ]
  },
  {
   "cell_type": "markdown",
   "metadata": {
    "slideshow": {
     "slide_type": "subslide"
    }
   },
   "source": [
    "**Exemplo de Implementação 1**"
   ]
  },
  {
   "cell_type": "code",
   "execution_count": 64,
   "metadata": {},
   "outputs": [],
   "source": [
    "from sklearn.feature_extraction.text import TfidfVectorizer"
   ]
  },
  {
   "cell_type": "code",
   "execution_count": 65,
   "metadata": {},
   "outputs": [],
   "source": [
    "tfidfVectorizer = TfidfVectorizer(norm=None)\n",
    "data_vectorized = tfidfVectorizer.fit_transform(data5.Review)"
   ]
  },
  {
   "cell_type": "code",
   "execution_count": 66,
   "metadata": {},
   "outputs": [
    {
     "data": {
      "text/html": [
       "<div>\n",
       "<style scoped>\n",
       "    .dataframe tbody tr th:only-of-type {\n",
       "        vertical-align: middle;\n",
       "    }\n",
       "\n",
       "    .dataframe tbody tr th {\n",
       "        vertical-align: top;\n",
       "    }\n",
       "\n",
       "    .dataframe thead th {\n",
       "        text-align: right;\n",
       "    }\n",
       "</style>\n",
       "<table border=\"1\" class=\"dataframe\">\n",
       "  <thead>\n",
       "    <tr style=\"text-align: right;\">\n",
       "      <th></th>\n",
       "      <th>about</th>\n",
       "      <th>acting</th>\n",
       "      <th>aimless</th>\n",
       "      <th>almost</th>\n",
       "      <th>and</th>\n",
       "      <th>angles</th>\n",
       "      <th>anything</th>\n",
       "      <th>artiness</th>\n",
       "      <th>as</th>\n",
       "      <th>attempting</th>\n",
       "      <th>...</th>\n",
       "      <th>trying</th>\n",
       "      <th>very</th>\n",
       "      <th>walked</th>\n",
       "      <th>was</th>\n",
       "      <th>when</th>\n",
       "      <th>white</th>\n",
       "      <th>who</th>\n",
       "      <th>whom</th>\n",
       "      <th>with</th>\n",
       "      <th>young</th>\n",
       "    </tr>\n",
       "  </thead>\n",
       "  <tbody>\n",
       "    <tr>\n",
       "      <th>0</th>\n",
       "      <td>2.098612</td>\n",
       "      <td>0.000000</td>\n",
       "      <td>2.098612</td>\n",
       "      <td>0.000000</td>\n",
       "      <td>0.000000</td>\n",
       "      <td>0.000000</td>\n",
       "      <td>0.000000</td>\n",
       "      <td>0.000000</td>\n",
       "      <td>0.000000</td>\n",
       "      <td>0.000000</td>\n",
       "      <td>...</td>\n",
       "      <td>0.000000</td>\n",
       "      <td>5.079442</td>\n",
       "      <td>0.000000</td>\n",
       "      <td>0.000000</td>\n",
       "      <td>0.000000</td>\n",
       "      <td>0.000000</td>\n",
       "      <td>0.000000</td>\n",
       "      <td>0.000000</td>\n",
       "      <td>0.000000</td>\n",
       "      <td>2.098612</td>\n",
       "    </tr>\n",
       "    <tr>\n",
       "      <th>1</th>\n",
       "      <td>0.000000</td>\n",
       "      <td>0.000000</td>\n",
       "      <td>0.000000</td>\n",
       "      <td>0.000000</td>\n",
       "      <td>0.000000</td>\n",
       "      <td>0.000000</td>\n",
       "      <td>0.000000</td>\n",
       "      <td>0.000000</td>\n",
       "      <td>0.000000</td>\n",
       "      <td>0.000000</td>\n",
       "      <td>...</td>\n",
       "      <td>0.000000</td>\n",
       "      <td>0.000000</td>\n",
       "      <td>2.098612</td>\n",
       "      <td>1.405465</td>\n",
       "      <td>0.000000</td>\n",
       "      <td>0.000000</td>\n",
       "      <td>2.098612</td>\n",
       "      <td>2.098612</td>\n",
       "      <td>0.000000</td>\n",
       "      <td>0.000000</td>\n",
       "    </tr>\n",
       "    <tr>\n",
       "      <th>2</th>\n",
       "      <td>0.000000</td>\n",
       "      <td>2.098612</td>\n",
       "      <td>0.000000</td>\n",
       "      <td>2.098612</td>\n",
       "      <td>6.295837</td>\n",
       "      <td>2.098612</td>\n",
       "      <td>0.000000</td>\n",
       "      <td>2.098612</td>\n",
       "      <td>2.098612</td>\n",
       "      <td>2.098612</td>\n",
       "      <td>...</td>\n",
       "      <td>0.000000</td>\n",
       "      <td>0.000000</td>\n",
       "      <td>0.000000</td>\n",
       "      <td>1.405465</td>\n",
       "      <td>0.000000</td>\n",
       "      <td>2.098612</td>\n",
       "      <td>0.000000</td>\n",
       "      <td>0.000000</td>\n",
       "      <td>2.098612</td>\n",
       "      <td>0.000000</td>\n",
       "    </tr>\n",
       "    <tr>\n",
       "      <th>3</th>\n",
       "      <td>0.000000</td>\n",
       "      <td>0.000000</td>\n",
       "      <td>0.000000</td>\n",
       "      <td>0.000000</td>\n",
       "      <td>0.000000</td>\n",
       "      <td>0.000000</td>\n",
       "      <td>2.098612</td>\n",
       "      <td>0.000000</td>\n",
       "      <td>0.000000</td>\n",
       "      <td>0.000000</td>\n",
       "      <td>...</td>\n",
       "      <td>0.000000</td>\n",
       "      <td>1.693147</td>\n",
       "      <td>0.000000</td>\n",
       "      <td>0.000000</td>\n",
       "      <td>0.000000</td>\n",
       "      <td>0.000000</td>\n",
       "      <td>0.000000</td>\n",
       "      <td>0.000000</td>\n",
       "      <td>0.000000</td>\n",
       "      <td>0.000000</td>\n",
       "    </tr>\n",
       "    <tr>\n",
       "      <th>4</th>\n",
       "      <td>0.000000</td>\n",
       "      <td>0.000000</td>\n",
       "      <td>0.000000</td>\n",
       "      <td>0.000000</td>\n",
       "      <td>0.000000</td>\n",
       "      <td>0.000000</td>\n",
       "      <td>0.000000</td>\n",
       "      <td>0.000000</td>\n",
       "      <td>0.000000</td>\n",
       "      <td>0.000000</td>\n",
       "      <td>...</td>\n",
       "      <td>2.098612</td>\n",
       "      <td>0.000000</td>\n",
       "      <td>0.000000</td>\n",
       "      <td>1.405465</td>\n",
       "      <td>2.098612</td>\n",
       "      <td>0.000000</td>\n",
       "      <td>0.000000</td>\n",
       "      <td>0.000000</td>\n",
       "      <td>0.000000</td>\n",
       "      <td>0.000000</td>\n",
       "    </tr>\n",
       "  </tbody>\n",
       "</table>\n",
       "<p>5 rows × 68 columns</p>\n",
       "</div>"
      ],
      "text/plain": [
       "      about    acting   aimless    almost       and    angles  anything  \\\n",
       "0  2.098612  0.000000  2.098612  0.000000  0.000000  0.000000  0.000000   \n",
       "1  0.000000  0.000000  0.000000  0.000000  0.000000  0.000000  0.000000   \n",
       "2  0.000000  2.098612  0.000000  2.098612  6.295837  2.098612  0.000000   \n",
       "3  0.000000  0.000000  0.000000  0.000000  0.000000  0.000000  2.098612   \n",
       "4  0.000000  0.000000  0.000000  0.000000  0.000000  0.000000  0.000000   \n",
       "\n",
       "   artiness        as  attempting  ...    trying      very    walked  \\\n",
       "0  0.000000  0.000000    0.000000  ...  0.000000  5.079442  0.000000   \n",
       "1  0.000000  0.000000    0.000000  ...  0.000000  0.000000  2.098612   \n",
       "2  2.098612  2.098612    2.098612  ...  0.000000  0.000000  0.000000   \n",
       "3  0.000000  0.000000    0.000000  ...  0.000000  1.693147  0.000000   \n",
       "4  0.000000  0.000000    0.000000  ...  2.098612  0.000000  0.000000   \n",
       "\n",
       "        was      when     white       who      whom      with     young  \n",
       "0  0.000000  0.000000  0.000000  0.000000  0.000000  0.000000  2.098612  \n",
       "1  1.405465  0.000000  0.000000  2.098612  2.098612  0.000000  0.000000  \n",
       "2  1.405465  0.000000  2.098612  0.000000  0.000000  2.098612  0.000000  \n",
       "3  0.000000  0.000000  0.000000  0.000000  0.000000  0.000000  0.000000  \n",
       "4  1.405465  2.098612  0.000000  0.000000  0.000000  0.000000  0.000000  \n",
       "\n",
       "[5 rows x 68 columns]"
      ]
     },
     "execution_count": 66,
     "metadata": {},
     "output_type": "execute_result"
    }
   ],
   "source": [
    "df_tfidf = pd.DataFrame(data = data_vectorized.todense(), columns = tfidfVectorizer.get_feature_names())\n",
    "df_tfidf"
   ]
  },
  {
   "cell_type": "markdown",
   "metadata": {
    "slideshow": {
     "slide_type": "subslide"
    }
   },
   "source": [
    "**Exemplo de Implementação 2: dataset completo**"
   ]
  },
  {
   "cell_type": "code",
   "execution_count": 67,
   "metadata": {},
   "outputs": [],
   "source": [
    "tfidfVectorizer = TfidfVectorizer(norm=None)\n",
    "data_vectorized = tfidfVectorizer.fit_transform(data.Review)"
   ]
  },
  {
   "cell_type": "code",
   "execution_count": 68,
   "metadata": {},
   "outputs": [
    {
     "data": {
      "text/html": [
       "<div>\n",
       "<style scoped>\n",
       "    .dataframe tbody tr th:only-of-type {\n",
       "        vertical-align: middle;\n",
       "    }\n",
       "\n",
       "    .dataframe tbody tr th {\n",
       "        vertical-align: top;\n",
       "    }\n",
       "\n",
       "    .dataframe thead th {\n",
       "        text-align: right;\n",
       "    }\n",
       "</style>\n",
       "<table border=\"1\" class=\"dataframe\">\n",
       "  <thead>\n",
       "    <tr style=\"text-align: right;\">\n",
       "      <th></th>\n",
       "      <th>10</th>\n",
       "      <th>12</th>\n",
       "      <th>13</th>\n",
       "      <th>15</th>\n",
       "      <th>15pm</th>\n",
       "      <th>17</th>\n",
       "      <th>18th</th>\n",
       "      <th>1928</th>\n",
       "      <th>1947</th>\n",
       "      <th>1948</th>\n",
       "      <th>...</th>\n",
       "      <th>young</th>\n",
       "      <th>younger</th>\n",
       "      <th>your</th>\n",
       "      <th>yourself</th>\n",
       "      <th>youthful</th>\n",
       "      <th>youtube</th>\n",
       "      <th>yun</th>\n",
       "      <th>zillion</th>\n",
       "      <th>zombie</th>\n",
       "      <th>zombiez</th>\n",
       "    </tr>\n",
       "  </thead>\n",
       "  <tbody>\n",
       "    <tr>\n",
       "      <th>0</th>\n",
       "      <td>0.0</td>\n",
       "      <td>0.0</td>\n",
       "      <td>0.0</td>\n",
       "      <td>0.0</td>\n",
       "      <td>0.0</td>\n",
       "      <td>0.0</td>\n",
       "      <td>0.0</td>\n",
       "      <td>0.0</td>\n",
       "      <td>0.0</td>\n",
       "      <td>0.0</td>\n",
       "      <td>...</td>\n",
       "      <td>6.009301</td>\n",
       "      <td>0.0</td>\n",
       "      <td>0.0</td>\n",
       "      <td>0.0</td>\n",
       "      <td>0.0</td>\n",
       "      <td>0.0</td>\n",
       "      <td>0.0</td>\n",
       "      <td>0.0</td>\n",
       "      <td>0.0</td>\n",
       "      <td>0.0</td>\n",
       "    </tr>\n",
       "    <tr>\n",
       "      <th>1</th>\n",
       "      <td>0.0</td>\n",
       "      <td>0.0</td>\n",
       "      <td>0.0</td>\n",
       "      <td>0.0</td>\n",
       "      <td>0.0</td>\n",
       "      <td>0.0</td>\n",
       "      <td>0.0</td>\n",
       "      <td>0.0</td>\n",
       "      <td>0.0</td>\n",
       "      <td>0.0</td>\n",
       "      <td>...</td>\n",
       "      <td>0.000000</td>\n",
       "      <td>0.0</td>\n",
       "      <td>0.0</td>\n",
       "      <td>0.0</td>\n",
       "      <td>0.0</td>\n",
       "      <td>0.0</td>\n",
       "      <td>0.0</td>\n",
       "      <td>0.0</td>\n",
       "      <td>0.0</td>\n",
       "      <td>0.0</td>\n",
       "    </tr>\n",
       "    <tr>\n",
       "      <th>2</th>\n",
       "      <td>0.0</td>\n",
       "      <td>0.0</td>\n",
       "      <td>0.0</td>\n",
       "      <td>0.0</td>\n",
       "      <td>0.0</td>\n",
       "      <td>0.0</td>\n",
       "      <td>0.0</td>\n",
       "      <td>0.0</td>\n",
       "      <td>0.0</td>\n",
       "      <td>0.0</td>\n",
       "      <td>...</td>\n",
       "      <td>0.000000</td>\n",
       "      <td>0.0</td>\n",
       "      <td>0.0</td>\n",
       "      <td>0.0</td>\n",
       "      <td>0.0</td>\n",
       "      <td>0.0</td>\n",
       "      <td>0.0</td>\n",
       "      <td>0.0</td>\n",
       "      <td>0.0</td>\n",
       "      <td>0.0</td>\n",
       "    </tr>\n",
       "    <tr>\n",
       "      <th>3</th>\n",
       "      <td>0.0</td>\n",
       "      <td>0.0</td>\n",
       "      <td>0.0</td>\n",
       "      <td>0.0</td>\n",
       "      <td>0.0</td>\n",
       "      <td>0.0</td>\n",
       "      <td>0.0</td>\n",
       "      <td>0.0</td>\n",
       "      <td>0.0</td>\n",
       "      <td>0.0</td>\n",
       "      <td>...</td>\n",
       "      <td>0.000000</td>\n",
       "      <td>0.0</td>\n",
       "      <td>0.0</td>\n",
       "      <td>0.0</td>\n",
       "      <td>0.0</td>\n",
       "      <td>0.0</td>\n",
       "      <td>0.0</td>\n",
       "      <td>0.0</td>\n",
       "      <td>0.0</td>\n",
       "      <td>0.0</td>\n",
       "    </tr>\n",
       "    <tr>\n",
       "      <th>4</th>\n",
       "      <td>0.0</td>\n",
       "      <td>0.0</td>\n",
       "      <td>0.0</td>\n",
       "      <td>0.0</td>\n",
       "      <td>0.0</td>\n",
       "      <td>0.0</td>\n",
       "      <td>0.0</td>\n",
       "      <td>0.0</td>\n",
       "      <td>0.0</td>\n",
       "      <td>0.0</td>\n",
       "      <td>...</td>\n",
       "      <td>0.000000</td>\n",
       "      <td>0.0</td>\n",
       "      <td>0.0</td>\n",
       "      <td>0.0</td>\n",
       "      <td>0.0</td>\n",
       "      <td>0.0</td>\n",
       "      <td>0.0</td>\n",
       "      <td>0.0</td>\n",
       "      <td>0.0</td>\n",
       "      <td>0.0</td>\n",
       "    </tr>\n",
       "  </tbody>\n",
       "</table>\n",
       "<p>5 rows × 3047 columns</p>\n",
       "</div>"
      ],
      "text/plain": [
       "    10   12   13   15  15pm   17  18th  1928  1947  1948  ...     young  \\\n",
       "0  0.0  0.0  0.0  0.0   0.0  0.0   0.0   0.0   0.0   0.0  ...  6.009301   \n",
       "1  0.0  0.0  0.0  0.0   0.0  0.0   0.0   0.0   0.0   0.0  ...  0.000000   \n",
       "2  0.0  0.0  0.0  0.0   0.0  0.0   0.0   0.0   0.0   0.0  ...  0.000000   \n",
       "3  0.0  0.0  0.0  0.0   0.0  0.0   0.0   0.0   0.0   0.0  ...  0.000000   \n",
       "4  0.0  0.0  0.0  0.0   0.0  0.0   0.0   0.0   0.0   0.0  ...  0.000000   \n",
       "\n",
       "   younger  your  yourself  youthful  youtube  yun  zillion  zombie  zombiez  \n",
       "0      0.0   0.0       0.0       0.0      0.0  0.0      0.0     0.0      0.0  \n",
       "1      0.0   0.0       0.0       0.0      0.0  0.0      0.0     0.0      0.0  \n",
       "2      0.0   0.0       0.0       0.0      0.0  0.0      0.0     0.0      0.0  \n",
       "3      0.0   0.0       0.0       0.0      0.0  0.0      0.0     0.0      0.0  \n",
       "4      0.0   0.0       0.0       0.0      0.0  0.0      0.0     0.0      0.0  \n",
       "\n",
       "[5 rows x 3047 columns]"
      ]
     },
     "execution_count": 68,
     "metadata": {},
     "output_type": "execute_result"
    }
   ],
   "source": [
    "df_tfidf = pd.DataFrame(data = data_vectorized.todense(), columns = tfidfVectorizer.get_feature_names())\n",
    "df_tfidf.head()"
   ]
  },
  {
   "cell_type": "markdown",
   "metadata": {
    "slideshow": {
     "slide_type": "subslide"
    }
   },
   "source": [
    "Visualizando o valor de TF-IDF para uma frase"
   ]
  },
  {
   "cell_type": "code",
   "execution_count": 69,
   "metadata": {},
   "outputs": [
    {
     "data": {
      "text/plain": [
       "'Saw the movie today and thought it was a good effort, good messages for kids.  '"
      ]
     },
     "execution_count": 69,
     "metadata": {},
     "output_type": "execute_result"
    }
   ],
   "source": [
    "data.Review[7]"
   ]
  },
  {
   "cell_type": "code",
   "execution_count": 70,
   "metadata": {},
   "outputs": [
    {
     "data": {
      "text/html": [
       "<div>\n",
       "<style scoped>\n",
       "    .dataframe tbody tr th:only-of-type {\n",
       "        vertical-align: middle;\n",
       "    }\n",
       "\n",
       "    .dataframe tbody tr th {\n",
       "        vertical-align: top;\n",
       "    }\n",
       "\n",
       "    .dataframe thead th {\n",
       "        text-align: right;\n",
       "    }\n",
       "</style>\n",
       "<table border=\"1\" class=\"dataframe\">\n",
       "  <thead>\n",
       "    <tr style=\"text-align: right;\">\n",
       "      <th></th>\n",
       "      <th>and</th>\n",
       "      <th>effort</th>\n",
       "      <th>for</th>\n",
       "      <th>good</th>\n",
       "      <th>it</th>\n",
       "      <th>kids</th>\n",
       "      <th>messages</th>\n",
       "      <th>movie</th>\n",
       "      <th>saw</th>\n",
       "      <th>the</th>\n",
       "      <th>thought</th>\n",
       "      <th>today</th>\n",
       "      <th>was</th>\n",
       "    </tr>\n",
       "  </thead>\n",
       "  <tbody>\n",
       "    <tr>\n",
       "      <th>7</th>\n",
       "      <td>1.991118</td>\n",
       "      <td>6.925592</td>\n",
       "      <td>3.236712</td>\n",
       "      <td>7.580195</td>\n",
       "      <td>2.252763</td>\n",
       "      <td>5.421514</td>\n",
       "      <td>6.925592</td>\n",
       "      <td>2.720899</td>\n",
       "      <td>5.05379</td>\n",
       "      <td>1.67594</td>\n",
       "      <td>5.05379</td>\n",
       "      <td>6.009301</td>\n",
       "      <td>2.720899</td>\n",
       "    </tr>\n",
       "  </tbody>\n",
       "</table>\n",
       "</div>"
      ],
      "text/plain": [
       "        and    effort       for      good        it      kids  messages  \\\n",
       "7  1.991118  6.925592  3.236712  7.580195  2.252763  5.421514  6.925592   \n",
       "\n",
       "      movie      saw      the  thought     today       was  \n",
       "7  2.720899  5.05379  1.67594  5.05379  6.009301  2.720899  "
      ]
     },
     "execution_count": 70,
     "metadata": {},
     "output_type": "execute_result"
    }
   ],
   "source": [
    "df_tfidf.iloc[[7],df_tfidf.iloc[7].to_numpy().nonzero()[0]]"
   ]
  },
  {
   "cell_type": "markdown",
   "metadata": {
    "slideshow": {
     "slide_type": "slide"
    }
   },
   "source": [
    "## Indução e Avaliação de Classificadores\n",
    "\n",
    "- A partir da nossa coleção de textos no formato atributo valor, seja representação TR, Binária ou TF-IDF, podemos construir classificadores de texto, e aprender padrões presentes nesse volume de dados\n",
    "- Nesta aula vamos construir classificadores Random Forest, que constituem um dos classificadores mais utilizados quando temos muitas colunas de dados"
   ]
  },
  {
   "cell_type": "markdown",
   "metadata": {
    "slideshow": {
     "slide_type": "subslide"
    }
   },
   "source": [
    "### Construíndo um Classificador Random Forest"
   ]
  },
  {
   "cell_type": "markdown",
   "metadata": {
    "slideshow": {
     "slide_type": "subslide"
    }
   },
   "source": [
    "### Preparação de Dados"
   ]
  },
  {
   "cell_type": "code",
   "execution_count": 71,
   "metadata": {},
   "outputs": [
    {
     "data": {
      "text/html": [
       "<div>\n",
       "<style scoped>\n",
       "    .dataframe tbody tr th:only-of-type {\n",
       "        vertical-align: middle;\n",
       "    }\n",
       "\n",
       "    .dataframe tbody tr th {\n",
       "        vertical-align: top;\n",
       "    }\n",
       "\n",
       "    .dataframe thead th {\n",
       "        text-align: right;\n",
       "    }\n",
       "</style>\n",
       "<table border=\"1\" class=\"dataframe\">\n",
       "  <thead>\n",
       "    <tr style=\"text-align: right;\">\n",
       "      <th></th>\n",
       "      <th>10</th>\n",
       "      <th>12</th>\n",
       "      <th>13</th>\n",
       "      <th>15</th>\n",
       "      <th>15pm</th>\n",
       "      <th>17</th>\n",
       "      <th>18th</th>\n",
       "      <th>1928</th>\n",
       "      <th>1947</th>\n",
       "      <th>1948</th>\n",
       "      <th>...</th>\n",
       "      <th>younger</th>\n",
       "      <th>your</th>\n",
       "      <th>youth</th>\n",
       "      <th>youtub</th>\n",
       "      <th>yun</th>\n",
       "      <th>zillion</th>\n",
       "      <th>zombi</th>\n",
       "      <th>zombie</th>\n",
       "      <th>zombiez</th>\n",
       "      <th>class_label</th>\n",
       "    </tr>\n",
       "  </thead>\n",
       "  <tbody>\n",
       "    <tr>\n",
       "      <th>0</th>\n",
       "      <td>0</td>\n",
       "      <td>0</td>\n",
       "      <td>0</td>\n",
       "      <td>0</td>\n",
       "      <td>0</td>\n",
       "      <td>0</td>\n",
       "      <td>0</td>\n",
       "      <td>0</td>\n",
       "      <td>0</td>\n",
       "      <td>0</td>\n",
       "      <td>...</td>\n",
       "      <td>0</td>\n",
       "      <td>0</td>\n",
       "      <td>0</td>\n",
       "      <td>0</td>\n",
       "      <td>0</td>\n",
       "      <td>0</td>\n",
       "      <td>0</td>\n",
       "      <td>0</td>\n",
       "      <td>0</td>\n",
       "      <td>0</td>\n",
       "    </tr>\n",
       "    <tr>\n",
       "      <th>1</th>\n",
       "      <td>0</td>\n",
       "      <td>0</td>\n",
       "      <td>0</td>\n",
       "      <td>0</td>\n",
       "      <td>0</td>\n",
       "      <td>0</td>\n",
       "      <td>0</td>\n",
       "      <td>0</td>\n",
       "      <td>0</td>\n",
       "      <td>0</td>\n",
       "      <td>...</td>\n",
       "      <td>0</td>\n",
       "      <td>0</td>\n",
       "      <td>0</td>\n",
       "      <td>0</td>\n",
       "      <td>0</td>\n",
       "      <td>0</td>\n",
       "      <td>0</td>\n",
       "      <td>0</td>\n",
       "      <td>0</td>\n",
       "      <td>0</td>\n",
       "    </tr>\n",
       "    <tr>\n",
       "      <th>2</th>\n",
       "      <td>0</td>\n",
       "      <td>0</td>\n",
       "      <td>0</td>\n",
       "      <td>0</td>\n",
       "      <td>0</td>\n",
       "      <td>0</td>\n",
       "      <td>0</td>\n",
       "      <td>0</td>\n",
       "      <td>0</td>\n",
       "      <td>0</td>\n",
       "      <td>...</td>\n",
       "      <td>0</td>\n",
       "      <td>0</td>\n",
       "      <td>0</td>\n",
       "      <td>0</td>\n",
       "      <td>0</td>\n",
       "      <td>0</td>\n",
       "      <td>0</td>\n",
       "      <td>0</td>\n",
       "      <td>0</td>\n",
       "      <td>0</td>\n",
       "    </tr>\n",
       "    <tr>\n",
       "      <th>3</th>\n",
       "      <td>0</td>\n",
       "      <td>0</td>\n",
       "      <td>0</td>\n",
       "      <td>0</td>\n",
       "      <td>0</td>\n",
       "      <td>0</td>\n",
       "      <td>0</td>\n",
       "      <td>0</td>\n",
       "      <td>0</td>\n",
       "      <td>0</td>\n",
       "      <td>...</td>\n",
       "      <td>0</td>\n",
       "      <td>0</td>\n",
       "      <td>0</td>\n",
       "      <td>0</td>\n",
       "      <td>0</td>\n",
       "      <td>0</td>\n",
       "      <td>0</td>\n",
       "      <td>0</td>\n",
       "      <td>0</td>\n",
       "      <td>0</td>\n",
       "    </tr>\n",
       "    <tr>\n",
       "      <th>4</th>\n",
       "      <td>0</td>\n",
       "      <td>0</td>\n",
       "      <td>0</td>\n",
       "      <td>0</td>\n",
       "      <td>0</td>\n",
       "      <td>0</td>\n",
       "      <td>0</td>\n",
       "      <td>0</td>\n",
       "      <td>0</td>\n",
       "      <td>0</td>\n",
       "      <td>...</td>\n",
       "      <td>0</td>\n",
       "      <td>0</td>\n",
       "      <td>0</td>\n",
       "      <td>0</td>\n",
       "      <td>0</td>\n",
       "      <td>0</td>\n",
       "      <td>0</td>\n",
       "      <td>0</td>\n",
       "      <td>0</td>\n",
       "      <td>1</td>\n",
       "    </tr>\n",
       "  </tbody>\n",
       "</table>\n",
       "<p>5 rows × 2482 columns</p>\n",
       "</div>"
      ],
      "text/plain": [
       "   10  12  13  15  15pm  17  18th  1928  1947  1948  ...  younger  your  \\\n",
       "0   0   0   0   0     0   0     0     0     0     0  ...        0     0   \n",
       "1   0   0   0   0     0   0     0     0     0     0  ...        0     0   \n",
       "2   0   0   0   0     0   0     0     0     0     0  ...        0     0   \n",
       "3   0   0   0   0     0   0     0     0     0     0  ...        0     0   \n",
       "4   0   0   0   0     0   0     0     0     0     0  ...        0     0   \n",
       "\n",
       "   youth  youtub  yun  zillion  zombi  zombie  zombiez  class_label  \n",
       "0      0       0    0        0      0       0        0            0  \n",
       "1      0       0    0        0      0       0        0            0  \n",
       "2      0       0    0        0      0       0        0            0  \n",
       "3      0       0    0        0      0       0        0            0  \n",
       "4      0       0    0        0      0       0        0            1  \n",
       "\n",
       "[5 rows x 2482 columns]"
      ]
     },
     "execution_count": 71,
     "metadata": {},
     "output_type": "execute_result"
    }
   ],
   "source": [
    "data_vectorized = countVectorizer_pre.fit_transform(data.Review)\n",
    "df_tf = pd.DataFrame(data = data_vectorized.todense(), columns = countVectorizer_pre.get_feature_names())\n",
    "df_tf['class_label'] = data.Label\n",
    "df_tf.head()"
   ]
  },
  {
   "cell_type": "code",
   "execution_count": 85,
   "metadata": {},
   "outputs": [
    {
     "data": {
      "text/plain": [
       "(748, 3048)"
      ]
     },
     "execution_count": 85,
     "metadata": {},
     "output_type": "execute_result"
    }
   ],
   "source": [
    "df_tf.shape"
   ]
  },
  {
   "cell_type": "markdown",
   "metadata": {
    "slideshow": {
     "slide_type": "-"
    }
   },
   "source": [
    "O dataset tem 748 sentenças representadas por 2481 termos, mais o atributo classe, totalizando 2482."
   ]
  },
  {
   "cell_type": "markdown",
   "metadata": {
    "slideshow": {
     "slide_type": "subslide"
    }
   },
   "source": [
    "### Separação do Conjunto de Dados em Treino e Teste"
   ]
  },
  {
   "cell_type": "code",
   "execution_count": 86,
   "metadata": {},
   "outputs": [],
   "source": [
    "target = 'class_label'\n",
    "X = df_tf.drop(target,axis=1)\n",
    "y = df_tf[target]"
   ]
  },
  {
   "cell_type": "markdown",
   "metadata": {
    "slideshow": {
     "slide_type": "-"
    }
   },
   "source": [
    "Usamos 70% do conjunto de dados para treinar e avaliar nosso classificador e usaremos 30% para testá-lo."
   ]
  },
  {
   "cell_type": "code",
   "execution_count": 87,
   "metadata": {},
   "outputs": [],
   "source": [
    "from sklearn.model_selection import train_test_split\n",
    "X_train, X_test, y_train, y_test= train_test_split(X, y, test_size=0.30, shuffle=True, stratify=y, random_state=1)"
   ]
  },
  {
   "cell_type": "markdown",
   "metadata": {
    "slideshow": {
     "slide_type": "subslide"
    }
   },
   "source": [
    "## Indução/Construção de Modelos"
   ]
  },
  {
   "cell_type": "markdown",
   "metadata": {
    "slideshow": {
     "slide_type": "-"
    }
   },
   "source": [
    "Hiperparametrizaçao: avaliaremos diferentes parâmetros do algortimo Random Forest e escolheremos a melhor configuração baseado no classificador de melhor qualidade usando 5-fold cross-validation."
   ]
  },
  {
   "cell_type": "code",
   "execution_count": 200,
   "metadata": {},
   "outputs": [],
   "source": [
    "import numpy as np\n",
    "random_forest_parameters = {\n",
    "        'n_estimators': list(np.arange(30, 91, 3)),        \n",
    "        'max_features': ['log2'],\n",
    "        'max_depth': list(np.arange(20, 41, 3)),        \n",
    "        'criterion':['gini']    \n",
    "    }\n",
    "cv = 10"
   ]
  },
  {
   "cell_type": "markdown",
   "metadata": {
    "slideshow": {
     "slide_type": "subslide"
    }
   },
   "source": [
    "Criamos uma função para retornar os modelos construídos usando o conjunto de treinamento para escolher o melhor."
   ]
  },
  {
   "cell_type": "code",
   "execution_count": 201,
   "metadata": {},
   "outputs": [],
   "source": [
    "from sklearn.ensemble import RandomForestClassifier\n",
    "from sklearn.model_selection import GridSearchCV\n",
    "\n",
    "def random_forest_tuning(X, y, cv = 5, scoring = 'accuracy', parameters=None):        \n",
    "    model = RandomForestClassifier(random_state=42, class_weight='balanced')    \n",
    "    grid_search_cv = GridSearchCV(\n",
    "                        estimator=model, \n",
    "                        param_grid= parameters, \n",
    "                        cv=cv, n_jobs=-1, scoring=scoring, iid=False, verbose=2)    \n",
    "    grid_search_cv.fit(X, y)    \n",
    "    return grid_search_cv"
   ]
  },
  {
   "cell_type": "markdown",
   "metadata": {
    "slideshow": {
     "slide_type": "subslide"
    }
   },
   "source": [
    "Executamos a construção de modelos"
   ]
  },
  {
   "cell_type": "code",
   "execution_count": 202,
   "metadata": {
    "slideshow": {
     "slide_type": "-"
    }
   },
   "outputs": [
    {
     "name": "stdout",
     "output_type": "stream",
     "text": [
      "Fitting 10 folds for each of 147 candidates, totalling 1470 fits\n"
     ]
    },
    {
     "name": "stderr",
     "output_type": "stream",
     "text": [
      "[Parallel(n_jobs=-1)]: Using backend LokyBackend with 8 concurrent workers.\n",
      "[Parallel(n_jobs=-1)]: Done  25 tasks      | elapsed:    9.7s\n",
      "[Parallel(n_jobs=-1)]: Done 146 tasks      | elapsed:   32.8s\n",
      "[Parallel(n_jobs=-1)]: Done 349 tasks      | elapsed:  1.3min\n",
      "[Parallel(n_jobs=-1)]: Done 632 tasks      | elapsed:  2.3min\n",
      "[Parallel(n_jobs=-1)]: Done 997 tasks      | elapsed:  3.6min\n",
      "[Parallel(n_jobs=-1)]: Done 1442 tasks      | elapsed:  5.2min\n",
      "[Parallel(n_jobs=-1)]: Done 1470 out of 1470 | elapsed:  5.4min finished\n"
     ]
    }
   ],
   "source": [
    "random_forest = random_forest_tuning(X_train, y_train, cv = cv, parameters = random_forest_parameters)"
   ]
  },
  {
   "cell_type": "code",
   "execution_count": 311,
   "metadata": {
    "slideshow": {
     "slide_type": "subslide"
    }
   },
   "outputs": [
    {
     "name": "stdout",
     "output_type": "stream",
     "text": [
      "Modelo modelo -> score: 0.775\n",
      "Melhor modelo -> parâmetros:  {'criterion': 'gini', 'max_depth': 38, 'max_features': 'log2', 'min_samples_leaf': 1, 'n_estimators': 87}\n"
     ]
    }
   ],
   "source": [
    "print('Modelo modelo -> score: %.3f' % random_forest.best_score_)\n",
    "print('Melhor modelo -> parâmetros: ', random_forest.best_params_)"
   ]
  },
  {
   "cell_type": "markdown",
   "metadata": {
    "slideshow": {
     "slide_type": "subslide"
    }
   },
   "source": [
    "## Pós-processamento"
   ]
  },
  {
   "cell_type": "code",
   "execution_count": 92,
   "metadata": {},
   "outputs": [
    {
     "ename": "NameError",
     "evalue": "name 'random_forest' is not defined",
     "output_type": "error",
     "traceback": [
      "\u001b[1;31m---------------------------------------------------------------------------\u001b[0m",
      "\u001b[1;31mNameError\u001b[0m                                 Traceback (most recent call last)",
      "\u001b[1;32m<ipython-input-92-85c773ee3c0b>\u001b[0m in \u001b[0;36m<module>\u001b[1;34m\u001b[0m\n\u001b[0;32m      1\u001b[0m models = {   \n\u001b[1;32m----> 2\u001b[1;33m     \u001b[1;34m'random_forest'\u001b[0m  \u001b[1;33m:\u001b[0m \u001b[0mrandom_forest\u001b[0m\u001b[1;33m,\u001b[0m\u001b[1;33m\u001b[0m\u001b[1;33m\u001b[0m\u001b[0m\n\u001b[0m\u001b[0;32m      3\u001b[0m }\n",
      "\u001b[1;31mNameError\u001b[0m: name 'random_forest' is not defined"
     ]
    }
   ],
   "source": [
    "models = {   \n",
    "    'random_forest'  : random_forest,    \n",
    "}"
   ]
  },
  {
   "cell_type": "markdown",
   "metadata": {},
   "source": [
    "### Medidas: Acurácia, Precision, Recall"
   ]
  },
  {
   "cell_type": "code",
   "execution_count": 126,
   "metadata": {},
   "outputs": [],
   "source": [
    "from sklearn.model_selection import cross_val_predict\n",
    "from sklearn.metrics import classification_report\n",
    "from sklearn.metrics import accuracy_score\n",
    "\n",
    "def model_comparison(y_true, X, models, cross_val = False, cv = 5):\n",
    "    measures = {}\n",
    "    for (name, model) in models.items():\n",
    "        if (cross_val) :\n",
    "            y_pred = cross_val_predict(model.best_estimator_, X, y_true, cv=cv, n_jobs=-1, method='predict') \n",
    "        else :\n",
    "            y_pred =  model.best_estimator_.predict(X)\n",
    "        acuracia = accuracy_score(y_true=y_true, y_pred=y_pred)\n",
    "        report = classification_report(y_true=y_true, y_pred=y_pred, \n",
    "                                       labels=[0,1], target_names=['negativa','positiva'], \n",
    "                                       output_dict = True)\n",
    "        precision = report['positiva']['precision']\n",
    "        recall = report['positiva']['recall']\n",
    "        measures[name] = {'acuracia' : acuracia, 'precision' : precision, 'recall' : recall}\n",
    "    return pd.DataFrame(measures).T"
   ]
  },
  {
   "cell_type": "markdown",
   "metadata": {
    "slideshow": {
     "slide_type": "subslide"
    }
   },
   "source": [
    "**Avaliação no Conjunto de Treino (cross-validation)**"
   ]
  },
  {
   "cell_type": "code",
   "execution_count": 316,
   "metadata": {},
   "outputs": [
    {
     "data": {
      "text/html": [
       "<div>\n",
       "<style scoped>\n",
       "    .dataframe tbody tr th:only-of-type {\n",
       "        vertical-align: middle;\n",
       "    }\n",
       "\n",
       "    .dataframe tbody tr th {\n",
       "        vertical-align: top;\n",
       "    }\n",
       "\n",
       "    .dataframe thead th {\n",
       "        text-align: right;\n",
       "    }\n",
       "</style>\n",
       "<table border=\"1\" class=\"dataframe\">\n",
       "  <thead>\n",
       "    <tr style=\"text-align: right;\">\n",
       "      <th></th>\n",
       "      <th>acuracia</th>\n",
       "      <th>precision</th>\n",
       "      <th>recall</th>\n",
       "    </tr>\n",
       "  </thead>\n",
       "  <tbody>\n",
       "    <tr>\n",
       "      <th>random_forest</th>\n",
       "      <td>0.774</td>\n",
       "      <td>0.804</td>\n",
       "      <td>0.744</td>\n",
       "    </tr>\n",
       "  </tbody>\n",
       "</table>\n",
       "</div>"
      ],
      "text/plain": [
       "               acuracia  precision  recall\n",
       "random_forest     0.774      0.804   0.744"
      ]
     },
     "execution_count": 316,
     "metadata": {},
     "output_type": "execute_result"
    }
   ],
   "source": [
    "train_model_comparison = model_comparison(y_train, X_train, models, cross_val = True, cv = cv)\n",
    "round(train_model_comparison,3)"
   ]
  },
  {
   "cell_type": "markdown",
   "metadata": {},
   "source": [
    "**Avaliação no Conjunto de Teste**"
   ]
  },
  {
   "cell_type": "code",
   "execution_count": 315,
   "metadata": {},
   "outputs": [
    {
     "data": {
      "text/html": [
       "<div>\n",
       "<style scoped>\n",
       "    .dataframe tbody tr th:only-of-type {\n",
       "        vertical-align: middle;\n",
       "    }\n",
       "\n",
       "    .dataframe tbody tr th {\n",
       "        vertical-align: top;\n",
       "    }\n",
       "\n",
       "    .dataframe thead th {\n",
       "        text-align: right;\n",
       "    }\n",
       "</style>\n",
       "<table border=\"1\" class=\"dataframe\">\n",
       "  <thead>\n",
       "    <tr style=\"text-align: right;\">\n",
       "      <th></th>\n",
       "      <th>acuracia</th>\n",
       "      <th>precision</th>\n",
       "      <th>recall</th>\n",
       "    </tr>\n",
       "  </thead>\n",
       "  <tbody>\n",
       "    <tr>\n",
       "      <th>random_forest</th>\n",
       "      <td>0.72</td>\n",
       "      <td>0.805</td>\n",
       "      <td>0.603</td>\n",
       "    </tr>\n",
       "  </tbody>\n",
       "</table>\n",
       "</div>"
      ],
      "text/plain": [
       "               acuracia  precision  recall\n",
       "random_forest      0.72      0.805   0.603"
      ]
     },
     "execution_count": 315,
     "metadata": {},
     "output_type": "execute_result"
    }
   ],
   "source": [
    "test_model_comparison = model_comparison(y_test, X_test, models)\n",
    "round(test_model_comparison,3)"
   ]
  },
  {
   "cell_type": "markdown",
   "metadata": {
    "slideshow": {
     "slide_type": "subslide"
    }
   },
   "source": [
    "**Análise da Curva Precision Recall**"
   ]
  },
  {
   "cell_type": "code",
   "execution_count": 317,
   "metadata": {},
   "outputs": [],
   "source": [
    "from sklearn.metrics import precision_recall_curve\n",
    "import matplotlib.pyplot as plt\n",
    "\n",
    "def plot_precision_vs_recall(precision, recall):\n",
    "    plt.figure(figsize=(5,5))\n",
    "    plt.plot(recall, precision, \"-\", linewidth=1)\n",
    "    plt.xlabel(\"Recall\", fontsize=14)\n",
    "    plt.ylabel(\"Precision\", fontsize=14)\n",
    "    plt.axis([0, 1.005, 0, 1.005])\n",
    "    return plt"
   ]
  },
  {
   "cell_type": "code",
   "execution_count": 318,
   "metadata": {},
   "outputs": [],
   "source": [
    "best_model = models['random_forest']"
   ]
  },
  {
   "cell_type": "markdown",
   "metadata": {
    "slideshow": {
     "slide_type": "subslide"
    }
   },
   "source": [
    "No Conjunto de Treino"
   ]
  },
  {
   "cell_type": "code",
   "execution_count": 319,
   "metadata": {},
   "outputs": [
    {
     "data": {
      "text/plain": [
       "<module 'matplotlib.pyplot' from 'C:\\\\Users\\\\andres\\\\Anaconda3\\\\envs\\\\dm\\\\lib\\\\site-packages\\\\matplotlib\\\\pyplot.py'>"
      ]
     },
     "execution_count": 319,
     "metadata": {},
     "output_type": "execute_result"
    },
    {
     "data": {
      "image/png": "[encoded data removed]",
      "text/plain": [
       "<Figure size 360x360 with 1 Axes>"
      ]
     },
     "metadata": {
      "needs_background": "light"
     },
     "output_type": "display_data"
    }
   ],
   "source": [
    "y_train_hatp = cross_val_predict(best_model.best_estimator_, X_train, y_train, cv=cv, n_jobs=-1, method='predict_proba')[:,1]\n",
    "precision, recall, thresholds = precision_recall_curve(y_train, y_train_hatp)\n",
    "plot_precision_vs_recall(precision, recall)"
   ]
  },
  {
   "cell_type": "markdown",
   "metadata": {
    "slideshow": {
     "slide_type": "slide"
    }
   },
   "source": [
    "## Comparação das Representações em um Dataset usando Classificadores RandomForest"
   ]
  },
  {
   "cell_type": "markdown",
   "metadata": {},
   "source": [
    "Função para Preparação dos Conjuntos de Dados"
   ]
  },
  {
   "cell_type": "code",
   "execution_count": 165,
   "metadata": {},
   "outputs": [],
   "source": [
    "def create_dataset_from_countVectorizer(data, countVectorizer):\n",
    "    data_vectorized = countVectorizer.fit_transform(data.Review)\n",
    "    df = pd.DataFrame(data = data_vectorized.todense(), columns = countVectorizer.get_feature_names())\n",
    "    df['class_label'] = data.Label\n",
    "    return df"
   ]
  },
  {
   "cell_type": "markdown",
   "metadata": {},
   "source": [
    "Parámetros do Random Forest"
   ]
  },
  {
   "cell_type": "markdown",
   "metadata": {},
   "source": [
    "random_forest_parameters = {\n",
    "        'n_estimators': list(np.arange(20, 51, 3)),        \n",
    "        'max_features': ['log2'],\n",
    "        'criterion':['gini']    \n",
    "    }\n",
    "cv = 10"
   ]
  },
  {
   "cell_type": "markdown",
   "metadata": {
    "slideshow": {
     "slide_type": "subslide"
    }
   },
   "source": [
    "Possíveis configurações para geração do conjunto de dados"
   ]
  },
  {
   "cell_type": "code",
   "execution_count": 199,
   "metadata": {},
   "outputs": [],
   "source": [
    "representations = ['tf','bin','tfidf']\n",
    "options = [['without'],['preprocessing'],['ngrams'],['preprocessing','ngrams']]"
   ]
  },
  {
   "cell_type": "markdown",
   "metadata": {
    "slideshow": {
     "slide_type": "-"
    }
   },
   "source": [
    "Algoritmo para avaliar todas as configurações e armazenar o resultado em um dataset"
   ]
  },
  {
   "cell_type": "code",
   "execution_count": 191,
   "metadata": {},
   "outputs": [
    {
     "name": "stdout",
     "output_type": "stream",
     "text": [
      "(748, 3048)\n",
      "Fitting 10 folds for each of 11 candidates, totalling 110 fits\n"
     ]
    },
    {
     "name": "stderr",
     "output_type": "stream",
     "text": [
      "[Parallel(n_jobs=-1)]: Using backend LokyBackend with 8 concurrent workers.\n",
      "[Parallel(n_jobs=-1)]: Done  25 tasks      | elapsed:    0.9s\n",
      "[Parallel(n_jobs=-1)]: Done 110 out of 110 | elapsed:    4.7s finished\n"
     ]
    },
    {
     "name": "stdout",
     "output_type": "stream",
     "text": [
      "(748, 2482)\n",
      "Fitting 10 folds for each of 11 candidates, totalling 110 fits\n"
     ]
    },
    {
     "name": "stderr",
     "output_type": "stream",
     "text": [
      "[Parallel(n_jobs=-1)]: Using backend LokyBackend with 8 concurrent workers.\n",
      "[Parallel(n_jobs=-1)]: Done  34 tasks      | elapsed:    1.2s\n",
      "[Parallel(n_jobs=-1)]: Done 110 out of 110 | elapsed:    4.4s finished\n"
     ]
    },
    {
     "name": "stdout",
     "output_type": "stream",
     "text": [
      "(748, 24446)\n",
      "Fitting 10 folds for each of 11 candidates, totalling 110 fits\n"
     ]
    },
    {
     "name": "stderr",
     "output_type": "stream",
     "text": [
      "[Parallel(n_jobs=-1)]: Using backend LokyBackend with 8 concurrent workers.\n",
      "[Parallel(n_jobs=-1)]: Done  25 tasks      | elapsed:    3.7s\n",
      "[Parallel(n_jobs=-1)]: Done 110 out of 110 | elapsed:   18.0s finished\n"
     ]
    },
    {
     "name": "stdout",
     "output_type": "stream",
     "text": [
      "(748, 15946)\n",
      "Fitting 10 folds for each of 11 candidates, totalling 110 fits\n"
     ]
    },
    {
     "name": "stderr",
     "output_type": "stream",
     "text": [
      "[Parallel(n_jobs=-1)]: Using backend LokyBackend with 8 concurrent workers.\n",
      "[Parallel(n_jobs=-1)]: Done  25 tasks      | elapsed:    2.7s\n",
      "[Parallel(n_jobs=-1)]: Done 110 out of 110 | elapsed:   13.3s finished\n"
     ]
    },
    {
     "name": "stdout",
     "output_type": "stream",
     "text": [
      "(748, 3048)\n",
      "Fitting 10 folds for each of 11 candidates, totalling 110 fits\n"
     ]
    },
    {
     "name": "stderr",
     "output_type": "stream",
     "text": [
      "[Parallel(n_jobs=-1)]: Using backend LokyBackend with 8 concurrent workers.\n",
      "[Parallel(n_jobs=-1)]: Done  25 tasks      | elapsed:    0.9s\n",
      "[Parallel(n_jobs=-1)]: Done 110 out of 110 | elapsed:    4.9s finished\n"
     ]
    },
    {
     "name": "stdout",
     "output_type": "stream",
     "text": [
      "(748, 2482)\n",
      "Fitting 10 folds for each of 11 candidates, totalling 110 fits\n"
     ]
    },
    {
     "name": "stderr",
     "output_type": "stream",
     "text": [
      "[Parallel(n_jobs=-1)]: Using backend LokyBackend with 8 concurrent workers.\n",
      "[Parallel(n_jobs=-1)]: Done  25 tasks      | elapsed:    0.8s\n",
      "[Parallel(n_jobs=-1)]: Done 110 out of 110 | elapsed:    4.5s finished\n"
     ]
    },
    {
     "name": "stdout",
     "output_type": "stream",
     "text": [
      "(748, 24446)\n",
      "Fitting 10 folds for each of 11 candidates, totalling 110 fits\n"
     ]
    },
    {
     "name": "stderr",
     "output_type": "stream",
     "text": [
      "[Parallel(n_jobs=-1)]: Using backend LokyBackend with 8 concurrent workers.\n",
      "[Parallel(n_jobs=-1)]: Done  25 tasks      | elapsed:    3.8s\n",
      "[Parallel(n_jobs=-1)]: Done 110 out of 110 | elapsed:   18.0s finished\n"
     ]
    },
    {
     "name": "stdout",
     "output_type": "stream",
     "text": [
      "(748, 15946)\n",
      "Fitting 10 folds for each of 11 candidates, totalling 110 fits\n"
     ]
    },
    {
     "name": "stderr",
     "output_type": "stream",
     "text": [
      "[Parallel(n_jobs=-1)]: Using backend LokyBackend with 8 concurrent workers.\n",
      "[Parallel(n_jobs=-1)]: Done  25 tasks      | elapsed:    2.7s\n",
      "[Parallel(n_jobs=-1)]: Done 110 out of 110 | elapsed:   13.8s finished\n"
     ]
    },
    {
     "name": "stdout",
     "output_type": "stream",
     "text": [
      "(748, 3048)\n",
      "Fitting 10 folds for each of 11 candidates, totalling 110 fits\n"
     ]
    },
    {
     "name": "stderr",
     "output_type": "stream",
     "text": [
      "[Parallel(n_jobs=-1)]: Using backend LokyBackend with 8 concurrent workers.\n",
      "[Parallel(n_jobs=-1)]: Done  25 tasks      | elapsed:    1.1s\n",
      "[Parallel(n_jobs=-1)]: Done 110 out of 110 | elapsed:    6.6s finished\n"
     ]
    },
    {
     "name": "stdout",
     "output_type": "stream",
     "text": [
      "(748, 2482)\n",
      "Fitting 10 folds for each of 11 candidates, totalling 110 fits\n"
     ]
    },
    {
     "name": "stderr",
     "output_type": "stream",
     "text": [
      "[Parallel(n_jobs=-1)]: Using backend LokyBackend with 8 concurrent workers.\n",
      "[Parallel(n_jobs=-1)]: Done  25 tasks      | elapsed:    1.1s\n",
      "[Parallel(n_jobs=-1)]: Done 110 out of 110 | elapsed:    6.5s finished\n"
     ]
    },
    {
     "name": "stdout",
     "output_type": "stream",
     "text": [
      "(748, 24446)\n",
      "Fitting 10 folds for each of 11 candidates, totalling 110 fits\n"
     ]
    },
    {
     "name": "stderr",
     "output_type": "stream",
     "text": [
      "[Parallel(n_jobs=-1)]: Using backend LokyBackend with 8 concurrent workers.\n",
      "[Parallel(n_jobs=-1)]: Done  25 tasks      | elapsed:    5.3s\n",
      "[Parallel(n_jobs=-1)]: Done 110 out of 110 | elapsed:   26.6s finished\n"
     ]
    },
    {
     "name": "stdout",
     "output_type": "stream",
     "text": [
      "(748, 15946)\n",
      "Fitting 10 folds for each of 11 candidates, totalling 110 fits\n"
     ]
    },
    {
     "name": "stderr",
     "output_type": "stream",
     "text": [
      "[Parallel(n_jobs=-1)]: Using backend LokyBackend with 8 concurrent workers.\n",
      "[Parallel(n_jobs=-1)]: Done  25 tasks      | elapsed:    4.2s\n",
      "[Parallel(n_jobs=-1)]: Done 110 out of 110 | elapsed:   22.9s finished\n"
     ]
    }
   ],
   "source": [
    "results = pd.DataFrame()\n",
    "for representation in representations:\n",
    "    for option in options:\n",
    "        preprocessor = preprocessar_sentenca if 'preprocessing' in option else None\n",
    "        ngram_range = (1,3) if 'ngrams' in option else (1,1)\n",
    "        if representation == 'tf' :\n",
    "                vectorizer = CountVectorizer(preprocessor=preprocessor, ngram_range=ngram_range)\n",
    "        elif representation == 'bin' :\n",
    "                vectorizer = CountVectorizer(preprocessor=preprocessor, ngram_range=ngram_range, binary = True)\n",
    "        elif representation == 'tfidf' :\n",
    "                vectorizer = TfidfVectorizer(preprocessor=preprocessor, ngram_range=ngram_range)            \n",
    "        df = create_dataset_from_countVectorizer(data, vectorizer)\n",
    "        print(df.shape)\n",
    "        X = df.drop(target,axis=1)\n",
    "        y = df[target]\n",
    "        X_train, X_test, y_train, y_test = train_test_split(X, y, test_size=0.3, shuffle=True, stratify=y, random_state=1)\n",
    "        random_forest = random_forest_tuning(X_train, y_train, cv = cv, parameters = random_forest_parameters)\n",
    "        result = model_comparison(y_train, X_train, {'random_forest' : random_forest} , cross_val = True, cv = cv)               \n",
    "        result['representation'] = representation\n",
    "        result['options'] = '_'.join(option)\n",
    "        results = pd.concat([results, result])        "
   ]
  },
  {
   "cell_type": "markdown",
   "metadata": {
    "slideshow": {
     "slide_type": "subslide"
    }
   },
   "source": [
    "## Resultados"
   ]
  },
  {
   "cell_type": "code",
   "execution_count": 198,
   "metadata": {},
   "outputs": [
    {
     "data": {
      "text/html": [
       "<div>\n",
       "<style scoped>\n",
       "    .dataframe tbody tr th:only-of-type {\n",
       "        vertical-align: middle;\n",
       "    }\n",
       "\n",
       "    .dataframe tbody tr th {\n",
       "        vertical-align: top;\n",
       "    }\n",
       "\n",
       "    .dataframe thead th {\n",
       "        text-align: right;\n",
       "    }\n",
       "</style>\n",
       "<table border=\"1\" class=\"dataframe\">\n",
       "  <thead>\n",
       "    <tr style=\"text-align: right;\">\n",
       "      <th></th>\n",
       "      <th>representation</th>\n",
       "      <th>options</th>\n",
       "      <th>acuracia</th>\n",
       "    </tr>\n",
       "  </thead>\n",
       "  <tbody>\n",
       "    <tr>\n",
       "      <th>0</th>\n",
       "      <td>tf</td>\n",
       "      <td>without</td>\n",
       "      <td>0.762906</td>\n",
       "    </tr>\n",
       "    <tr>\n",
       "      <th>1</th>\n",
       "      <td>tf</td>\n",
       "      <td>preprocessing</td>\n",
       "      <td>0.778203</td>\n",
       "    </tr>\n",
       "    <tr>\n",
       "      <th>2</th>\n",
       "      <td>tf</td>\n",
       "      <td>ngrams</td>\n",
       "      <td>0.715105</td>\n",
       "    </tr>\n",
       "    <tr>\n",
       "      <th>3</th>\n",
       "      <td>tf</td>\n",
       "      <td>preprocessing_ngrams</td>\n",
       "      <td>0.715105</td>\n",
       "    </tr>\n",
       "    <tr>\n",
       "      <th>4</th>\n",
       "      <td>bin</td>\n",
       "      <td>without</td>\n",
       "      <td>0.745698</td>\n",
       "    </tr>\n",
       "    <tr>\n",
       "      <th>5</th>\n",
       "      <td>bin</td>\n",
       "      <td>preprocessing</td>\n",
       "      <td>0.776291</td>\n",
       "    </tr>\n",
       "    <tr>\n",
       "      <th>6</th>\n",
       "      <td>bin</td>\n",
       "      <td>ngrams</td>\n",
       "      <td>0.724665</td>\n",
       "    </tr>\n",
       "    <tr>\n",
       "      <th>7</th>\n",
       "      <td>bin</td>\n",
       "      <td>preprocessing_ngrams</td>\n",
       "      <td>0.722753</td>\n",
       "    </tr>\n",
       "    <tr>\n",
       "      <th>8</th>\n",
       "      <td>tfidf</td>\n",
       "      <td>without</td>\n",
       "      <td>0.747610</td>\n",
       "    </tr>\n",
       "    <tr>\n",
       "      <th>9</th>\n",
       "      <td>tfidf</td>\n",
       "      <td>preprocessing</td>\n",
       "      <td>0.795411</td>\n",
       "    </tr>\n",
       "    <tr>\n",
       "      <th>10</th>\n",
       "      <td>tfidf</td>\n",
       "      <td>ngrams</td>\n",
       "      <td>0.703633</td>\n",
       "    </tr>\n",
       "    <tr>\n",
       "      <th>11</th>\n",
       "      <td>tfidf</td>\n",
       "      <td>preprocessing_ngrams</td>\n",
       "      <td>0.736138</td>\n",
       "    </tr>\n",
       "  </tbody>\n",
       "</table>\n",
       "</div>"
      ],
      "text/plain": [
       "   representation               options  acuracia\n",
       "0              tf               without  0.762906\n",
       "1              tf         preprocessing  0.778203\n",
       "2              tf                ngrams  0.715105\n",
       "3              tf  preprocessing_ngrams  0.715105\n",
       "4             bin               without  0.745698\n",
       "5             bin         preprocessing  0.776291\n",
       "6             bin                ngrams  0.724665\n",
       "7             bin  preprocessing_ngrams  0.722753\n",
       "8           tfidf               without  0.747610\n",
       "9           tfidf         preprocessing  0.795411\n",
       "10          tfidf                ngrams  0.703633\n",
       "11          tfidf  preprocessing_ngrams  0.736138"
      ]
     },
     "execution_count": 198,
     "metadata": {},
     "output_type": "execute_result"
    }
   ],
   "source": [
    "results[['representation','options','acuracia']].reset_index(drop=True)"
   ]
  }
 ],
 "metadata": {
  "kernelspec": {
   "display_name": "Python 3",
   "language": "python",
   "name": "python3"
  },
  "language_info": {
   "codemirror_mode": {
    "name": "ipython",
    "version": 3
   },
   "file_extension": ".py",
   "mimetype": "text/x-python",
   "name": "python",
   "nbconvert_exporter": "python",
   "pygments_lexer": "ipython3",
   "version": "3.7.3"
  }
 },
 "nbformat": 4,
 "nbformat_minor": 2
}
