{
 "cells": [
  {
   "cell_type": "markdown",
   "metadata": {
    "slideshow": {
     "slide_type": "slide"
    }
   },
   "source": [
    "<link rel=\"stylesheet\" href=\"ipython.min.css\">\n",
    "\n",
    "<img src=\"img/logoifsc.png\">\n",
    "\n",
    "---\n",
    "\n",
    "Prof. Carlos Andrés Ferrero\n",
    "\n",
    "# Pré-processamento de Textos\n",
    "---"
   ]
  },
  {
   "cell_type": "markdown",
   "metadata": {
    "slideshow": {
     "slide_type": "slide"
    }
   },
   "source": [
    "## Conteúdo\n",
    "\n",
    "- Introdução ao Pré-processamento de Textos\n",
    "- Técnicas de NLP (Natural Language Processing)\n",
    "    - Pré-processamento de strings\n",
    "    - Remoção de Stopwords\n",
    "    - Extração do Radical das Palavras (Stemming)\n",
    "    - Tokenização\n",
    "- Pré-procesamento de Tweets\n",
    "- Avaliação das Palavras mais Relevantes em Tweets classificados\n",
    "- Avaliação com Novos dados de Tweets"
   ]
  },
  {
   "cell_type": "markdown",
   "metadata": {
    "slideshow": {
     "slide_type": "slide"
    }
   },
   "source": [
    "## Introdução ao Pré-processamento de Textos\n",
    "\n",
    "- Diversos domínios de aplicação armazenam dados em formato de texto:\n",
    "    - Medicina: laudos médicos\n",
    "    - Literatura: livros e outros documentos\n",
    "    - Jornalismo: notícias\n",
    "    - Redes sociais: posts (por ex. tweets no Twitter)\n",
    "    - ...\n",
    "- Como hoje o volume de dados tem aumentado consideravelmente em qualquer domínio, são necessárias o uso de técnicas automáticas (prefercialmente) ou semi-automáticas, para analisar dados nesse formato.    "
   ]
  },
  {
   "cell_type": "markdown",
   "metadata": {
    "slideshow": {
     "slide_type": "subslide"
    }
   },
   "source": [
    "**Mas o que existe de diferente em analisar dados de texto em relação a outros dados?**\n",
    "\n",
    "- Dados no formato de texto são chamados não-estruturados ou semi-estruturados;\n",
    "\n",
    "- Para compreender melhor, primeiro vamos observar um conjunto de dados estruturado:\n",
    "\n",
    "|Exemplo | Atributo 1 | Atributo 2 | ... | Atributo m | Atributo classe |\n",
    "|------|------|------|------|------|------| \n",
    "|$e_1$ | $x_{1,1}$ | $x_{1,2}$ | ... | $x_{1,m}$ | $y_1$ |\n",
    "|$e_2$ | $x_{2,1}$ | $x_{2,2}$ | ... | $x_{2,m}$ | $y_2$ |\n",
    "| ... | ... | ... | ... | ... | ... |\n",
    "|$e_n$ | $x_{n,1}$ | $x_{n,2}$ | ... | $x_{n,m}$ | $y_n$ |\n",
    "\n",
    "- Cada exemplo é representado pelos valores de um conjunto de atrbiutos, inclusive o atributo classe\n"
   ]
  },
  {
   "cell_type": "markdown",
   "metadata": {
    "slideshow": {
     "slide_type": "subslide"
    }
   },
   "source": [
    "- Em dados de texto cada exemplo não possui um número de atributos, mas possui apenas um texto escrito em linguagem natural.\n",
    "\n",
    "- Por exemplo um conjunto de Tweets:"
   ]
  },
  {
   "cell_type": "code",
   "execution_count": 424,
   "metadata": {},
   "outputs": [],
   "source": [
    "import pandas as pd\n",
    "def pretty_print_tweet(item):\n",
    "    print(item.Classificacao.ljust(10) + \":\\t\" + item.Text[0:60] + \"...\")\n",
    "df = pd.read_csv('data/Tweets_Mg.csv', encoding='utf-8')"
   ]
  },
  {
   "cell_type": "code",
   "execution_count": 425,
   "metadata": {},
   "outputs": [
    {
     "name": "stdout",
     "output_type": "stream",
     "text": [
      "Neutro    :\t���⛪ @ Catedral de Santo Antônio - Governador Valadares/MG h...\n",
      "Neutro    :\t� @ Governador Valadares, Minas Gerais https://t.co/B3ThIDJC...\n",
      "Neutro    :\t�� @ Governador Valadares, Minas Gerais https://t.co/dPkgzVR...\n",
      "Neutro    :\t��� https://t.co/BnDsO34qK0...\n",
      "Negativo  :\t��� PSOL vai questionar aumento de vereadores e prefeito de ...\n",
      "Neutro    :\t\" bom é bandido morto\"\n",
      "Deputado Cabo Júlio é condenado e fic...\n",
      "Neutro    :\t\"..E 25% dos mineiros dizem não torcer para time nenhum,mesm...\n",
      "Neutro    :\t\"A gigantesca barba do mal\" em destaque no caderno Cultura d...\n",
      "Negativo  :\t\"BB e governo de Minas travam disputa sobre depósitos judici...\n",
      "Neutro    :\t\"com vcs bh fica pequena!\" Belo Horizonte (pron. [bɛloɾiˈzõn...\n"
     ]
    }
   ],
   "source": [
    "for i in range(10):\n",
    "    pretty_print_tweet(df.loc[i]);"
   ]
  },
  {
   "cell_type": "markdown",
   "metadata": {
    "slideshow": {
     "slide_type": "subslide"
    }
   },
   "source": [
    "**Problemas comumente encontrados**\n",
    "- Faltas de ortografia (erros de acentuação, crase, entre outros)\n",
    "- Presença de Caracteres especiais\n",
    "- Diferentes maneiras de falar algo muito similar\n",
    "- Nomes Próprios e Siglas\n",
    "- Uso de áspas para enfatizar algo (negrito e itálico podem ter essa função)\n",
    "- Presença de informações adicionais que não estavam nos planos de análise, como endereços de site da Internet"
   ]
  },
  {
   "cell_type": "markdown",
   "metadata": {
    "slideshow": {
     "slide_type": "subslide"
    }
   },
   "source": [
    "**Técnicas que um Cientísta de Dados tem que ter Domínio**\n",
    "- Expressões regulares:\n",
    "    - Permitem remover caracteres especiais\n",
    "    - Permitem remover pontuação\n",
    "    - Permitem deixar somente deixar letras e números\n",
    "    - Permitem remover endereços de sites da internet e e-mails\n",
    "    - ..."
   ]
  },
  {
   "cell_type": "markdown",
   "metadata": {
    "slideshow": {
     "slide_type": "subslide"
    }
   },
   "source": [
    "- Manipulação de Strings:\n",
    "    - `split` para separar uma string em partes por algum separador\n",
    "    - *slicing* para mostrar uma substring\n",
    "    - `upper, lower` para transformar dados para maiúsculo ou minúsculo\n",
    "    - `lstrip(), rstrip(), strip()` para remover espaços à direita e à esquerda ou ambos\n",
    "    - ...   "
   ]
  },
  {
   "cell_type": "markdown",
   "metadata": {
    "slideshow": {
     "slide_type": "subslide"
    }
   },
   "source": [
    "- Processamento de Linguagem Natural (Natural Language Processing - NLP):\n",
    "    - Pré-processamento de strings\n",
    "    - Tokenização\n",
    "    - Remoção de Stopwords\n",
    "    - Extração de Radical de Palavras (stemming)\n",
    "    - Word Embeddings, Word2Vec,\n",
    "    - ..."
   ]
  },
  {
   "cell_type": "markdown",
   "metadata": {
    "slideshow": {
     "slide_type": "subslide"
    }
   },
   "source": [
    "- Bibliotecas nas linguagens de programação que auxiliar para fazer NLP: \n",
    "    - numpy e pandas (que são clássicas e de uso geral)\n",
    "    - spaCy\n",
    "    - Gensim\n",
    "    - Pattern\n",
    "    - **NLTK**"
   ]
  },
  {
   "cell_type": "markdown",
   "metadata": {
    "slideshow": {
     "slide_type": "slide"
    }
   },
   "source": [
    "## Técnicas de Processamento de Linguagem Natural\n",
    "\n",
    "- Pré-processamento de strings\n",
    "- Remoção de Stopwords\n",
    "- Extração de Radical (Stemming)\n",
    "- Tokenização"
   ]
  },
  {
   "cell_type": "markdown",
   "metadata": {
    "slideshow": {
     "slide_type": "subslide"
    }
   },
   "source": [
    "### Pré-processamento de strings"
   ]
  },
  {
   "cell_type": "markdown",
   "metadata": {},
   "source": [
    "- Remoção de caracteres de pontuação de uma frase"
   ]
  },
  {
   "cell_type": "code",
   "execution_count": 426,
   "metadata": {},
   "outputs": [
    {
     "name": "stdout",
     "output_type": "stream",
     "text": [
      "Esta é uma frase com pontuação! Retira a minha ponutação, por favor?\n"
     ]
    }
   ],
   "source": [
    "text = 'Esta é uma frase com pontuação! Retira a minha ponutação, por favor?'\n",
    "print(text)"
   ]
  },
  {
   "cell_type": "code",
   "execution_count": 427,
   "metadata": {},
   "outputs": [
    {
     "name": "stdout",
     "output_type": "stream",
     "text": [
      "Esta é uma frase com pontuação Retira a minha ponutação por favor\n"
     ]
    }
   ],
   "source": [
    "expression = '[!?,]'\n",
    "text_new = pd.Series(text).replace( expression , '', regex=True).loc[0]\n",
    "print(text_new)"
   ]
  },
  {
   "cell_type": "markdown",
   "metadata": {
    "slideshow": {
     "slide_type": "subslide"
    }
   },
   "source": [
    "- Manter apenas letras e números no texto"
   ]
  },
  {
   "cell_type": "code",
   "execution_count": 428,
   "metadata": {},
   "outputs": [
    {
     "name": "stdout",
     "output_type": "stream",
     "text": [
      "Estima-se que 20% dos alunos do IFSC nao sabem trabalhar com expressoes regulares. Sera verdade?\n"
     ]
    }
   ],
   "source": [
    "text = 'Estima-se que 20% dos alunos do IFSC nao sabem trabalhar com expressoes regulares. Sera verdade?'\n",
    "print(text)"
   ]
  },
  {
   "cell_type": "code",
   "execution_count": 429,
   "metadata": {},
   "outputs": [
    {
     "name": "stdout",
     "output_type": "stream",
     "text": [
      "Estimase que 20 dos alunos do IFSC nao sabem trabalhar com expressoes regulares Sera verdade\n"
     ]
    }
   ],
   "source": [
    "expression = '[^a-zA-Z0-9\\s]'\n",
    "text_new = pd.Series(text).replace( expression , '', regex=True).loc[0]\n",
    "print(text_new)"
   ]
  },
  {
   "cell_type": "markdown",
   "metadata": {
    "slideshow": {
     "slide_type": "subslide"
    }
   },
   "source": [
    "- O problema da acentuação"
   ]
  },
  {
   "cell_type": "code",
   "execution_count": 430,
   "metadata": {},
   "outputs": [
    {
     "name": "stdout",
     "output_type": "stream",
     "text": [
      "Estima-se que 20% dos alunos do IFSC não sabem trabalhar com expressões regulares. Será verdade?\n"
     ]
    }
   ],
   "source": [
    "text = 'Estima-se que 20% dos alunos do IFSC não sabem trabalhar com expressões regulares. Será verdade?'\n",
    "print(text)"
   ]
  },
  {
   "cell_type": "code",
   "execution_count": 431,
   "metadata": {},
   "outputs": [
    {
     "name": "stdout",
     "output_type": "stream",
     "text": [
      "Estimase que 20 dos alunos do IFSC no sabem trabalhar com expresses regulares Ser verdade\n"
     ]
    }
   ],
   "source": [
    "expression = '[^a-zA-Z0-9\\s]'\n",
    "text_new = pd.Series(text).replace( expression , '', regex=True).loc[0]\n",
    "print(text_new)"
   ]
  },
  {
   "cell_type": "markdown",
   "metadata": {
    "slideshow": {
     "slide_type": "subslide"
    }
   },
   "source": [
    "- Remover todos os acentos das palavras"
   ]
  },
  {
   "cell_type": "code",
   "execution_count": 432,
   "metadata": {},
   "outputs": [
    {
     "data": {
      "text/plain": [
       "'Estima-se que 20% dos alunos do IFSC não sabem trabalhar com expressões regulares. Será verdade?'"
      ]
     },
     "execution_count": 432,
     "metadata": {},
     "output_type": "execute_result"
    }
   ],
   "source": [
    "text"
   ]
  },
  {
   "cell_type": "code",
   "execution_count": 433,
   "metadata": {},
   "outputs": [],
   "source": [
    "#conda install unidecode"
   ]
  },
  {
   "cell_type": "code",
   "execution_count": 434,
   "metadata": {},
   "outputs": [],
   "source": [
    "import unidecode\n",
    "def remover_acentos(texto):\n",
    "    return unidecode.unidecode(texto)\n",
    "\n",
    "text_new = remover_acentos(text)"
   ]
  },
  {
   "cell_type": "code",
   "execution_count": 435,
   "metadata": {},
   "outputs": [
    {
     "data": {
      "text/plain": [
       "'Estima-se que 20% dos alunos do IFSC nao sabem trabalhar com expressoes regulares. Sera verdade?'"
      ]
     },
     "execution_count": 435,
     "metadata": {},
     "output_type": "execute_result"
    }
   ],
   "source": [
    "text_new"
   ]
  },
  {
   "cell_type": "markdown",
   "metadata": {
    "slideshow": {
     "slide_type": "subslide"
    }
   },
   "source": [
    "- Remover endereço de site da Internet no texto"
   ]
  },
  {
   "cell_type": "code",
   "execution_count": 436,
   "metadata": {},
   "outputs": [
    {
     "data": {
      "text/plain": [
       "'� @ Governador Valadares, Minas Gerais https://t.co/B3ThIDJCSf'"
      ]
     },
     "execution_count": 436,
     "metadata": {},
     "output_type": "execute_result"
    }
   ],
   "source": [
    "text = df.loc[1].Text\n",
    "text"
   ]
  },
  {
   "cell_type": "code",
   "execution_count": 437,
   "metadata": {},
   "outputs": [
    {
     "name": "stdout",
     "output_type": "stream",
     "text": [
      "� @ Governador Valadares, Minas Gerais \n"
     ]
    }
   ],
   "source": [
    "expression = r'https?:\\/\\/.*[\\r\\n]*'\n",
    "text_new = pd.Series(text).replace( expression , '', regex=True).loc[0]\n",
    "print(text_new)"
   ]
  },
  {
   "cell_type": "markdown",
   "metadata": {
    "slideshow": {
     "slide_type": "subslide"
    }
   },
   "source": [
    "- Substituir endereço de E-mail por uma tag"
   ]
  },
  {
   "cell_type": "code",
   "execution_count": 438,
   "metadata": {},
   "outputs": [],
   "source": [
    "text = 'O meu email é andres.ferrero@ifsc.edu.br. Trabalho como professor no IFSC'"
   ]
  },
  {
   "cell_type": "code",
   "execution_count": 439,
   "metadata": {},
   "outputs": [
    {
     "name": "stdout",
     "output_type": "stream",
     "text": [
      "O meu email é <email>. Trabalho como professor no IFSC\n"
     ]
    }
   ],
   "source": [
    "expression = r'([a-zA-Z0-9_\\-\\.]+)@([a-zA-Z0-9_\\-\\.]+)\\.([a-zA-Z]{2,5})'\n",
    "text_new = pd.Series(text).replace( expression , '<email>', regex=True).loc[0]\n",
    "print(text_new)"
   ]
  },
  {
   "cell_type": "markdown",
   "metadata": {
    "slideshow": {
     "slide_type": "subslide"
    }
   },
   "source": [
    "### Tokenização\n",
    "\n",
    "- A tokenização permite separar os elementos de uma frase, como palavras, pontuação, caracteres especiais, entre outros.\n",
    "\n",
    "- Uma função que costuma fazer algo similar é `split`, mas como veremos a tokenização é mais efetiva."
   ]
  },
  {
   "cell_type": "code",
   "execution_count": 440,
   "metadata": {},
   "outputs": [],
   "source": [
    "text = 'Hoje é um dia muito bonito, ótimo para estudar Text Mining!!! Teremos muito para trabalhar!'"
   ]
  },
  {
   "cell_type": "markdown",
   "metadata": {},
   "source": [
    "- Separação dos elementos da frase usando `split`"
   ]
  },
  {
   "cell_type": "code",
   "execution_count": 441,
   "metadata": {},
   "outputs": [
    {
     "name": "stdout",
     "output_type": "stream",
     "text": [
      "['Hoje', 'é', 'um', 'dia', 'muito', 'bonito,', 'ótimo', 'para', 'estudar', 'Text', 'Mining!!!', 'Teremos', 'muito', 'para', 'trabalhar!']\n"
     ]
    }
   ],
   "source": [
    "print( text.split(\" \") )"
   ]
  },
  {
   "cell_type": "markdown",
   "metadata": {
    "slideshow": {
     "slide_type": "subslide"
    }
   },
   "source": [
    "- Separação dos elementos da frase usando tokenização"
   ]
  },
  {
   "cell_type": "code",
   "execution_count": 442,
   "metadata": {},
   "outputs": [],
   "source": [
    "import nltk    \n",
    "# nltk.download('punkt')\n",
    "from nltk import tokenize"
   ]
  },
  {
   "cell_type": "code",
   "execution_count": 443,
   "metadata": {},
   "outputs": [
    {
     "name": "stdout",
     "output_type": "stream",
     "text": [
      "['Hoje', 'é', 'um', 'dia', 'muito', 'bonito', ',', 'ótimo', 'para', 'estudar', 'Text', 'Mining', '!', '!', '!', 'Teremos', 'muito', 'para', 'trabalhar', '!']\n"
     ]
    }
   ],
   "source": [
    "tokens = tokenize.word_tokenize(text, language='portuguese')\n",
    "print( tokens )"
   ]
  },
  {
   "cell_type": "markdown",
   "metadata": {
    "slideshow": {
     "slide_type": "subslide"
    }
   },
   "source": [
    "### Remoção de Stopwords\n",
    "\n",
    "- Stopwords são palavras que se removidas da frase não alteram o seu significado ou sentido.\n",
    "\n",
    "- A lista de Stopwords depende do domínio de aplicação, mas de forma geral, é constituída de preposições.\n",
    "\n",
    "- A biblioteca NLTK já proporciona uma lista de Stopwords para a lingua portuguesa."
   ]
  },
  {
   "cell_type": "code",
   "execution_count": 444,
   "metadata": {},
   "outputs": [
    {
     "name": "stdout",
     "output_type": "stream",
     "text": [
      "Lista de stopwords: \n",
      "['de', 'a', 'o', 'que', 'e', 'do', 'da', 'em', 'um', 'para', 'com', 'não', 'uma', 'os', 'no', 'se', 'na', 'por', 'mais', 'as', 'dos', 'como', 'mas', 'ao', 'ele', 'das', 'à', 'seu', 'sua', 'ou', 'quando', 'muito', 'nos', 'já', 'eu', 'também', 'só', 'pelo', 'pela', 'até', 'isso', 'ela', 'entre', 'depois', 'sem', 'mesmo', 'aos', 'seus', 'quem', 'nas'] ...\n"
     ]
    }
   ],
   "source": [
    "# nltk.download('stopwords')\n",
    "stopwords = nltk.corpus.stopwords.words('portuguese')\n",
    "print('Lista de stopwords: ')\n",
    "print( stopwords[0:50], '...' )"
   ]
  },
  {
   "cell_type": "markdown",
   "metadata": {
    "slideshow": {
     "slide_type": "subslide"
    }
   },
   "source": [
    "- Função para remover Stopwords"
   ]
  },
  {
   "cell_type": "code",
   "execution_count": 445,
   "metadata": {},
   "outputs": [],
   "source": [
    "def remove_stopwords(sentence, language = \"portuguese\"):\n",
    "    # Import packages\n",
    "    # nltk.download('stopwords')\n",
    "    from nltk.corpus import stopwords  \n",
    "    # Split sentence into words\n",
    "    words = sentence.split(' ')\n",
    "    # Get the stopwords list\n",
    "    stopwords = stopwords.words(language)        \n",
    "    words_new = [ word for word in words if word not in stopwords]\n",
    "    # Impode words into a sentence and return\n",
    "    return ' '.join(words_new)"
   ]
  },
  {
   "cell_type": "markdown",
   "metadata": {
    "slideshow": {
     "slide_type": "subslide"
    }
   },
   "source": [
    "- Considere a seguinte frase:"
   ]
  },
  {
   "cell_type": "code",
   "execution_count": 446,
   "metadata": {},
   "outputs": [],
   "source": [
    "text = 'Hoje é um dia muito bonito, ótimo para estudar Text Mining! Teremos que trabalhar.'"
   ]
  },
  {
   "cell_type": "markdown",
   "metadata": {},
   "source": [
    "- Observe que o sentido da seguinte frase não muda após a remoção de Stopwords"
   ]
  },
  {
   "cell_type": "code",
   "execution_count": 447,
   "metadata": {},
   "outputs": [
    {
     "name": "stdout",
     "output_type": "stream",
     "text": [
      "Hoje é dia bonito, ótimo estudar Text Mining! Teremos trabalhar.\n"
     ]
    }
   ],
   "source": [
    "text_new = remove_stopwords(text)\n",
    "print(text_new)"
   ]
  },
  {
   "cell_type": "markdown",
   "metadata": {
    "slideshow": {
     "slide_type": "subslide"
    }
   },
   "source": [
    "### Extração do Radical das Palavras (Stemming)\n",
    "\n",
    "- Esta técnica permite extrair o radical linguístico de uma palavra\n",
    "\n",
    "- É utilizado principalmente para unificar as variações da mesma palavra\n",
    "    - Por exemplo, as palavras `furto`, `furtos`, `furtar`, `furtarei`, possuem como radical `furt`.\n",
    "\n",
    "\n",
    "- Como resultado teremos um conjunto de dados com um número menos de termos"
   ]
  },
  {
   "cell_type": "code",
   "execution_count": 448,
   "metadata": {},
   "outputs": [],
   "source": [
    "def stem_sentence(sentence, language = \"portuguese\"):\n",
    "    # Import packages\n",
    "    from nltk.stem.snowball import SnowballStemmer  \n",
    "    # Split sentence into words\n",
    "    words = sentence.split(' ')\n",
    "    # Stem words\n",
    "    stemmer = SnowballStemmer(language)        \n",
    "    words_stem = [ stemmer.stem(word) for word in words ]\n",
    "    # Impode words into a sentence and return\n",
    "    return ' '.join(words_stem)    "
   ]
  },
  {
   "cell_type": "markdown",
   "metadata": {
    "slideshow": {
     "slide_type": "subslide"
    }
   },
   "source": [
    "- Considere as seguintes três frases."
   ]
  },
  {
   "cell_type": "code",
   "execution_count": 449,
   "metadata": {},
   "outputs": [],
   "source": [
    "msg1 = 'Trio suspeito de furto de carga'\n",
    "msg2 = 'Trio suspeito de furto de cargas'\n",
    "msg3 = 'Trio suspeito de furtos de cargas'"
   ]
  },
  {
   "cell_type": "markdown",
   "metadata": {},
   "source": [
    "- Resultado da aplicação de stemming: antes tínhamos três frases diferentes, agora temos três frases iguais."
   ]
  },
  {
   "cell_type": "code",
   "execution_count": 450,
   "metadata": {},
   "outputs": [
    {
     "name": "stdout",
     "output_type": "stream",
     "text": [
      "Trio suspeito de furto de carga    :  tri suspeit de furt de carg\n",
      "Trio suspeito de furto de cargas   :  tri suspeit de furt de carg\n",
      "Trio suspeito de furtos de cargas  :  tri suspeit de furt de carg\n"
     ]
    }
   ],
   "source": [
    "print( msg1.ljust(33), ' : ', stem_sentence(msg1) )\n",
    "print( msg2.ljust(33), ' : ', stem_sentence(msg2) )\n",
    "print( msg3.ljust(33), ' : ', stem_sentence(msg3) )"
   ]
  },
  {
   "cell_type": "markdown",
   "metadata": {
    "slideshow": {
     "slide_type": "subslide"
    }
   },
   "source": [
    "### Considerações\n",
    "\n",
    "- As funções para tokenização, remoção de stopwords e aplicação de stemming são dependentes do idioma. A biblioteca NLTK possui essas funcionalidade para a lingua portugesa e para outras linhas, como inglês (por default) e espanhol.\n",
    "- As técnicas de pré-processamento de dados não funcionam bem para qualquer caso e devem ser aplicadas com bastante cuidado. Por exemplo, se na frase \"Meu site eh: http://www.meusite.com\" aplicamos remoção de caracteres especiais ou de pontuação, depois não poderemos aplicar a remoção endereço de site da Internet, já que o resultado teria ficado algo como \"Meu site eh httpwwwmeusitecom\".\n",
    "- Em geral a ideia de aplicar estas técnicas consiste em manter o significado das frases do conjunto de dados com o menor número de palavras possível."
   ]
  },
  {
   "cell_type": "markdown",
   "metadata": {
    "slideshow": {
     "slide_type": "slide"
    }
   },
   "source": [
    "### Pré-processamento de Tweets: conjunto de dados *Sentiment Analysis in Portuguese*\n",
    "\n",
    "- O conjunto de dados está disponível na plataforma Kaggle no endereço https://www.kaggle.com/leandrodoze/sentiment-analysis-in-portuguese"
   ]
  },
  {
   "cell_type": "code",
   "execution_count": 451,
   "metadata": {},
   "outputs": [
    {
     "data": {
      "text/html": [
       "<div>\n",
       "<style scoped>\n",
       "    .dataframe tbody tr th:only-of-type {\n",
       "        vertical-align: middle;\n",
       "    }\n",
       "\n",
       "    .dataframe tbody tr th {\n",
       "        vertical-align: top;\n",
       "    }\n",
       "\n",
       "    .dataframe thead th {\n",
       "        text-align: right;\n",
       "    }\n",
       "</style>\n",
       "<table border=\"1\" class=\"dataframe\">\n",
       "  <thead>\n",
       "    <tr style=\"text-align: right;\">\n",
       "      <th></th>\n",
       "      <th>Unnamed: 0</th>\n",
       "      <th>Created At</th>\n",
       "      <th>Text</th>\n",
       "      <th>Geo Coordinates.latitude</th>\n",
       "      <th>Geo Coordinates.longitude</th>\n",
       "      <th>User Location</th>\n",
       "      <th>Username</th>\n",
       "      <th>User Screen Name</th>\n",
       "      <th>Retweet Count</th>\n",
       "      <th>Classificacao</th>\n",
       "      <th>...</th>\n",
       "      <th>Unnamed: 15</th>\n",
       "      <th>Unnamed: 16</th>\n",
       "      <th>Unnamed: 17</th>\n",
       "      <th>Unnamed: 18</th>\n",
       "      <th>Unnamed: 19</th>\n",
       "      <th>Unnamed: 20</th>\n",
       "      <th>Unnamed: 21</th>\n",
       "      <th>Unnamed: 22</th>\n",
       "      <th>Unnamed: 23</th>\n",
       "      <th>Unnamed: 24</th>\n",
       "    </tr>\n",
       "  </thead>\n",
       "  <tbody>\n",
       "    <tr>\n",
       "      <th>0</th>\n",
       "      <td>0</td>\n",
       "      <td>Sun Jan 08 01:22:05 +0000 2017</td>\n",
       "      <td>���⛪ @ Catedral de Santo Antônio - Governador ...</td>\n",
       "      <td>NaN</td>\n",
       "      <td>NaN</td>\n",
       "      <td>Brasil</td>\n",
       "      <td>Leonardo C Schneider</td>\n",
       "      <td>LeoCSchneider</td>\n",
       "      <td>0</td>\n",
       "      <td>Neutro</td>\n",
       "      <td>...</td>\n",
       "      <td>NaN</td>\n",
       "      <td>NaN</td>\n",
       "      <td>NaN</td>\n",
       "      <td>NaN</td>\n",
       "      <td>NaN</td>\n",
       "      <td>NaN</td>\n",
       "      <td>NaN</td>\n",
       "      <td>NaN</td>\n",
       "      <td>NaN</td>\n",
       "      <td>NaN</td>\n",
       "    </tr>\n",
       "  </tbody>\n",
       "</table>\n",
       "<p>1 rows × 26 columns</p>\n",
       "</div>"
      ],
      "text/plain": [
       "   Unnamed: 0                      Created At  \\\n",
       "0           0  Sun Jan 08 01:22:05 +0000 2017   \n",
       "\n",
       "                                                Text  \\\n",
       "0  ���⛪ @ Catedral de Santo Antônio - Governador ...   \n",
       "\n",
       "   Geo Coordinates.latitude  Geo Coordinates.longitude User Location  \\\n",
       "0                       NaN                        NaN        Brasil   \n",
       "\n",
       "               Username User Screen Name  Retweet Count Classificacao  ...  \\\n",
       "0  Leonardo C Schneider    LeoCSchneider              0        Neutro  ...   \n",
       "\n",
       "  Unnamed: 15  Unnamed: 16  Unnamed: 17  Unnamed: 18  Unnamed: 19  \\\n",
       "0         NaN          NaN          NaN          NaN          NaN   \n",
       "\n",
       "   Unnamed: 20  Unnamed: 21  Unnamed: 22  Unnamed: 23  Unnamed: 24  \n",
       "0          NaN          NaN          NaN          NaN          NaN  \n",
       "\n",
       "[1 rows x 26 columns]"
      ]
     },
     "execution_count": 451,
     "metadata": {},
     "output_type": "execute_result"
    }
   ],
   "source": [
    "import pandas as pd\n",
    "df = pd.read_csv('data/Tweets_Mg.csv', encoding='utf-8')\n",
    "df_orig = df\n",
    "df.head(1)"
   ]
  },
  {
   "cell_type": "code",
   "execution_count": 452,
   "metadata": {},
   "outputs": [
    {
     "data": {
      "text/html": [
       "<div>\n",
       "<style scoped>\n",
       "    .dataframe tbody tr th:only-of-type {\n",
       "        vertical-align: middle;\n",
       "    }\n",
       "\n",
       "    .dataframe tbody tr th {\n",
       "        vertical-align: top;\n",
       "    }\n",
       "\n",
       "    .dataframe thead th {\n",
       "        text-align: right;\n",
       "    }\n",
       "</style>\n",
       "<table border=\"1\" class=\"dataframe\">\n",
       "  <thead>\n",
       "    <tr style=\"text-align: right;\">\n",
       "      <th></th>\n",
       "      <th>Unnamed: 0</th>\n",
       "      <th>Created At</th>\n",
       "      <th>Text</th>\n",
       "      <th>Geo Coordinates.latitude</th>\n",
       "      <th>Geo Coordinates.longitude</th>\n",
       "      <th>User Location</th>\n",
       "      <th>Username</th>\n",
       "      <th>User Screen Name</th>\n",
       "      <th>Retweet Count</th>\n",
       "      <th>Classificacao</th>\n",
       "      <th>...</th>\n",
       "      <th>Unnamed: 15</th>\n",
       "      <th>Unnamed: 16</th>\n",
       "      <th>Unnamed: 17</th>\n",
       "      <th>Unnamed: 18</th>\n",
       "      <th>Unnamed: 19</th>\n",
       "      <th>Unnamed: 20</th>\n",
       "      <th>Unnamed: 21</th>\n",
       "      <th>Unnamed: 22</th>\n",
       "      <th>Unnamed: 23</th>\n",
       "      <th>Unnamed: 24</th>\n",
       "    </tr>\n",
       "  </thead>\n",
       "  <tbody>\n",
       "    <tr>\n",
       "      <th>1</th>\n",
       "      <td>1</td>\n",
       "      <td>Sun Jan 08 01:49:01 +0000 2017</td>\n",
       "      <td>� @ Governador Valadares, Minas Gerais https:/...</td>\n",
       "      <td>-41.9333</td>\n",
       "      <td>-18.85</td>\n",
       "      <td>NaN</td>\n",
       "      <td>Wândell</td>\n",
       "      <td>klefnews</td>\n",
       "      <td>0</td>\n",
       "      <td>Neutro</td>\n",
       "      <td>...</td>\n",
       "      <td>NaN</td>\n",
       "      <td>NaN</td>\n",
       "      <td>NaN</td>\n",
       "      <td>NaN</td>\n",
       "      <td>NaN</td>\n",
       "      <td>NaN</td>\n",
       "      <td>NaN</td>\n",
       "      <td>NaN</td>\n",
       "      <td>NaN</td>\n",
       "      <td>NaN</td>\n",
       "    </tr>\n",
       "    <tr>\n",
       "      <th>10</th>\n",
       "      <td>10</td>\n",
       "      <td>Mon Jan 09 15:09:31 +0000 2017</td>\n",
       "      <td>\"Daí a gente visita governador valadares\"\\n\"Qu...</td>\n",
       "      <td>NaN</td>\n",
       "      <td>NaN</td>\n",
       "      <td>error 404 location not found</td>\n",
       "      <td>gambim</td>\n",
       "      <td>marina_gambim</td>\n",
       "      <td>0</td>\n",
       "      <td>Neutro</td>\n",
       "      <td>...</td>\n",
       "      <td>NaN</td>\n",
       "      <td>NaN</td>\n",
       "      <td>NaN</td>\n",
       "      <td>NaN</td>\n",
       "      <td>NaN</td>\n",
       "      <td>NaN</td>\n",
       "      <td>NaN</td>\n",
       "      <td>NaN</td>\n",
       "      <td>NaN</td>\n",
       "      <td>NaN</td>\n",
       "    </tr>\n",
       "    <tr>\n",
       "      <th>20</th>\n",
       "      <td>20</td>\n",
       "      <td>Wed Jan 04 19:43:08 +0000 2017</td>\n",
       "      <td>\"O governo de Minas Gerais não comentou o assu...</td>\n",
       "      <td>NaN</td>\n",
       "      <td>NaN</td>\n",
       "      <td>Belo Horizonte, Brazil</td>\n",
       "      <td>Fora Renan</td>\n",
       "      <td>CedeSilva</td>\n",
       "      <td>4</td>\n",
       "      <td>Neutro</td>\n",
       "      <td>...</td>\n",
       "      <td>NaN</td>\n",
       "      <td>NaN</td>\n",
       "      <td>NaN</td>\n",
       "      <td>NaN</td>\n",
       "      <td>NaN</td>\n",
       "      <td>NaN</td>\n",
       "      <td>NaN</td>\n",
       "      <td>NaN</td>\n",
       "      <td>NaN</td>\n",
       "      <td>NaN</td>\n",
       "    </tr>\n",
       "  </tbody>\n",
       "</table>\n",
       "<p>3 rows × 26 columns</p>\n",
       "</div>"
      ],
      "text/plain": [
       "    Unnamed: 0                      Created At  \\\n",
       "1            1  Sun Jan 08 01:49:01 +0000 2017   \n",
       "10          10  Mon Jan 09 15:09:31 +0000 2017   \n",
       "20          20  Wed Jan 04 19:43:08 +0000 2017   \n",
       "\n",
       "                                                 Text  \\\n",
       "1   � @ Governador Valadares, Minas Gerais https:/...   \n",
       "10  \"Daí a gente visita governador valadares\"\\n\"Qu...   \n",
       "20  \"O governo de Minas Gerais não comentou o assu...   \n",
       "\n",
       "    Geo Coordinates.latitude  Geo Coordinates.longitude  \\\n",
       "1                   -41.9333                     -18.85   \n",
       "10                       NaN                        NaN   \n",
       "20                       NaN                        NaN   \n",
       "\n",
       "                   User Location    Username User Screen Name  Retweet Count  \\\n",
       "1                            NaN     Wândell         klefnews              0   \n",
       "10  error 404 location not found      gambim    marina_gambim              0   \n",
       "20        Belo Horizonte, Brazil  Fora Renan        CedeSilva              4   \n",
       "\n",
       "   Classificacao  ... Unnamed: 15  Unnamed: 16  Unnamed: 17  Unnamed: 18  \\\n",
       "1         Neutro  ...         NaN          NaN          NaN          NaN   \n",
       "10        Neutro  ...         NaN          NaN          NaN          NaN   \n",
       "20        Neutro  ...         NaN          NaN          NaN          NaN   \n",
       "\n",
       "    Unnamed: 19  Unnamed: 20  Unnamed: 21  Unnamed: 22  Unnamed: 23  \\\n",
       "1           NaN          NaN          NaN          NaN          NaN   \n",
       "10          NaN          NaN          NaN          NaN          NaN   \n",
       "20          NaN          NaN          NaN          NaN          NaN   \n",
       "\n",
       "    Unnamed: 24  \n",
       "1           NaN  \n",
       "10          NaN  \n",
       "20          NaN  \n",
       "\n",
       "[3 rows x 26 columns]"
      ]
     },
     "execution_count": 452,
     "metadata": {},
     "output_type": "execute_result"
    }
   ],
   "source": [
    "df.loc[[1,10,20]]"
   ]
  },
  {
   "cell_type": "markdown",
   "metadata": {
    "slideshow": {
     "slide_type": "subslide"
    }
   },
   "source": [
    "### Descrição dos tipos de dados de cada coluna"
   ]
  },
  {
   "cell_type": "code",
   "execution_count": 453,
   "metadata": {},
   "outputs": [
    {
     "name": "stdout",
     "output_type": "stream",
     "text": [
      "<class 'pandas.core.frame.DataFrame'>\n",
      "RangeIndex: 8199 entries, 0 to 8198\n",
      "Data columns (total 26 columns):\n",
      " #   Column                     Non-Null Count  Dtype  \n",
      "---  ------                     --------------  -----  \n",
      " 0   Unnamed: 0                 8199 non-null   int64  \n",
      " 1   Created At                 8199 non-null   object \n",
      " 2   Text                       8199 non-null   object \n",
      " 3   Geo Coordinates.latitude   104 non-null    float64\n",
      " 4   Geo Coordinates.longitude  104 non-null    float64\n",
      " 5   User Location              5489 non-null   object \n",
      " 6   Username                   8199 non-null   object \n",
      " 7   User Screen Name           8199 non-null   object \n",
      " 8   Retweet Count              8199 non-null   int64  \n",
      " 9   Classificacao              8199 non-null   object \n",
      " 10  Observação                 1 non-null      object \n",
      " 11  Unnamed: 10                0 non-null      float64\n",
      " 12  Unnamed: 11                0 non-null      float64\n",
      " 13  Unnamed: 12                0 non-null      float64\n",
      " 14  Unnamed: 13                0 non-null      float64\n",
      " 15  Unnamed: 14                0 non-null      float64\n",
      " 16  Unnamed: 15                0 non-null      float64\n",
      " 17  Unnamed: 16                0 non-null      float64\n",
      " 18  Unnamed: 17                0 non-null      float64\n",
      " 19  Unnamed: 18                0 non-null      float64\n",
      " 20  Unnamed: 19                0 non-null      float64\n",
      " 21  Unnamed: 20                0 non-null      float64\n",
      " 22  Unnamed: 21                0 non-null      float64\n",
      " 23  Unnamed: 22                0 non-null      float64\n",
      " 24  Unnamed: 23                0 non-null      float64\n",
      " 25  Unnamed: 24                0 non-null      float64\n",
      "dtypes: float64(17), int64(2), object(7)\n",
      "memory usage: 1.6+ MB\n"
     ]
    }
   ],
   "source": [
    "df.info()"
   ]
  },
  {
   "cell_type": "markdown",
   "metadata": {
    "slideshow": {
     "slide_type": "subslide"
    }
   },
   "source": [
    "### Seleção das Colunas Improtantes para Estudo"
   ]
  },
  {
   "cell_type": "code",
   "execution_count": 454,
   "metadata": {},
   "outputs": [
    {
     "data": {
      "text/html": [
       "<div>\n",
       "<style scoped>\n",
       "    .dataframe tbody tr th:only-of-type {\n",
       "        vertical-align: middle;\n",
       "    }\n",
       "\n",
       "    .dataframe tbody tr th {\n",
       "        vertical-align: top;\n",
       "    }\n",
       "\n",
       "    .dataframe thead th {\n",
       "        text-align: right;\n",
       "    }\n",
       "</style>\n",
       "<table border=\"1\" class=\"dataframe\">\n",
       "  <thead>\n",
       "    <tr style=\"text-align: right;\">\n",
       "      <th></th>\n",
       "      <th>Text</th>\n",
       "      <th>Classificacao</th>\n",
       "    </tr>\n",
       "  </thead>\n",
       "  <tbody>\n",
       "    <tr>\n",
       "      <th>0</th>\n",
       "      <td>���⛪ @ Catedral de Santo Antônio - Governador ...</td>\n",
       "      <td>Neutro</td>\n",
       "    </tr>\n",
       "    <tr>\n",
       "      <th>1</th>\n",
       "      <td>� @ Governador Valadares, Minas Gerais https:/...</td>\n",
       "      <td>Neutro</td>\n",
       "    </tr>\n",
       "    <tr>\n",
       "      <th>2</th>\n",
       "      <td>�� @ Governador Valadares, Minas Gerais https:...</td>\n",
       "      <td>Neutro</td>\n",
       "    </tr>\n",
       "    <tr>\n",
       "      <th>3</th>\n",
       "      <td>��� https://t.co/BnDsO34qK0</td>\n",
       "      <td>Neutro</td>\n",
       "    </tr>\n",
       "    <tr>\n",
       "      <th>4</th>\n",
       "      <td>��� PSOL vai questionar aumento de vereadores ...</td>\n",
       "      <td>Negativo</td>\n",
       "    </tr>\n",
       "  </tbody>\n",
       "</table>\n",
       "</div>"
      ],
      "text/plain": [
       "                                                Text Classificacao\n",
       "0  ���⛪ @ Catedral de Santo Antônio - Governador ...        Neutro\n",
       "1  � @ Governador Valadares, Minas Gerais https:/...        Neutro\n",
       "2  �� @ Governador Valadares, Minas Gerais https:...        Neutro\n",
       "3                        ��� https://t.co/BnDsO34qK0        Neutro\n",
       "4  ��� PSOL vai questionar aumento de vereadores ...      Negativo"
      ]
     },
     "execution_count": 454,
     "metadata": {},
     "output_type": "execute_result"
    }
   ],
   "source": [
    "df = df[ ['Text','Classificacao'] ]\n",
    "df.head()"
   ]
  },
  {
   "cell_type": "markdown",
   "metadata": {
    "slideshow": {
     "slide_type": "subslide"
    }
   },
   "source": [
    "- Mostrar os dados do conjunto com uma função específica"
   ]
  },
  {
   "cell_type": "code",
   "execution_count": 455,
   "metadata": {},
   "outputs": [],
   "source": [
    "import pandas as pd\n",
    "def pretty_print_tweet(item):\n",
    "    print(item.Classificacao.ljust(10) + \":\\t\" + item.Text[0:60] + \"...\")"
   ]
  },
  {
   "cell_type": "code",
   "execution_count": 456,
   "metadata": {},
   "outputs": [
    {
     "name": "stdout",
     "output_type": "stream",
     "text": [
      "Neutro    :\t���⛪ @ Catedral de Santo Antônio - Governador Valadares/MG h...\n",
      "Neutro    :\t� @ Governador Valadares, Minas Gerais https://t.co/B3ThIDJC...\n",
      "Neutro    :\t�� @ Governador Valadares, Minas Gerais https://t.co/dPkgzVR...\n",
      "Neutro    :\t��� https://t.co/BnDsO34qK0...\n",
      "Negativo  :\t��� PSOL vai questionar aumento de vereadores e prefeito de ...\n",
      "Neutro    :\t\" bom é bandido morto\"\n",
      "Deputado Cabo Júlio é condenado e fic...\n",
      "Neutro    :\t\"..E 25% dos mineiros dizem não torcer para time nenhum,mesm...\n",
      "Neutro    :\t\"A gigantesca barba do mal\" em destaque no caderno Cultura d...\n",
      "Negativo  :\t\"BB e governo de Minas travam disputa sobre depósitos judici...\n",
      "Neutro    :\t\"com vcs bh fica pequena!\" Belo Horizonte (pron. [bɛloɾiˈzõn...\n"
     ]
    }
   ],
   "source": [
    "for i in range(10):\n",
    "    pretty_print_tweet(df.loc[i]);"
   ]
  },
  {
   "cell_type": "markdown",
   "metadata": {
    "slideshow": {
     "slide_type": "subslide"
    }
   },
   "source": [
    "### Contagem do número de tweets por categoria"
   ]
  },
  {
   "cell_type": "code",
   "execution_count": 457,
   "metadata": {},
   "outputs": [
    {
     "data": {
      "text/html": [
       "<div>\n",
       "<style scoped>\n",
       "    .dataframe tbody tr th:only-of-type {\n",
       "        vertical-align: middle;\n",
       "    }\n",
       "\n",
       "    .dataframe tbody tr th {\n",
       "        vertical-align: top;\n",
       "    }\n",
       "\n",
       "    .dataframe thead th {\n",
       "        text-align: right;\n",
       "    }\n",
       "</style>\n",
       "<table border=\"1\" class=\"dataframe\">\n",
       "  <thead>\n",
       "    <tr style=\"text-align: right;\">\n",
       "      <th></th>\n",
       "      <th>Text</th>\n",
       "    </tr>\n",
       "    <tr>\n",
       "      <th>Classificacao</th>\n",
       "      <th></th>\n",
       "    </tr>\n",
       "  </thead>\n",
       "  <tbody>\n",
       "    <tr>\n",
       "      <th>Negativo</th>\n",
       "      <td>2446</td>\n",
       "    </tr>\n",
       "    <tr>\n",
       "      <th>Neutro</th>\n",
       "      <td>2453</td>\n",
       "    </tr>\n",
       "    <tr>\n",
       "      <th>Positivo</th>\n",
       "      <td>3300</td>\n",
       "    </tr>\n",
       "  </tbody>\n",
       "</table>\n",
       "</div>"
      ],
      "text/plain": [
       "               Text\n",
       "Classificacao      \n",
       "Negativo       2446\n",
       "Neutro         2453\n",
       "Positivo       3300"
      ]
     },
     "execution_count": 457,
     "metadata": {},
     "output_type": "execute_result"
    }
   ],
   "source": [
    "df.groupby('Classificacao').count()"
   ]
  },
  {
   "cell_type": "markdown",
   "metadata": {
    "slideshow": {
     "slide_type": "subslide"
    }
   },
   "source": [
    "### Separando twees positivos, negativos e neutros"
   ]
  },
  {
   "cell_type": "code",
   "execution_count": 458,
   "metadata": {},
   "outputs": [],
   "source": [
    "df_neg = df.query('Classificacao == \"Negativo\"')\n",
    "df_pos = df.query('Classificacao == \"Positivo\"')\n",
    "df_neu = df.query('Classificacao == \"Neutro\"')"
   ]
  },
  {
   "cell_type": "markdown",
   "metadata": {
    "slideshow": {
     "slide_type": "subslide"
    }
   },
   "source": [
    "**Negativos**"
   ]
  },
  {
   "cell_type": "code",
   "execution_count": 459,
   "metadata": {},
   "outputs": [
    {
     "name": "stdout",
     "output_type": "stream",
     "text": [
      "Negativo  :\t��� PSOL vai questionar aumento de vereadores e prefeito de ...\n",
      "Negativo  :\t\"BB e governo de Minas travam disputa sobre depósitos judici...\n",
      "Negativo  :\t\"erro desconhecido\" é mato! Aliás, é da secretaria estadual ...\n",
      "Negativo  :\t\"Mesmo sem muito dinheiro no caixa o governo de Minas Gerais...\n",
      "Negativo  :\t\"uso de aeronave pertencente ao  Estado de MG, em domingo, p...\n",
      "Negativo  :\t#Alerta - Nome da CEEE é utilizado em golpe no Estado. https...\n",
      "Negativo  :\t#beta #betalab #mg Governo em calamidade financeira: BB avis...\n",
      "Negativo  :\t#i5gornascimento @i5gornascimento g1 Prefeito de Aimorés dec...\n",
      "Negativo  :\t#noticiasdorenan Em calamidade financeira, governo de MG com...\n",
      "Negativo  :\t#noticiasdorenan Uso de depósitos judiciais pelo governo tem...\n"
     ]
    }
   ],
   "source": [
    "for i in range(10):\n",
    "    pretty_print_tweet(df_neg.reset_index().loc[i]);"
   ]
  },
  {
   "cell_type": "markdown",
   "metadata": {
    "slideshow": {
     "slide_type": "subslide"
    }
   },
   "source": [
    "**Positivos**"
   ]
  },
  {
   "cell_type": "code",
   "execution_count": 460,
   "metadata": {},
   "outputs": [
    {
     "name": "stdout",
     "output_type": "stream",
     "text": [
      "Positivo  :\t#DefesaAgropecuária \"Governo de Minas Gerais aposta nos Arra...\n",
      "Positivo  :\t#EBC Governo de Minas investiga casos suspeitos de febre ama...\n",
      "Positivo  :\t#Minas vai dobrar oferta de trabalho e estudo nos #presídios...\n",
      "Positivo  :\t#Minas vai dobrar oferta de trabalho e estudo nos #presídios...\n",
      "Positivo  :\t#SUS Minas Gerais recebe recurso máximo disponibilizado pelo...\n",
      "Positivo  :\t@diegocabral75 @exame aí em MG, ta td bem? Pimentel cada dia...\n",
      "Positivo  :\t@israel_massa @ferrisss @JornalOGlobo pelo menos 1 coisa p s...\n",
      "Positivo  :\t@madeleinelacsko Em MG e SP,o Estado tem razoável controle s...\n",
      "Positivo  :\t@Madonegatti MG melhor estado...\n",
      "Positivo  :\t@MrSincero_ @klyfor @MBLivre @MBLivreBH Minas foi governada ...\n"
     ]
    }
   ],
   "source": [
    "for i in range(10):\n",
    "    pretty_print_tweet(df_pos.reset_index().loc[i]);"
   ]
  },
  {
   "cell_type": "markdown",
   "metadata": {
    "slideshow": {
     "slide_type": "subslide"
    }
   },
   "source": [
    "**Neutros**"
   ]
  },
  {
   "cell_type": "code",
   "execution_count": 461,
   "metadata": {},
   "outputs": [
    {
     "name": "stdout",
     "output_type": "stream",
     "text": [
      "Neutro    :\t���⛪ @ Catedral de Santo Antônio - Governador Valadares/MG h...\n",
      "Neutro    :\t� @ Governador Valadares, Minas Gerais https://t.co/B3ThIDJC...\n",
      "Neutro    :\t�� @ Governador Valadares, Minas Gerais https://t.co/dPkgzVR...\n",
      "Neutro    :\t��� https://t.co/BnDsO34qK0...\n",
      "Neutro    :\t\" bom é bandido morto\"\n",
      "Deputado Cabo Júlio é condenado e fic...\n",
      "Neutro    :\t\"..E 25% dos mineiros dizem não torcer para time nenhum,mesm...\n",
      "Neutro    :\t\"A gigantesca barba do mal\" em destaque no caderno Cultura d...\n",
      "Neutro    :\t\"com vcs bh fica pequena!\" Belo Horizonte (pron. [bɛloɾiˈzõn...\n",
      "Neutro    :\t\"Daí a gente visita governador valadares\"\n",
      "\"Que lugar eh esse...\n",
      "Neutro    :\t\"É bonita e é bonita...\" \n",
      "#latergram #ibituruna #home @ Gove...\n"
     ]
    }
   ],
   "source": [
    "for i in range(10):\n",
    "    pretty_print_tweet(df_neu.reset_index().loc[i]);"
   ]
  },
  {
   "cell_type": "markdown",
   "metadata": {
    "slideshow": {
     "slide_type": "subslide"
    }
   },
   "source": [
    "### Pré-processamento dos Tweets"
   ]
  },
  {
   "cell_type": "markdown",
   "metadata": {
    "slideshow": {
     "slide_type": "subslide"
    }
   },
   "source": [
    "**Remover acentuação**\n",
    "\n",
    "- A função `remover_acentos` é aplicada a cada tupla (linha) do DataFrame na coluna Text, usando a função `apply`."
   ]
  },
  {
   "cell_type": "code",
   "execution_count": 462,
   "metadata": {},
   "outputs": [],
   "source": [
    "import unidecode\n",
    "\n",
    "def remover_acentos(texto):\n",
    "    return unidecode.unidecode(texto)"
   ]
  },
  {
   "cell_type": "code",
   "execution_count": 463,
   "metadata": {},
   "outputs": [
    {
     "name": "stderr",
     "output_type": "stream",
     "text": [
      "C:\\Users\\andres\\Anaconda3\\envs\\dm\\lib\\site-packages\\pandas\\core\\generic.py:5168: SettingWithCopyWarning: \n",
      "A value is trying to be set on a copy of a slice from a DataFrame.\n",
      "Try using .loc[row_indexer,col_indexer] = value instead\n",
      "\n",
      "See the caveats in the documentation: https://pandas.pydata.org/pandas-docs/stable/user_guide/indexing.html#returning-a-view-versus-a-copy\n",
      "  self[name] = value\n"
     ]
    }
   ],
   "source": [
    "df.Text = df.Text.apply(remover_acentos)"
   ]
  },
  {
   "cell_type": "code",
   "execution_count": 464,
   "metadata": {},
   "outputs": [
    {
     "name": "stdout",
     "output_type": "stream",
     "text": [
      "Neutro    :\t[?] @ Catedral de Santo Antonio - Governador Valadares/MG ht...\n",
      "Neutro    :\t @ Governador Valadares, Minas Gerais https://t.co/B3ThIDJCS...\n",
      "Neutro    :\t @ Governador Valadares, Minas Gerais https://t.co/dPkgzVR2Q...\n",
      "Neutro    :\t https://t.co/BnDsO34qK0...\n",
      "Negativo  :\t PSOL vai questionar aumento de vereadores e prefeito de BH ...\n",
      "Neutro    :\t\" bom e bandido morto\"\n",
      "Deputado Cabo Julio e condenado e fic...\n",
      "Neutro    :\t\"..E 25% dos mineiros dizem nao torcer para time nenhum,mesm...\n",
      "Neutro    :\t\"A gigantesca barba do mal\" em destaque no caderno Cultura d...\n",
      "Negativo  :\t\"BB e governo de Minas travam disputa sobre depositos judici...\n",
      "Neutro    :\t\"com vcs bh fica pequena!\" Belo Horizonte (pron. [belori'zon...\n"
     ]
    }
   ],
   "source": [
    "for i in range(10):\n",
    "    pretty_print_tweet(df.loc[i]);"
   ]
  },
  {
   "cell_type": "markdown",
   "metadata": {
    "slideshow": {
     "slide_type": "subslide"
    }
   },
   "source": [
    "**Diversos pré-processamentos**\n",
    "\n",
    "- Remoção de endereço de website\n",
    "- Remoção de caracteres que não sem letras, números, espaços, vírgulas ou pontos\n",
    "- Realizamos as remoções pela substituição por espaços\n",
    "- Ao final substituímos espaços múltiplos por apenas um espaço"
   ]
  },
  {
   "cell_type": "code",
   "execution_count": 465,
   "metadata": {},
   "outputs": [],
   "source": [
    "regex_to_replace = {\n",
    "    r'https?:\\/\\/.*[\\r\\n]*' : ' ',\n",
    "    '[^a-zA-Z0-9]+' : ' ',\n",
    "    '[,.]+' : ' ',\n",
    "    '\\n' : ' ',\n",
    "    '\\s+' : ' '\n",
    "}"
   ]
  },
  {
   "cell_type": "code",
   "execution_count": 466,
   "metadata": {},
   "outputs": [],
   "source": [
    "df.Text = df.Text.replace(regex_to_replace, regex=True)\n",
    "df.Text = df.Text.str.strip()"
   ]
  },
  {
   "cell_type": "code",
   "execution_count": 467,
   "metadata": {},
   "outputs": [
    {
     "name": "stdout",
     "output_type": "stream",
     "text": [
      "Neutro    :\tCatedral de Santo Antonio Governador Valadares MG...\n",
      "Neutro    :\tGovernador Valadares Minas Gerais...\n",
      "Neutro    :\tGovernador Valadares Minas Gerais...\n",
      "Neutro    :\t...\n",
      "Negativo  :\tPSOL vai questionar aumento de vereadores e prefeito de BH n...\n",
      "Neutro    :\tbom e bandido morto Deputado Cabo Julio e condenado e fica i...\n",
      "Neutro    :\tE 25 dos mineiros dizem nao torcer para time nenhum mesmo de...\n",
      "Neutro    :\tA gigantesca barba do mal em destaque no caderno Cultura do ...\n",
      "Negativo  :\tBB e governo de Minas travam disputa sobre depositos judicia...\n",
      "Neutro    :\tcom vcs bh fica pequena Belo Horizonte pron belori zontSi 10...\n"
     ]
    }
   ],
   "source": [
    "for i in range(10):\n",
    "    pretty_print_tweet(df.loc[i]);"
   ]
  },
  {
   "cell_type": "markdown",
   "metadata": {
    "slideshow": {
     "slide_type": "subslide"
    }
   },
   "source": [
    "**Remoção de Stopwords**"
   ]
  },
  {
   "cell_type": "code",
   "execution_count": 468,
   "metadata": {},
   "outputs": [],
   "source": [
    "df.Text = df.Text.apply(remove_stopwords).values"
   ]
  },
  {
   "cell_type": "code",
   "execution_count": 469,
   "metadata": {},
   "outputs": [
    {
     "name": "stdout",
     "output_type": "stream",
     "text": [
      "Neutro    :\tCatedral Santo Antonio Governador Valadares MG...\n",
      "Neutro    :\tGovernador Valadares Minas Gerais...\n",
      "Neutro    :\tGovernador Valadares Minas Gerais...\n",
      "Neutro    :\t...\n",
      "Negativo  :\tPSOL vai questionar aumento vereadores prefeito BH Justica P...\n",
      "Neutro    :\tbom bandido morto Deputado Cabo Julio condenado fica inelegi...\n",
      "Neutro    :\tE 25 mineiros dizem nao torcer time nenhum dentro estado Atl...\n",
      "Neutro    :\tA gigantesca barba mal destaque caderno Cultura Estado Minas...\n",
      "Negativo  :\tBB governo Minas travam disputa sobre depositos judiciais...\n",
      "Neutro    :\tvcs bh fica pequena Belo Horizonte pron belori zontSi 10 cap...\n"
     ]
    }
   ],
   "source": [
    "for i in range(10):\n",
    "    pretty_print_tweet(df.loc[i]);"
   ]
  },
  {
   "cell_type": "markdown",
   "metadata": {
    "slideshow": {
     "slide_type": "subslide"
    }
   },
   "source": [
    "**Aplicação de Stemming**"
   ]
  },
  {
   "cell_type": "code",
   "execution_count": 470,
   "metadata": {},
   "outputs": [],
   "source": [
    "df.Text = df.Text.apply(stem_sentence).values"
   ]
  },
  {
   "cell_type": "code",
   "execution_count": 471,
   "metadata": {},
   "outputs": [
    {
     "name": "stdout",
     "output_type": "stream",
     "text": [
      "Neutro    :\tcatedral sant antoni govern valad mg...\n",
      "Neutro    :\tgovern valad min ger...\n",
      "Neutro    :\tgovern valad min ger...\n",
      "Neutro    :\t...\n",
      "Negativo  :\tpsol vai question aument vereador prefeit bh justic polit es...\n",
      "Neutro    :\tbom band mort deput cab juli conden fic inelegivel 10 anos p...\n",
      "Neutro    :\te 25 mineir diz nao torc tim nenhum dentr estad atlet mg cru...\n",
      "Neutro    :\ta gigantesc barb mal destaqu cadern cultur estad min...\n",
      "Negativo  :\tbb govern min trav disput sobr deposit judic...\n",
      "Neutro    :\tvcs bh fic pequen bel horizont pron belor zonts 10 capital e...\n"
     ]
    }
   ],
   "source": [
    "for i in range(10):\n",
    "    pretty_print_tweet(df.loc[i]);"
   ]
  },
  {
   "cell_type": "markdown",
   "metadata": {
    "slideshow": {
     "slide_type": "subslide"
    }
   },
   "source": [
    "### Contagem de Termos Antes / Depois do Pré-processamento"
   ]
  },
  {
   "cell_type": "markdown",
   "metadata": {},
   "source": [
    "- Usamos uma função que explora a coluna que contém os textos, separa cada sentença em palavras, e retorna o conjunto (sem repetições) de palavras."
   ]
  },
  {
   "cell_type": "code",
   "execution_count": 478,
   "metadata": {},
   "outputs": [],
   "source": [
    "from itertools import chain\n",
    "\n",
    "def get_word_set(sentences):\n",
    "    words_for_sentence = [sentence.split(' ') for sentence in sentences]    \n",
    "    flatten_list = list(chain(*words_for_sentence))\n",
    "    word_set = set(flatten_list)\n",
    "    return word_set"
   ]
  },
  {
   "cell_type": "code",
   "execution_count": 479,
   "metadata": {},
   "outputs": [
    {
     "data": {
      "text/plain": [
       "'catedral sant antoni govern valad mg'"
      ]
     },
     "execution_count": 479,
     "metadata": {},
     "output_type": "execute_result"
    }
   ],
   "source": [
    "df.Text[0]"
   ]
  },
  {
   "cell_type": "code",
   "execution_count": 480,
   "metadata": {},
   "outputs": [
    {
     "data": {
      "text/plain": [
       "{'antoni', 'catedral', 'govern', 'mg', 'sant', 'valad'}"
      ]
     },
     "execution_count": 480,
     "metadata": {},
     "output_type": "execute_result"
    }
   ],
   "source": [
    "get_word_set(df.Text[:1])"
   ]
  },
  {
   "cell_type": "code",
   "execution_count": 481,
   "metadata": {},
   "outputs": [
    {
     "name": "stdout",
     "output_type": "stream",
     "text": [
      "Número de Termos:  16271\n"
     ]
    }
   ],
   "source": [
    "word_set_orig = get_word_set(df_orig.Text)\n",
    "print('Número de Termos: ', len(word_set_orig) )"
   ]
  },
  {
   "cell_type": "code",
   "execution_count": 482,
   "metadata": {},
   "outputs": [
    {
     "name": "stdout",
     "output_type": "stream",
     "text": [
      "Número de Termos:  5319\n"
     ]
    }
   ],
   "source": [
    "word_set = get_word_set(df.Text)\n",
    "print('Número de Termos: ', len(word_set) )"
   ]
  },
  {
   "cell_type": "code",
   "execution_count": 483,
   "metadata": {},
   "outputs": [
    {
     "name": "stdout",
     "output_type": "stream",
     "text": [
      "A redução do número de termos foi de 67.31%\n"
     ]
    }
   ],
   "source": [
    "ratio = 1 - len(word_set) / len(word_set_orig)\n",
    "print('A redução do número de termos foi de {:.2f}%'.format( ratio*100) )"
   ]
  },
  {
   "cell_type": "markdown",
   "metadata": {
    "slideshow": {
     "slide_type": "subslide"
    }
   },
   "source": [
    "### Palavras mais Frequentes Positivas e Negativas"
   ]
  },
  {
   "cell_type": "code",
   "execution_count": 484,
   "metadata": {},
   "outputs": [
    {
     "data": {
      "text/html": [
       "<div>\n",
       "<style scoped>\n",
       "    .dataframe tbody tr th:only-of-type {\n",
       "        vertical-align: middle;\n",
       "    }\n",
       "\n",
       "    .dataframe tbody tr th {\n",
       "        vertical-align: top;\n",
       "    }\n",
       "\n",
       "    .dataframe thead th {\n",
       "        text-align: right;\n",
       "    }\n",
       "</style>\n",
       "<table border=\"1\" class=\"dataframe\">\n",
       "  <thead>\n",
       "    <tr style=\"text-align: right;\">\n",
       "      <th></th>\n",
       "      <th>Text</th>\n",
       "      <th>Classificacao</th>\n",
       "    </tr>\n",
       "  </thead>\n",
       "  <tbody>\n",
       "    <tr>\n",
       "      <th>0</th>\n",
       "      <td>defesaagropecu govern min ger apost arranj pro...</td>\n",
       "      <td>Positivo</td>\n",
       "    </tr>\n",
       "    <tr>\n",
       "      <th>1</th>\n",
       "      <td>ebc govern min investig cas suspeit febr amare...</td>\n",
       "      <td>Positivo</td>\n",
       "    </tr>\n",
       "    <tr>\n",
       "      <th>2</th>\n",
       "      <td>min vai dobr ofert trabalh estud presidi estad</td>\n",
       "      <td>Positivo</td>\n",
       "    </tr>\n",
       "    <tr>\n",
       "      <th>3</th>\n",
       "      <td>min vai dobr ofert trabalh estud presidi estad</td>\n",
       "      <td>Positivo</td>\n",
       "    </tr>\n",
       "    <tr>\n",
       "      <th>4</th>\n",
       "      <td>sus min ger receb recurs maxim disponibiliz go...</td>\n",
       "      <td>Positivo</td>\n",
       "    </tr>\n",
       "  </tbody>\n",
       "</table>\n",
       "</div>"
      ],
      "text/plain": [
       "                                                Text Classificacao\n",
       "0  defesaagropecu govern min ger apost arranj pro...      Positivo\n",
       "1  ebc govern min investig cas suspeit febr amare...      Positivo\n",
       "2     min vai dobr ofert trabalh estud presidi estad      Positivo\n",
       "3     min vai dobr ofert trabalh estud presidi estad      Positivo\n",
       "4  sus min ger receb recurs maxim disponibiliz go...      Positivo"
      ]
     },
     "execution_count": 484,
     "metadata": {},
     "output_type": "execute_result"
    }
   ],
   "source": [
    "dfnew = df.query('Classificacao == \"Positivo\"').append( df.query('Classificacao == \"Negativo\"') ).reset_index(drop=True)\n",
    "dfnew.head()"
   ]
  },
  {
   "cell_type": "code",
   "execution_count": 485,
   "metadata": {},
   "outputs": [],
   "source": [
    "from collections import Counter\n",
    "positive_counts = Counter()\n",
    "negative_counts = Counter()\n",
    "total_counts = Counter()"
   ]
  },
  {
   "cell_type": "code",
   "execution_count": 486,
   "metadata": {},
   "outputs": [],
   "source": [
    "for i in range(len(dfnew.Text)):\n",
    "    if(dfnew.Classificacao[i] == 'Positivo'):\n",
    "        for word in dfnew.Text[i].split(\" \"):\n",
    "            positive_counts[word] += 1\n",
    "            total_counts[word] += 1\n",
    "    else:\n",
    "        for word in dfnew.Text[i].split(\" \"):\n",
    "            negative_counts[word] += 1\n",
    "            total_counts[word] += 1"
   ]
  },
  {
   "cell_type": "markdown",
   "metadata": {
    "slideshow": {
     "slide_type": "subslide"
    }
   },
   "source": [
    "**Termos mais frequentes em tweets postivos**"
   ]
  },
  {
   "cell_type": "code",
   "execution_count": 487,
   "metadata": {},
   "outputs": [
    {
     "data": {
      "text/plain": [
       "[('min', 1001),\n",
       " ('drog', 994),\n",
       " ('pres', 822),\n",
       " ('mg', 732),\n",
       " ('rt', 608),\n",
       " ('presidi', 551),\n",
       " ('ger', 493),\n",
       " ('febr', 489),\n",
       " ('amarel', 489),\n",
       " ('trafic', 487),\n",
       " ('roub', 479),\n",
       " ('polic', 411),\n",
       " ('suspeit', 395),\n",
       " ('contr', 384),\n",
       " ('sao', 368)]"
      ]
     },
     "execution_count": 487,
     "metadata": {},
     "output_type": "execute_result"
    }
   ],
   "source": [
    "positive_counts.most_common(15)"
   ]
  },
  {
   "cell_type": "markdown",
   "metadata": {
    "slideshow": {
     "slide_type": "subslide"
    }
   },
   "source": [
    "**Termos mais frequentes em tweets negativos**"
   ]
  },
  {
   "cell_type": "code",
   "execution_count": 488,
   "metadata": {},
   "outputs": [
    {
     "data": {
      "text/plain": [
       "[('rt', 1729),\n",
       " ('govern', 1559),\n",
       " ('helicopter', 1431),\n",
       " ('mg', 1239),\n",
       " ('calam', 1167),\n",
       " ('compr', 977),\n",
       " ('financeir', 953),\n",
       " ('dois', 847),\n",
       " ('min', 784),\n",
       " ('estad', 708),\n",
       " ('q', 633),\n",
       " ('pimentel', 495),\n",
       " ('mesm', 440),\n",
       " ('2', 421),\n",
       " ('a', 409)]"
      ]
     },
     "execution_count": 488,
     "metadata": {},
     "output_type": "execute_result"
    }
   ],
   "source": [
    "negative_counts.most_common(15)"
   ]
  },
  {
   "cell_type": "markdown",
   "metadata": {
    "slideshow": {
     "slide_type": "subslide"
    }
   },
   "source": [
    "**Termos mais frequentes em geral nos tweets**"
   ]
  },
  {
   "cell_type": "code",
   "execution_count": 489,
   "metadata": {},
   "outputs": [
    {
     "data": {
      "text/plain": [
       "[('rt', 2337),\n",
       " ('mg', 1971),\n",
       " ('govern', 1834),\n",
       " ('min', 1785),\n",
       " ('helicopter', 1431),\n",
       " ('calam', 1167),\n",
       " ('drog', 994),\n",
       " ('compr', 977),\n",
       " ('dois', 953),\n",
       " ('financeir', 953),\n",
       " ('estad', 886),\n",
       " ('pres', 862),\n",
       " ('ger', 772),\n",
       " ('sao', 681),\n",
       " ('nao', 643)]"
      ]
     },
     "execution_count": 489,
     "metadata": {},
     "output_type": "execute_result"
    }
   ],
   "source": [
    "total_counts.most_common(15)"
   ]
  },
  {
   "cell_type": "markdown",
   "metadata": {
    "slideshow": {
     "slide_type": "subslide"
    }
   },
   "source": [
    "**Taxa de Positivos em relação a Negativos**\n",
    "\n",
    "- Para saber a correspondência de cada palavra com tweets positivos ou negativos podemos calcular uma taxa em que:\n",
    "    - Positivos: tenham valores acima de 1 (numerador maior que denominador)\n",
    "    - Negativos: tenham valores entre 0 e 1 (denominador maior que numerador)\n",
    "    - Neutro: próximo de 1 (numerador e denominador parecidos)"
   ]
  },
  {
   "cell_type": "code",
   "execution_count": 490,
   "metadata": {},
   "outputs": [],
   "source": [
    "pos_neg_ratios = Counter()\n",
    "\n",
    "for term, cnt in list(total_counts.most_common()):\n",
    "    if(cnt > 100):\n",
    "        pos_neg_ratio = positive_counts[term] / float(negative_counts[term]+1)\n",
    "        pos_neg_ratios[term] = pos_neg_ratio"
   ]
  },
  {
   "cell_type": "code",
   "execution_count": 491,
   "metadata": {},
   "outputs": [
    {
     "name": "stdout",
     "output_type": "stream",
     "text": [
      "Pos-to-neg ratio for 'drog' = 994.000\n",
      "Pos-to-neg ratio for 'trafic' = 487.000\n",
      "Pos-to-neg ratio for 'roub' = 28.176\n",
      "Pos-to-neg ratio for 'sao' = 1.172\n",
      "Pos-to-neg ratio for 'pimentel' = 0.105\n"
     ]
    }
   ],
   "source": [
    "print(\"Pos-to-neg ratio for 'drog' = {:.3f}\".format(pos_neg_ratios[\"drog\"]))\n",
    "print(\"Pos-to-neg ratio for 'trafic' = {:.3f}\".format(pos_neg_ratios[\"trafic\"]))\n",
    "print(\"Pos-to-neg ratio for 'roub' = {:.3f}\".format(pos_neg_ratios[\"roub\"]))\n",
    "print(\"Pos-to-neg ratio for 'sao' = {:.3f}\".format(pos_neg_ratios[\"sao\"]))\n",
    "print(\"Pos-to-neg ratio for 'pimentel' = {:.3f}\".format(pos_neg_ratios[\"pimentel\"]))"
   ]
  },
  {
   "cell_type": "markdown",
   "metadata": {
    "slideshow": {
     "slide_type": "subslide"
    }
   },
   "source": [
    "**Normalização da taxa para valores positivos e negativos e linearização**"
   ]
  },
  {
   "cell_type": "code",
   "execution_count": 492,
   "metadata": {},
   "outputs": [],
   "source": [
    "# Convert ratios to logs\n",
    "import numpy as np\n",
    "for word, ratio in pos_neg_ratios.most_common():\n",
    "    if (ratio > 1):\n",
    "        pos_neg_ratios[word] = np.log(ratio)\n",
    "    elif (ratio < 1):\n",
    "        pos_neg_ratios[word] = -np.log(1/(ratio + 0.01))\n",
    "    else:\n",
    "        pos_neg_ratios[word] = 0"
   ]
  },
  {
   "cell_type": "code",
   "execution_count": 493,
   "metadata": {},
   "outputs": [
    {
     "name": "stdout",
     "output_type": "stream",
     "text": [
      "Pos-to-neg ratio for 'drog' = 6.902\n",
      "Pos-to-neg ratio for 'trafic' = 6.188\n",
      "Pos-to-neg ratio for 'roub' = 3.338\n",
      "Pos-to-neg ratio for 'sao' = 0.159\n",
      "Pos-to-neg ratio for 'pimentel' = -2.164\n",
      "Pos-to-neg ratio for 'cust' = -3.234\n"
     ]
    }
   ],
   "source": [
    "print(\"Pos-to-neg ratio for 'drog' = {:.3f}\".format(pos_neg_ratios[\"drog\"]))\n",
    "print(\"Pos-to-neg ratio for 'trafic' = {:.3f}\".format(pos_neg_ratios[\"trafic\"]))\n",
    "print(\"Pos-to-neg ratio for 'roub' = {:.3f}\".format(pos_neg_ratios[\"roub\"]))\n",
    "print(\"Pos-to-neg ratio for 'sao' = {:.3f}\".format(pos_neg_ratios[\"sao\"]))\n",
    "print(\"Pos-to-neg ratio for 'pimentel' = {:.3f}\".format(pos_neg_ratios[\"pimentel\"]))\n",
    "print(\"Pos-to-neg ratio for 'cust' = {:.3f}\".format(pos_neg_ratios[\"cust\"]))"
   ]
  },
  {
   "cell_type": "code",
   "execution_count": 494,
   "metadata": {
    "slideshow": {
     "slide_type": "subslide"
    }
   },
   "outputs": [
    {
     "data": {
      "text/plain": [
       "[('drog', 6.901737206656574),\n",
       " ('trafic', 6.18826412308259),\n",
       " ('pmmg190', 5.860786223465865),\n",
       " ('apreend', 5.783825182329737),\n",
       " ('priv', 5.602118820879701),\n",
       " ('rebelio', 5.579729825986222),\n",
       " ('for', 5.556828061699537),\n",
       " ('febr', 5.499215308914927),\n",
       " ('amarel', 5.499215308914927),\n",
       " ('det', 5.318119993844216),\n",
       " ('suspeit', 5.285738584341177),\n",
       " ('recuper', 5.2832037287379885),\n",
       " ('tres', 5.212214667494625),\n",
       " ('model', 5.204006687076795),\n",
       " ('vacin', 5.198497031265826)]"
      ]
     },
     "execution_count": 494,
     "metadata": {},
     "output_type": "execute_result"
    }
   ],
   "source": [
    "pos_neg_ratios.most_common()[:15]"
   ]
  },
  {
   "cell_type": "code",
   "execution_count": 495,
   "metadata": {
    "slideshow": {
     "slide_type": "subslide"
    }
   },
   "outputs": [
    {
     "data": {
      "text/plain": [
       "[('car', -4.17492504888144),\n",
       " ('avis', -4.320783009433163),\n",
       " ('so', -4.361249506732124),\n",
       " ('mesm', -4.400795782588456),\n",
       " ('helicopter', -4.605170185988092),\n",
       " ('calam', -4.605170185988092),\n",
       " ('compr', -4.605170185988092),\n",
       " ('financeir', -4.605170185988092),\n",
       " ('pau', -4.605170185988092),\n",
       " ('canalhic', -4.605170185988092),\n",
       " ('anapaulavol', -4.605170185988092),\n",
       " ('viv', -4.605170185988092),\n",
       " ('bb', -4.605170185988092),\n",
       " ('judicial', -4.605170185988092),\n",
       " ('uolnotic', -4.605170185988092)]"
      ]
     },
     "execution_count": 495,
     "metadata": {},
     "output_type": "execute_result"
    }
   ],
   "source": [
    "pos_neg_ratios.most_common()[-15:]"
   ]
  },
  {
   "cell_type": "markdown",
   "metadata": {
    "slideshow": {
     "slide_type": "subslide"
    }
   },
   "source": [
    "## Visualização do Score dos Termos"
   ]
  },
  {
   "cell_type": "code",
   "execution_count": 496,
   "metadata": {},
   "outputs": [],
   "source": [
    "df_pos_neg_ratios = pd.DataFrame.from_dict(pos_neg_ratios, orient='index').reset_index()\n",
    "df_pos_neg_ratios.columns = ['Term','Score']"
   ]
  },
  {
   "cell_type": "code",
   "execution_count": 497,
   "metadata": {},
   "outputs": [
    {
     "data": {
      "text/html": [
       "<div>\n",
       "<style scoped>\n",
       "    .dataframe tbody tr th:only-of-type {\n",
       "        vertical-align: middle;\n",
       "    }\n",
       "\n",
       "    .dataframe tbody tr th {\n",
       "        vertical-align: top;\n",
       "    }\n",
       "\n",
       "    .dataframe thead th {\n",
       "        text-align: right;\n",
       "    }\n",
       "</style>\n",
       "<table border=\"1\" class=\"dataframe\">\n",
       "  <thead>\n",
       "    <tr style=\"text-align: right;\">\n",
       "      <th></th>\n",
       "      <th>Term</th>\n",
       "      <th>Score</th>\n",
       "    </tr>\n",
       "  </thead>\n",
       "  <tbody>\n",
       "    <tr>\n",
       "      <th>45</th>\n",
       "      <td>canalhic</td>\n",
       "      <td>-4.605170</td>\n",
       "    </tr>\n",
       "    <tr>\n",
       "      <th>77</th>\n",
       "      <td>uolnotic</td>\n",
       "      <td>-4.605170</td>\n",
       "    </tr>\n",
       "    <tr>\n",
       "      <th>50</th>\n",
       "      <td>bb</td>\n",
       "      <td>-4.605170</td>\n",
       "    </tr>\n",
       "    <tr>\n",
       "      <th>32</th>\n",
       "      <td>pau</td>\n",
       "      <td>-4.605170</td>\n",
       "    </tr>\n",
       "    <tr>\n",
       "      <th>49</th>\n",
       "      <td>viv</td>\n",
       "      <td>-4.605170</td>\n",
       "    </tr>\n",
       "    <tr>\n",
       "      <th>...</th>\n",
       "      <td>...</td>\n",
       "      <td>...</td>\n",
       "    </tr>\n",
       "    <tr>\n",
       "      <th>56</th>\n",
       "      <td>priv</td>\n",
       "      <td>5.602119</td>\n",
       "    </tr>\n",
       "    <tr>\n",
       "      <th>37</th>\n",
       "      <td>apreend</td>\n",
       "      <td>5.783825</td>\n",
       "    </tr>\n",
       "    <tr>\n",
       "      <th>34</th>\n",
       "      <td>pmmg190</td>\n",
       "      <td>5.860786</td>\n",
       "    </tr>\n",
       "    <tr>\n",
       "      <th>21</th>\n",
       "      <td>trafic</td>\n",
       "      <td>6.188264</td>\n",
       "    </tr>\n",
       "    <tr>\n",
       "      <th>6</th>\n",
       "      <td>drog</td>\n",
       "      <td>6.901737</td>\n",
       "    </tr>\n",
       "  </tbody>\n",
       "</table>\n",
       "<p>107 rows × 2 columns</p>\n",
       "</div>"
      ],
      "text/plain": [
       "        Term     Score\n",
       "45  canalhic -4.605170\n",
       "77  uolnotic -4.605170\n",
       "50        bb -4.605170\n",
       "32       pau -4.605170\n",
       "49       viv -4.605170\n",
       "..       ...       ...\n",
       "56      priv  5.602119\n",
       "37   apreend  5.783825\n",
       "34   pmmg190  5.860786\n",
       "21    trafic  6.188264\n",
       "6       drog  6.901737\n",
       "\n",
       "[107 rows x 2 columns]"
      ]
     },
     "execution_count": 497,
     "metadata": {},
     "output_type": "execute_result"
    }
   ],
   "source": [
    "df_pos_neg_ratios.sort_values('Score')"
   ]
  },
  {
   "cell_type": "code",
   "execution_count": 498,
   "metadata": {},
   "outputs": [
    {
     "data": {
      "text/plain": [
       "<matplotlib.axes._subplots.AxesSubplot at 0x2e87549b438>"
      ]
     },
     "execution_count": 498,
     "metadata": {},
     "output_type": "execute_result"
    },
    {
     "data": {
      "image/png": "[encoded data removed]",
      "text/plain": [
       "<Figure size 720x1440 with 1 Axes>"
      ]
     },
     "metadata": {
      "needs_background": "light"
     },
     "output_type": "display_data"
    }
   ],
   "source": [
    "import seaborn as sns\n",
    "from matplotlib import pyplot\n",
    "fig, ax = pyplot.subplots(figsize=(10, 20))\n",
    "sns.barplot(ax = ax, y=\"Term\", x=\"Score\", data=df_pos_neg_ratios.sort_values([\"Score\"]) )"
   ]
  },
  {
   "cell_type": "markdown",
   "metadata": {
    "slideshow": {
     "slide_type": "subslide"
    }
   },
   "source": [
    "## Construindo o Nosso Classificador"
   ]
  },
  {
   "cell_type": "markdown",
   "metadata": {},
   "source": [
    "**A função `get_scores` extrai os scores das palavras de uma sentença**\n",
    "\n",
    "Observe que apenas temos o score de algumas palavras, aquelas que mais aparecem nos negativos e positivos."
   ]
  },
  {
   "cell_type": "code",
   "execution_count": 499,
   "metadata": {},
   "outputs": [],
   "source": [
    "def get_scores (sentence, pos_neg_ratios):\n",
    "    keys = pos_neg_ratios.keys()\n",
    "    words = [word for word in sentence.split(' ') if word in keys]    \n",
    "    words_score = {word : pos_neg_ratios[word] for word in words}\n",
    "    return words_score"
   ]
  },
  {
   "cell_type": "markdown",
   "metadata": {},
   "source": [
    "**Visualizando os scores de frases**"
   ]
  },
  {
   "cell_type": "code",
   "execution_count": 500,
   "metadata": {},
   "outputs": [
    {
     "name": "stdout",
     "output_type": "stream",
     "text": [
      "Text:defesaagropecu govern min ger apost arranj produt loc ritd\n",
      "Scores:[{'govern': -1.68}, {'min': 0.243}, {'ger': 0.566}]\n",
      "\n",
      "Text:ebc govern min investig cas suspeit febr amarel mal estad\n",
      "Scores:[{'govern': -1.68}, {'min': 0.243}, {'cas': 3.434}, {'suspeit': 5.286}, {'febr': 5.499}, {'amarel': 5.499}, {'estad': -1.343}]\n",
      "\n",
      "Text:min vai dobr ofert trabalh estud presidi estad\n",
      "Scores:[{'min': 0.243}, {'vai': -1.693}, {'presidi': 4.52}, {'estad': -1.343}]\n",
      "\n",
      "Text:min vai dobr ofert trabalh estud presidi estad\n",
      "Scores:[{'min': 0.243}, {'vai': -1.693}, {'presidi': 4.52}, {'estad': -1.343}]\n",
      "\n",
      "Text:sus min ger receb recurs maxim disponibiliz govern federal aco vigilanciasanit\n",
      "Scores:[{'min': 0.243}, {'ger': 0.566}, {'receb': 1.197}, {'recurs': -3.664}, {'govern': -1.68}]\n",
      "\n",
      "Text:diegocabral75 exam ai mg ta td bem pimentel cad dia faz melhor estad ne aind bem q dor prefeit sp nao bh\n",
      "Scores:[{'mg': -0.51}, {'pimentel': -2.164}, {'estad': -1.343}, {'aind': -3.964}, {'q': -4.024}, {'nao': -0.306}]\n",
      "\n"
     ]
    }
   ],
   "source": [
    "for i in range(6):\n",
    "    print('Text:{}'.format(dfnew.Text[i]) )\n",
    "    words_score = get_scores(dfnew.Text[i], pos_neg_ratios)    \n",
    "    print('Scores:{}\\n'.format( [ {k : np.around(v,3)} for k, v in words_score.items()] )  )  "
   ]
  },
  {
   "cell_type": "markdown",
   "metadata": {
    "slideshow": {
     "slide_type": "subslide"
    }
   },
   "source": [
    "**A função `predict` analisa os scores de uma sentença e retorna se o tweet é predito como positivo ou negativo**\n",
    "\n",
    "Nesta função primero obtemos os scores da sentença usando 'get_scores' somamos os scores e verificamos se o valor resultante é positivo ou negativo"
   ]
  },
  {
   "cell_type": "code",
   "execution_count": 513,
   "metadata": {},
   "outputs": [],
   "source": [
    "def predict ( sentence ):\n",
    "    words_score = get_scores( sentence, pos_neg_ratios)\n",
    "    score = sum([v for k, v in words_score.items()])    \n",
    "    if (score > 0):\n",
    "        classe = \"Positivo\"\n",
    "    else:\n",
    "        classe = \"Negativo\"\n",
    "    return classe"
   ]
  },
  {
   "cell_type": "markdown",
   "metadata": {
    "slideshow": {
     "slide_type": "subslide"
    }
   },
   "source": [
    "**Exemplos de predição**"
   ]
  },
  {
   "cell_type": "code",
   "execution_count": 514,
   "metadata": {},
   "outputs": [
    {
     "name": "stdout",
     "output_type": "stream",
     "text": [
      "Predicted: Negativo ; Texto: defesaagropecu govern min ger apost arranj produt \n",
      "Predicted: Positivo ; Texto: ebc govern min investig cas suspeit febr amarel ma\n",
      "Predicted: Positivo ; Texto: min vai dobr ofert trabalh estud presidi estad\n",
      "Predicted: Positivo ; Texto: min vai dobr ofert trabalh estud presidi estad\n",
      "Predicted: Negativo ; Texto: sus min ger receb recurs maxim disponibiliz govern\n",
      "Predicted: Negativo ; Texto: diegocabral75 exam ai mg ta td bem pimentel cad di\n",
      "Predicted: Positivo ; Texto: israel mass ferrisss jornaloglob men 1 cois p orgu\n",
      "Predicted: Negativo ; Texto: madeleinelacsk em mg sp estad razoavel control sob\n",
      "Predicted: Negativo ; Texto: madonegatt mg melhor estad\n",
      "Predicted: Negativo ; Texto: mrsincer klyfor mblivr mblivrebh min govern 2003 2\n"
     ]
    }
   ],
   "source": [
    "for i in range(10):\n",
    "    print('Predicted:', predict(dfnew.Text[i]),'; Texto:', dfnew.Text[i][:50] )"
   ]
  },
  {
   "cell_type": "markdown",
   "metadata": {
    "slideshow": {
     "slide_type": "subslide"
    }
   },
   "source": [
    "**Classificando todas as sentenças (tweets) da base de dados**\n",
    "\n",
    "Criamos uma nova coluna no nosso conjunto de dados (que contém apenas frases positivas e negativas) e predizemos qual é classe de cada frase.\n",
    "\n",
    "Forma 1:\n",
    "```python\n",
    "dfnew['Predicted'] = [ predict(sentence) for sentence in dfnew.Text]\n",
    "```\n",
    "\n",
    "Forma 2:\n",
    "```python\n",
    "dfnew['Predicted'] = dfnew.Text.apply(predict)\n",
    "```\n"
   ]
  },
  {
   "cell_type": "code",
   "execution_count": 515,
   "metadata": {},
   "outputs": [],
   "source": [
    "dfnew['Predicted'] = dfnew.Text.apply(predict)"
   ]
  },
  {
   "cell_type": "markdown",
   "metadata": {
    "slideshow": {
     "slide_type": "subslide"
    }
   },
   "source": [
    "**Avaliação dos Resultados**"
   ]
  },
  {
   "cell_type": "markdown",
   "metadata": {},
   "source": [
    "*Matriz de confusão da biblioteca sklearn*"
   ]
  },
  {
   "cell_type": "code",
   "execution_count": 529,
   "metadata": {},
   "outputs": [
    {
     "name": "stdout",
     "output_type": "stream",
     "text": [
      "Matriz de confusão:\n",
      "\n"
     ]
    },
    {
     "data": {
      "text/html": [
       "<div>\n",
       "<style scoped>\n",
       "    .dataframe tbody tr th:only-of-type {\n",
       "        vertical-align: middle;\n",
       "    }\n",
       "\n",
       "    .dataframe tbody tr th {\n",
       "        vertical-align: top;\n",
       "    }\n",
       "\n",
       "    .dataframe thead th {\n",
       "        text-align: right;\n",
       "    }\n",
       "</style>\n",
       "<table border=\"1\" class=\"dataframe\">\n",
       "  <thead>\n",
       "    <tr style=\"text-align: right;\">\n",
       "      <th></th>\n",
       "      <th>Predicted Positivo</th>\n",
       "      <th>Predicted Negativo</th>\n",
       "    </tr>\n",
       "  </thead>\n",
       "  <tbody>\n",
       "    <tr>\n",
       "      <th>Positivo</th>\n",
       "      <td>2965</td>\n",
       "      <td>335</td>\n",
       "    </tr>\n",
       "    <tr>\n",
       "      <th>Negativo</th>\n",
       "      <td>27</td>\n",
       "      <td>2419</td>\n",
       "    </tr>\n",
       "  </tbody>\n",
       "</table>\n",
       "</div>"
      ],
      "text/plain": [
       "          Predicted Positivo   Predicted Negativo\n",
       "Positivo                2965                  335\n",
       "Negativo                  27                 2419"
      ]
     },
     "execution_count": 529,
     "metadata": {},
     "output_type": "execute_result"
    }
   ],
   "source": [
    "from sklearn.metrics import confusion_matrix\n",
    "cm = confusion_matrix(y_true = dfnew.Classificacao, y_pred = dfnew.Predicted, labels=['Positivo','Negativo'])\n",
    "print('Matriz de confusão:\\n')\n",
    "pd.DataFrame(cm, columns=['Predicted Positivo',' Predicted Negativo'], index=['Positivo','Negativo'])"
   ]
  },
  {
   "cell_type": "markdown",
   "metadata": {
    "slideshow": {
     "slide_type": "subslide"
    }
   },
   "source": [
    "**Cálculo de Acurácia**"
   ]
  },
  {
   "cell_type": "code",
   "execution_count": 530,
   "metadata": {},
   "outputs": [
    {
     "name": "stdout",
     "output_type": "stream",
     "text": [
      "Accuracy:  0.9369996519317786\n"
     ]
    }
   ],
   "source": [
    "from sklearn.metrics import accuracy_score\n",
    "accuracy = accuracy_score(y_true = dfnew.Classificacao, y_pred = dfnew.Predicted)\n",
    "print('Accuracy: ', accuracy)"
   ]
  },
  {
   "cell_type": "markdown",
   "metadata": {
    "slideshow": {
     "slide_type": "subslide"
    }
   },
   "source": [
    "**Cálculo de Precision, Recall e F1-score**"
   ]
  },
  {
   "cell_type": "code",
   "execution_count": 531,
   "metadata": {},
   "outputs": [
    {
     "name": "stdout",
     "output_type": "stream",
     "text": [
      "              precision    recall  f1-score   support\n",
      "\n",
      "    Positivo       0.99      0.90      0.94      3300\n",
      "    Negativo       0.88      0.99      0.93      2446\n",
      "\n",
      "    accuracy                           0.94      5746\n",
      "   macro avg       0.93      0.94      0.94      5746\n",
      "weighted avg       0.94      0.94      0.94      5746\n",
      "\n"
     ]
    }
   ],
   "source": [
    "from sklearn.metrics import classification_report\n",
    "\n",
    "report = classification_report(y_true = dfnew.Classificacao, y_pred = dfnew.Predicted, labels=['Positivo','Negativo'])\n",
    "print(report)"
   ]
  },
  {
   "cell_type": "markdown",
   "metadata": {
    "slideshow": {
     "slide_type": "slide"
    }
   },
   "source": [
    "# Atividade de Captura de Novos Tweets e Avaliação de Palavras\n",
    "\n",
    "- Procurar na internet como fazer captura de Tweets em Python.\n",
    "\n",
    "- Aplicar estes métodos usados nesta aula para pré-processar dados de seus tweets.\n",
    "\n",
    "- Classifique você mesmo tweets como positivos, negativos e neutros. E verifique quais as palavras mais comuns em tweets negativos e positivos em seus tweets."
   ]
  }
 ],
 "metadata": {
  "kernelspec": {
   "display_name": "Python 3",
   "language": "python",
   "name": "python3"
  },
  "language_info": {
   "codemirror_mode": {
    "name": "ipython",
    "version": 3
   },
   "file_extension": ".py",
   "mimetype": "text/x-python",
   "name": "python",
   "nbconvert_exporter": "python",
   "pygments_lexer": "ipython3",
   "version": "3.7.3"
  }
 },
 "nbformat": 4,
 "nbformat_minor": 2
}
