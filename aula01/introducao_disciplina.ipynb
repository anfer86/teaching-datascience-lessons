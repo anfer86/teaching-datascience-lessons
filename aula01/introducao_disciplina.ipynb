{
 "cells": [
  {
   "cell_type": "markdown",
   "metadata": {
    "slideshow": {
     "slide_type": "slide"
    }
   },
   "source": [
    "<img src=\"img/logoifsc.png\">\n",
    "\n",
    "---\n",
    "\n",
    "Prof. Carlos Andrés Ferrero\n",
    "\n",
    "# Tópicos Especiais em Inteligência Artificial\n",
    "\n",
    "## Introdução à Disciplina"
   ]
  },
  {
   "cell_type": "markdown",
   "metadata": {
    "slideshow": {
     "slide_type": "slide"
    }
   },
   "source": [
    "- **Nome do professor**: Carlos Andres Ferrero\n",
    "\n",
    "- A disciplina exige:\n",
    "    - Dedicação, compromisso e atenção em sala de aula\n",
    "    - Procurar o professor quando estiverem com dúvidas:\n",
    "    - No horário de atendimento\n",
    "    - **Email**: andres.ferrero@ifsc.edu.br\n",
    "    - Chegar no horário correto da aula. Se tiver qualquer situação específica, entrar em contato com o professor."
   ]
  },
  {
   "cell_type": "markdown",
   "metadata": {
    "slideshow": {
     "slide_type": "slide"
    }
   },
   "source": [
    "# Conteúdo Programático\n",
    "\n",
    "1. Introdução\n",
    "\n",
    "2. Análise de Dados Textuais\n",
    "\n",
    "3. Aplicações em Redes Neurais"
   ]
  },
  {
   "cell_type": "markdown",
   "metadata": {
    "slideshow": {
     "slide_type": "subslide"
    }
   },
   "source": [
    "## 1. Introdução\n",
    "- Conceitos de Aprendizado de Máquina e Ciência de Dados\n",
    "- Ferramentas e linguagens de programação para Ciência de Dados\n",
    "- Visualização de dados univariados e multivariados"
   ]
  },
  {
   "cell_type": "markdown",
   "metadata": {
    "slideshow": {
     "slide_type": "subslide"
    }
   },
   "source": [
    "## 2. Análise de Dados Textuais\n",
    "- Técnicas de Processamento de Linguagem Natural\n",
    "- Representação de Textos\n",
    "- Modelos para Classificação de Textos"
   ]
  },
  {
   "cell_type": "markdown",
   "metadata": {
    "slideshow": {
     "slide_type": "subslide"
    }
   },
   "source": [
    "## 3. Aplicações em Redes Neurais\n",
    "\n",
    "- Bibliotecas para Construção de Redes Neurais\n",
    "- Análise de Dados de Imagem\n",
    "- Análise de Dados Sequenciais e Texto"
   ]
  },
  {
   "cell_type": "markdown",
   "metadata": {
    "slideshow": {
     "slide_type": "slide"
    }
   },
   "source": [
    "# Avaliação\n",
    "\n",
    "Serão realizadas as seguintes avaliações:\n",
    "- $P1$ - Prova prática abordando Unidades 1 e 2\n",
    "- $T1$ - Trabalho prático abordando as Unidades 3\n",
    "\n",
    "O valor das notas serão em valores inteiros. Em caso de notas quebradas (ex. 8,3 ou 8,6) usa-se o arredondamento matemático (ex. 8,3 para 8 e 8,6 para 9).\n",
    "\n",
    "A Nota Final (NF) será calculada de acordo com a seguinte fórmula:\n",
    "\n",
    "$$ NF = (0.5 * P1 + 0.5 * T1) $$\n",
    "\n",
    "O valor da nota NF também será arredondado para um número inteiro."
   ]
  },
  {
   "cell_type": "markdown",
   "metadata": {
    "slideshow": {
     "slide_type": "slide"
    }
   },
   "source": [
    "## Pré-requisitos\n",
    "\n",
    "Os seguintes conteúdos são necessários para o bom aproveitamento da disciplina:\n",
    "- Estatística Descritiva (média, mediana, desvio-padrão, distribuições, etc.)\n",
    "- Estatística Indutiva (testes de hipótese, correlação e regressão linear, etc.)\n",
    "- Álgebra (vetores, matrizes, multiplicação de matrizes, etc.)\n",
    "- Cálculo (noções de derivada e derivada parcial)\n",
    "- Programação (como para aprender uma nova linguagem)\n",
    "- Processamento de Imagens (transformações básicas, filtros, detecção de borda, etc.)"
   ]
  },
  {
   "cell_type": "markdown",
   "metadata": {
    "slideshow": {
     "slide_type": "subslide"
    }
   },
   "source": [
    "## Recuperação\n",
    "\n",
    "São previstas as recuperações:\n",
    "- $RP1$ - Recuperação da P1\n",
    "- $RP2$ - Recuperação do T1\n",
    "\n",
    "Estas recuperações serão feitas dentro da carga horária da disciplina."
   ]
  },
  {
   "cell_type": "markdown",
   "metadata": {
    "slideshow": {
     "slide_type": "slide"
    }
   },
   "source": [
    "# Bibliografia\n",
    "\n",
    "## Básica\n",
    "\n",
    "- GOLDSCHMIDT, R.; PASSOS, E.; BEZERRA, E. **Data mining: conceitos, técnicas, algoritmos, orientações e aplicações**. 2. ed. Rio de Janeiro: Elsevier, 2015.\n",
    "- AMARAL, Fernando. **Introdução à Ciência de Dados**. Rio de Janeiro: Alta Books, 2016. 304 p. ISBN 9788576089346.\n",
    "- RUSSELL, S.; NORVIG, P. **Inteligência artificial: referência completa para cursos de computação**. 3 ed. São Paulo: Elsevier, 2013. 988 p.\n",
    "- MCKINNEY, Wes. **Python para Análise de Dados**. São Paulo: Novatec, 2018. 615 p. ISBN 9788575226476."
   ]
  },
  {
   "cell_type": "markdown",
   "metadata": {
    "slideshow": {
     "slide_type": "subslide"
    }
   },
   "source": [
    "## Complementar\n",
    "- ATTWELL, P. A.; MONAGHAN, D. B. **Data mining for the social sciences: an introduction**. Oakland: University of California Press, 2015.\n",
    "- AZZALINI, A.; WALTON, G.; SCARPA, B. **Data analysis and data mining: an introduction**. Oxford: Oxford University Press, 2012.\n",
    "- **ANALÍTICA de dados com Hadoop: uma introdução para cientistas de dados**. Tradução de Lucia A. Knoshita. São Paulo: Novatec, 2018. 346 p., il. ISBN 9788575225219."
   ]
  }
 ],
 "metadata": {
  "anaconda-cloud": {},
  "kernelspec": {
   "display_name": "R",
   "language": "R",
   "name": "ir"
  },
  "language_info": {
   "codemirror_mode": "r",
   "file_extension": ".r",
   "mimetype": "text/x-r-source",
   "name": "R",
   "pygments_lexer": "r",
   "version": "3.3.3"
  }
 },
 "nbformat": 4,
 "nbformat_minor": 2
}
