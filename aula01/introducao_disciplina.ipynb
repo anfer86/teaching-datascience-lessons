{
 "cells": [
  {
   "cell_type": "markdown",
   "metadata": {
    "slideshow": {
     "slide_type": "slide"
    }
   },
   "source": [
    "<img src=\"img/logoifsc.png\">\n",
    "\n",
    "---\n",
    "\n",
    "Prof. Carlos Andrés Ferrero\n",
    "\n",
    "# Tópicos Especiais em Inteligência Artificial\n",
    "\n",
    "## Introdução à Disciplina"
   ]
  },
  {
   "cell_type": "markdown",
   "metadata": {
    "slideshow": {
     "slide_type": "slide"
    }
   },
   "source": [
    "- **Nome do professor**: Carlos Andres Ferrero\n",
    "\n",
    "- Para um bom aproveitamento da disciplina é necessário:\n",
    "    - Dedicação, compromisso e atenção em sala de aula    \n",
    "    - Procurar o professor quando estiverem com dúvidas, preferencialmente no horário de atendimento:    \n",
    "    - **Email**: andres.ferrero@ifsc.edu.br\n",
    "    - Chegar no horário correto da aula síncrona. Se tiver qualquer situação específica, entrar em contato com o professor."
   ]
  },
  {
   "cell_type": "markdown",
   "metadata": {
    "slideshow": {
     "slide_type": "slide"
    }
   },
   "source": [
    "# Conteúdo Programático\n",
    "\n",
    "1. Introdução a Análise de Dados\n",
    "\n",
    "2. Análise de Dados Textuais\n",
    "\n",
    "3. Aplicações em Redes Neurais"
   ]
  },
  {
   "cell_type": "markdown",
   "metadata": {
    "slideshow": {
     "slide_type": "subslide"
    }
   },
   "source": [
    "## Unidade 1 - Introdução à Análise de Dados\n",
    "\n",
    "- Conceitos de Aprendizado de Máquina e Ciência de Dados\n",
    "- Ferramentas e linguagens de programação para Ciência de Dados\n",
    "- Visualização de dados univariados e multivariados\n",
    "\n",
    "**Projeto: Desenvolvimento de um Dashboard usando Python/Dash/Flask**"
   ]
  },
  {
   "cell_type": "markdown",
   "metadata": {
    "slideshow": {
     "slide_type": "subslide"
    }
   },
   "source": [
    "## UNIDADE 2 – Análise de Dados Textuais\n",
    "\n",
    "- Técnicas de Processamento de Linguagem Natural\n",
    "- Representação de Textos\n",
    "- Modelos para Classificação de Textos\n",
    "\n",
    "**Projeto: Desenvolvimento de um Classificador de Textos para Análise de Sentimento em Português**"
   ]
  },
  {
   "cell_type": "markdown",
   "metadata": {
    "slideshow": {
     "slide_type": "subslide"
    }
   },
   "source": [
    "## UNIDADE 3 – Aplicações em Redes Neurais\n",
    "\n",
    "- Bibliotecas para Construção de Redes Neurais\n",
    "- Análise de Dados de Imagem\n",
    "- Análise de Dados Sequenciais e Texto\n",
    "\n",
    "**Projeto: Análise e Comparação da Performance de Modelos de Classificação de Imagens**\n",
    "\n",
    "**Projeto: Predição de Dados Sequênciais ou Temporais**"
   ]
  },
  {
   "cell_type": "markdown",
   "metadata": {
    "slideshow": {
     "slide_type": "slide"
    }
   },
   "source": [
    "## Pré-requisitos\n",
    "\n",
    "Os seguintes conteúdos são necessários para o bom aproveitamento da disciplina:\n",
    "- Estatística Descritiva (média, mediana, desvio-padrão, distribuições, etc.)\n",
    "- Estatística Indutiva (testes de hipótese, correlação e regressão linear, etc.)\n",
    "- Álgebra (vetores, matrizes, multiplicação de matrizes, etc.)\n",
    "- Cálculo (noções de derivada e derivada parcial)\n",
    "- Programação (como para aprender uma nova linguagem)\n",
    "- Mineração de Dados (conceitos básicos de mineração)"
   ]
  },
  {
   "cell_type": "markdown",
   "metadata": {
    "slideshow": {
     "slide_type": "slide"
    }
   },
   "source": [
    "# Bibliografia\n",
    "\n",
    "## Básica\n",
    "- GOLDSCHMIDT, R.; PASSOS, E.; BEZERRA, E. **Data mining: conceitos, técnicas, algoritmos, orientações e aplicações**. 2. ed. Rio de Janeiro: Elsevier, 2015.\n",
    "- AMARAL, Fernando. **Introdução à Ciência de Dados**. Rio de Janeiro: Alta Books, 2016. 304 p. ISBN 9788576089346.\n",
    "- MCKINNEY, Wes. **Python para Análise de Dados**. São Paulo: Novatec, 2018. 615 p. ISBN 9788575226476.\n",
    "- RUSSELL, S.; NORVIG, P. **Inteligência artificial: referência completa para cursos de computação**. 3 ed. São Paulo: Elsevier, 2013. 988 p."
   ]
  },
  {
   "cell_type": "markdown",
   "metadata": {
    "slideshow": {
     "slide_type": "subslide"
    }
   },
   "source": [
    "## Complementar\n",
    "- ATTWELL, P. A.; MONAGHAN, D. B. **Data mining for the social sciences: an introduction**. Oakland: University of California Press, 2015.\n",
    "- HAYKIN, Simon. **Redes neurais: princípios e prática**. 2. ed. Porto Alegre: Bookman, 2008. 900 p.\n",
    "- AZZALINI, A.; WALTON, G.; SCARPA, B. **Data analysis and data mining: an introduction**. Oxford: Oxford University Press, 2012."
   ]
  },
  {
   "cell_type": "markdown",
   "metadata": {
    "slideshow": {
     "slide_type": "subslide"
    }
   },
   "source": [
    "## Livros Online nas Bibliotecas Virtuais do IFSC\n",
    "\n",
    "Pesquisa no Minha Biblioteca: https://app.minhabiblioteca.com.br/#/search?q=data%20science\n",
    "- Inteligência Artificial - Uma Abordagem de Aprendizado de Máquina. http://app.minhabiblioteca.com.br/#/books/9788521637509/.\n",
    "- Processamentos de Linguagem Natural. https://app.minhabiblioteca.com.br/#/books/9786556900575/\n",
    "- Visualização de Dados. https://app.minhabiblioteca.com.br/#/books/978655690027\n",
    "- Aprendizado profundo para leigos. https://app.minhabiblioteca.com.br/#/books/9788550816982/\n",
    "\n",
    "Pesquisa no Acervo Virtual:\n",
    "- Deep Learning with PyTorch: A Practical Approach to Building Neural Network Models Using PyTorch. http://search.ebscohost.com/login.aspx?direct=true&db=nlebk&AN=1728031&lang=pt-br&site=ehost-live\n",
    "- Deep Learning with Keras. http://search.ebscohost.com/login.aspx?direct=true&db=nlebk&AN=1510480&lang=pt-br&site=ehost-live"
   ]
  }
 ],
 "metadata": {
  "anaconda-cloud": {},
  "kernelspec": {
   "display_name": "Python 3.7.3 64-bit ('dm': conda)",
   "language": "python",
   "name": "python37364bitdmcondafea7b51c5cad4e889e04c2cd00176858"
  },
  "language_info": {
   "codemirror_mode": {
    "name": "ipython",
    "version": 3
   },
   "file_extension": ".py",
   "mimetype": "text/x-python",
   "name": "python",
   "nbconvert_exporter": "python",
   "pygments_lexer": "ipython3",
   "version": "3.7.3"
  }
 },
 "nbformat": 4,
 "nbformat_minor": 2
}
