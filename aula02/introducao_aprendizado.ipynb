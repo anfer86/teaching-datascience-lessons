{
 "cells": [
  {
   "cell_type": "markdown",
   "metadata": {
    "slideshow": {
     "slide_type": "slide"
    }
   },
   "source": [
    "<img src=\"img/logoifsc.png\">\n",
    "\n",
    "---\n",
    "\n",
    "Prof. Carlos Andrés Ferrero\n",
    "\n",
    "# Introdução a Aprendizado de Máquina e Ciência de Dados\n",
    "---"
   ]
  },
  {
   "cell_type": "markdown",
   "metadata": {
    "slideshow": {
     "slide_type": "slide"
    }
   },
   "source": [
    "# Conteúdo\n",
    "\n",
    "- Processo de Descoberta de Conhecimento\n",
    "- Aprendizado Supervisionado e Não-supervisionado\n",
    "- Paradigmas de Aprendizado"
   ]
  },
  {
   "cell_type": "markdown",
   "metadata": {
    "slideshow": {
     "slide_type": "slide"
    }
   },
   "source": [
    "# Introdução a Aprendizado de Máquina\n",
    "\n",
    "- Em inglês *Machine Learning*\n",
    "- Aprendizado de Máquina é uma subárea de Inteligência Artificial\n",
    "\n",
    "- Definições\n",
    "\n",
    "> *\"The field of machine learning is concerned with the question of how to| construct computer programs that automatically improve with experience\"*, Tom Mitchel in 1997. \n",
    "\n",
    "> O campo da aprendizado de máquina está preocupado com a questão de como construir programas de computador que melhoram automaticamente com a experiência."
   ]
  },
  {
   "cell_type": "markdown",
   "metadata": {
    "slideshow": {
     "slide_type": "subslide"
    }
   },
   "source": [
    "> *\"Machine learning research is part of research on artificial intelligence, seeking to provide knowledge to computers through data, observations and interacting with the world. That acquired knowledge allows computers to correctly generalize to new settings\"*, Yoshua Bengio recentemente. \n",
    "\n",
    "> A pesquisa em aprendizado de máquina é parte da pesquisa em inteligência artificial, buscando fornecer conhecimento aos computadores através de dados, observações e interagindo com o mundo. Esse conhecimento adquirido permite que os computadores generalizem corretamente para novas configurações/situações.\n",
    "    \n",
    "- Outras definições:\n",
    "    - <a href=\"https://machinelearningmastery.com/what-is-machine-learning/\" target=\"_blank\">What is Machine Learning?</a> by Machine Learning Mistery\n",
    "    - <a href=\"https://emerj.com/ai-glossary-terms/what-is-machine-learning/\" target=\"_blank\">What is Machine Learning?</a> by EMERJ"
   ]
  },
  {
   "cell_type": "markdown",
   "metadata": {
    "slideshow": {
     "slide_type": "slide"
    }
   },
   "source": [
    "## Processos\n",
    "\n",
    "- KDD (*Knowledge Discovery in Databases*), proposto em 1989\n",
    "- CRISP-DM (*Cross-industry standard process for data mining*), proposto em 1996\n",
    "- Data Science Process, mais recente"
   ]
  },
  {
   "cell_type": "markdown",
   "metadata": {
    "slideshow": {
     "slide_type": "subslide"
    }
   },
   "source": [
    "### Processo de Descoberta de Conhecimento (KDD)\n",
    "\n",
    "<img src=\"img/Processo de KDD.png\" width=\"600px\">\n",
    "\n",
    "- [Discussão da relação entre KDD e CRISP-DM](http://www.datascience-pm.com/crisp-dm-and-kdd/)"
   ]
  },
  {
   "cell_type": "markdown",
   "metadata": {
    "slideshow": {
     "slide_type": "subslide"
    }
   },
   "source": [
    "### Processo CRISP-DM\n",
    "\n",
    "<img src=\"https://www.kdnuggets.com/wp-content/uploads/crisp-dm-4-problems-fig1.png\" width=\"400px\">"
   ]
  },
  {
   "cell_type": "markdown",
   "metadata": {
    "slideshow": {
     "slide_type": "subslide"
    }
   },
   "source": [
    "### Proceso de Ciência de Dados (for Startups)\n",
    "\n",
    "<img src=\"https://cdn-images-1.medium.com/max/1500/1*fBNC1lqYSdM6bjMxxr56Tw.png\" width=\"800px\">\n",
    "\n",
    "<div style='font-size: 10pt'>Fonte: Palachy, Shya (2019). Data Science Project Flow for Startups. Towards in Data Science. Disponível em: https://towardsdatascience.com/data-science-project-flow-for-startups-282a93d4508d</div>"
   ]
  },
  {
   "cell_type": "markdown",
   "metadata": {
    "slideshow": {
     "slide_type": "subslide"
    }
   },
   "source": [
    "- Principais Atores\n",
    "    - Data Engineer (Engenheiro de Dados)\n",
    "    - Data Scientist (Cientista de Dados)\n",
    "    - Machine Learning Engenieer (Engenheiro de Machine Learning)"
   ]
  },
  {
   "cell_type": "markdown",
   "metadata": {
    "slideshow": {
     "slide_type": "subslide"
    }
   },
   "source": [
    "### Preparação dos Dados\n",
    "\n",
    "- Visa preparar os dados para uma análise eficiente e eficaz\n",
    "\n",
    "- Algumas tarefas de pré-processamento:\n",
    "\n",
    "    - Limpeza (remoção de ruídos e dados inconsistentes)\n",
    "\n",
    "    - Integração (combinação de dados obtidos a partir de múltiplas fontes)\n",
    "\n",
    "    - Seleção de Dados ou Redução (escolha dos dados relevantes para análise)\n",
    "\n",
    "    - Transformação (transformação dos dados para um formato adequado para análise)"
   ]
  },
  {
   "cell_type": "markdown",
   "metadata": {
    "slideshow": {
     "slide_type": "subslide"
    }
   },
   "source": [
    "### Modelagem\n",
    "\n",
    "- Aplicação de algoritmos capazes de extrair padrões e/ou informações e conhecimento relevantes a partir dos dados pré-processados\n",
    "\n",
    "- Algumas tarefas de mineração:\n",
    "    \n",
    "    - Análise descritiva estatística\n",
    "\n",
    "    - Agrupamento\n",
    "\n",
    "    - Modelos de Predição (classificação e regressão)\n",
    "\n",
    "    - Associação (extração de regras de associação)\n",
    "\n",
    "    - Detecção de Anomalias"
   ]
  },
  {
   "cell_type": "markdown",
   "metadata": {
    "slideshow": {
     "slide_type": "subslide"
    }
   },
   "source": [
    "### Avaliação de modelos\n",
    "\n",
    "- Avaliação da qualidade dos modelos ou conhecimento extraído na etapa de Mineração de Dados\n",
    "\n",
    "- Algumas tarefas de pós-processamento:\n",
    "\n",
    "    - Verificar a precisão dos modelos construídos em novos dados\n",
    "\n",
    "    - Identificar conhecimentos verdadeiros e conhecimentos triviais    "
   ]
  },
  {
   "cell_type": "markdown",
   "metadata": {
    "slideshow": {
     "slide_type": "slide"
    }
   },
   "source": [
    "# Aprendizado Supervisionado e Não-Supervisionado\n",
    "\n",
    "As técnicas para aprender modelos a partir de dados são classificadas de acordo com o tipo de aprendizado em:\n",
    "\n",
    "- **Aprendizado Supervisionado**\n",
    "\n",
    "- **Aprendizado Não-supervisinado**\n",
    "\n",
    "- **Aprendizado Semi-Supervisionado**\n",
    "\n",
    "- Aprendizado por Reforço (*reinforcement learning*)"
   ]
  },
  {
   "cell_type": "markdown",
   "metadata": {
    "slideshow": {
     "slide_type": "subslide"
    }
   },
   "source": [
    "## Aprendizado Supervisionado\n",
    "\n",
    "No aprendizado supervisionado os exemplos estão constituídos por atributos, onde um desses atributos é *classe*\n",
    "\n",
    "O atributo *classe* permite orientar o processo de aprendizando para ajustar um modelo aos dados\n",
    "\n",
    "|Exemplo | Atributo 1 | Atributo 2 | ... | Atributo m | Atributo classe |\n",
    "|------|------|------|------|------|------| \n",
    "|$e_1$ | $x_{1,1}$ | $x_{1,2}$ | ... | $x_{1,m}$ | $y_1$ |\n",
    "|$e_2$ | $x_{2,1}$ | $x_{2,2}$ | ... | $x_{2,m}$ | $y_2$ |\n",
    "| ... | ... | ... | ... | ... | ... |\n",
    "|$e_n$ | $x_{n,1}$ | $x_{n,2}$ | ... | $x_{n,m}$ | $y_n$ |\n",
    "\n",
    "Neste aprendizado o objetivo consiste em encontrar uma função $f(X) = \\hat{y}$, em que, dado os valores dos $m$ atributos, estime $y$.\n",
    "\n",
    "As tarefas de interesse do aprendizado supervisionado são preditivas e definidas por:\n",
    "- **Classificação**: quando o valor da *classe* é um valor categórico (ou discreto)\n",
    "- **Regressão**: quando o valor da *classe* é um valor numérico."
   ]
  },
  {
   "cell_type": "markdown",
   "metadata": {
    "slideshow": {
     "slide_type": "subslide"
    }
   },
   "source": [
    "## Aprendizado Não-superivsionado\n",
    "\n",
    "No aprendizado não-supervisionado os exemplos estão constituídos por atributos, mas não há um atrbiuto *classe*\n",
    "\n",
    "Isso indica que não tem como orientar o processo de aprendizado tentando acertar algum valor de atributo específico\n",
    "\n",
    "|Exemplo | Atributo 1 | Atributo 2 | ... | Atributo m |\n",
    "|------|------|------|------|------|\n",
    "|$e_1$ | $x_{1,1}$ | $x_{1,2}$ | ... | $x_{1,m}$ |\n",
    "|$e_2$ | $x_{2,1}$ | $x_{2,2}$ | ... | $x_{2,m}$ |\n",
    "| ... | ... | ... | ... | ... |\n",
    "|$e_n$ | $x_{n,1}$ | $x_{n,2}$ | ... | $x_{n,m}$ |\n",
    "\n",
    "Neste tipo de aprendizado tentamos encontrar grupos de dados que apresentem comportamento similar\n",
    "\n",
    "As tarefas de interesse dentro do aprendizado não-supervisionado são:\n",
    "- **Agrupamentos**: agrupar exemplos de acordo com algum critério de distância ou similaridade\n",
    "- **Extração de regras de associação**: encontrar relaçoes entre atributos e os valores dos atributos"
   ]
  },
  {
   "cell_type": "markdown",
   "metadata": {
    "slideshow": {
     "slide_type": "subslide"
    }
   },
   "source": [
    "## Tarefas de Mineração de Dados\n",
    "\n",
    "- As principais tarefas de mineração são:\n",
    "    - Predição (seja classificação ou regressão)\n",
    "    - Agrupamento\n",
    "    - Associação\n",
    "\n",
    "- A seguinte figura temos a relação dessas tarefas em um conjunto de dados convencional:\n",
    "\n",
    "<div align=\"center\">\n",
    "    <img src=\"img/tarefasmineracao.png\" width=30%>\n",
    "    <div style=\"font-size:0.8em\">Fonte: Silva, L. A., Peres, S. M., & Boscarioli, C. (2017). <b>Introdução à mineração de dados: com aplicações em R</b>. Elsevier Brasil.</div>\n",
    "</div>"
   ]
  },
  {
   "cell_type": "markdown",
   "metadata": {
    "slideshow": {
     "slide_type": "subslide"
    }
   },
   "source": [
    "## Aprendizado Semi-Supervisionado\n",
    "\n",
    "- No aprendizado semi-supervisionado apenas alguns exemplos do conjunto de dados possuem o valor do atributo *classe*.\n",
    "- Muitas vezes é muito caro classificar elementos. Alguns exemplos:\n",
    "    - Transcrever segmentos de áudio\n",
    "    - Identificar observações de experimentos físicos\n",
    "    - Identificar os rostros de fotos do Facebook manualmente\n",
    "\n",
    "- Nestas situações, com algumas instâncias rotuladas (exemplos classificados) é possível inferir os rótulos e classes de outras instâncias.\n",
    "\n",
    "<div align=\"center\">\n",
    "    <img src=\"img/semisupervised.png\" width=\"60%\">\n",
    "    <div style=\"font-size:0.7em\">Fonte: Wang, F., & Zhang, C. (2007). <b>Robust self-tuning semi-supervised learning</b>. Neurocomputing, 70(16-18), 2931-2939.</div>\n",
    "</div>"
   ]
  },
  {
   "cell_type": "markdown",
   "metadata": {
    "slideshow": {
     "slide_type": "subslide"
    }
   },
   "source": [
    "## Aprendizado por Reforço\n",
    "\n",
    "- No aprendizado por reforço o sistema inteligente deve realizar uma sequência de ações permitidas (*policies*) em um ambiente para atingir um objetivo. Uma ação única não costuma ser tão importante, mas a sequência de ações pode levar a alcançar um objetivo com sucesso.\n",
    "- O aprendiz (ou agente) interage com o ambiente e recebe recompensas ou penalidades de acordo com suas ações. Por tentativa e erro o agente aprende quais sequências de ações maximizam as recompoensas, i.e., quais tem mais chance de atingir o objetivo com sucesso.\n",
    "\n",
    "<div align=\"center\">\n",
    "    <img src=\"img/aprendizadoreforco.PNG\" width=\"300px\">\n",
    "    <div style=\"font-size:0.7em\">Fonte: Alpaydin, E. (2007). <b>Introduction to Machine Learning</b>. MIT Press, p. 448 (579), 2010.</div>\n",
    "</div>\n",
    "\n",
    "- Exemplos: aprender a jogar Games, veículos autônomos, mercado de ações, cuidados de saúde."
   ]
  },
  {
   "cell_type": "markdown",
   "metadata": {
    "slideshow": {
     "slide_type": "slide"
    }
   },
   "source": [
    "# Paradigmas de Aprendizado\n",
    "\n",
    "Alguns autores chamam de paradigmas os aprendizados supervisionado e não-supervisionado (CASTRO e FERRARI, 2016).\n",
    "\n",
    "No entanto a literatura clássica divide os paradimgas de aprendizado da seguinte forma:\n",
    "- Simbólico\n",
    "- Baseado em Instância\n",
    "- Estatístico\n",
    "- Conexionista\n",
    "- Genético\n",
    "\n",
    "Leitura deste capítulo de livro:\n",
    "- MONARD, Maria Carolina; BARANAUSKAS, José Augusto. **Conceitos sobre aprendizado de máquina**. Sistemas Inteligentes-Fundamentos e Aplicações, v. 1, n. 1, p. 32, 2003. Disponível em: http://dcm.ffclrp.usp.br/~augusto/publications/2003-sistemas-inteligentes-cap4.pdf. (até o conceito sobre completude)."
   ]
  },
  {
   "cell_type": "markdown",
   "metadata": {
    "slideshow": {
     "slide_type": "slide"
    }
   },
   "source": [
    "## Leituras Recomendadas (online)\n",
    "\n",
    "- Fayyad, U., Piatetsky-Shapiro, G. and Smyth, P., 1996. **From data mining to knowledge discovery in databases**. AI magazine, 17(3), pp.37-37. Disponível em: https://www.aaai.org/ojs/index.php/aimagazine/article/view/1230\n",
    "\n",
    "- Palachy, Shya (2019). **Data Science Project Flow for Startups**. Towards in Data Science. Disponível em: https://towardsdatascience.com/data-science-project-flow-for-startups-282a93d4508d"
   ]
  }
 ],
 "metadata": {
  "kernelspec": {
   "display_name": "Python 3",
   "language": "python",
   "name": "python3"
  },
  "language_info": {
   "codemirror_mode": {
    "name": "ipython",
    "version": 3
   },
   "file_extension": ".py",
   "mimetype": "text/x-python",
   "name": "python",
   "nbconvert_exporter": "python",
   "pygments_lexer": "ipython3",
   "version": "3.7.3"
  }
 },
 "nbformat": 4,
 "nbformat_minor": 2
}