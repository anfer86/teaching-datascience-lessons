{
 "cells": [
  {
   "cell_type": "markdown",
   "metadata": {
    "slideshow": {
     "slide_type": "slide"
    }
   },
   "source": [
    "<img src=\"img/logoifsc.png\">\n",
    "\n",
    "---\n",
    "\n",
    "Prof. Carlos Andrés Ferrero\n",
    "\n",
    "# Redes Neurais com PyTorch\n",
    "\n",
    "## Classificação de Imagens\n",
    "---\n",
    "\n"
   ]
  },
  {
   "cell_type": "markdown",
   "metadata": {
    "slideshow": {
     "slide_type": "slide"
    }
   },
   "source": [
    "Classificação Multiclasse\n",
    "- Introdução\n",
    "- Softmax\n",
    "- Classificação de Imagens\n",
    "- Conceito de Dissipação de Gradiente\n",
    "- Funções de ativação tangente hiperbólica e ReLU"
   ]
  },
  {
   "cell_type": "markdown",
   "metadata": {
    "slideshow": {
     "slide_type": "slide"
    }
   },
   "source": [
    "## Introdução"
   ]
  },
  {
   "cell_type": "markdown",
   "metadata": {
    "slideshow": {
     "slide_type": "subslide"
    }
   },
   "source": [
    "- Muitos problemas de classificação possuem mais do que uma classe. Por ex. ao classificar imagens de dígitos temos 10 classes (dígitos de 0 a 9), ou ao classificar imagens de produtos de moda (camisetas, camisas, calças, bolsas, etc.) também temos mais do que duas classes.\n",
    "\n",
    "- Poderíamos pensar que, a saída da rede neural poderia ser dividia de forma equidistante para cada classe. Por exemplo, em um problema de 3 classes, poderiamos dividir a saída 0 a 1 em:\n",
    "    - 0.0 para classe 1 (dog);\n",
    "    - 0.5 para classe 2 (cat);\n",
    "    - 1.0 para classe 3 (horse).\n",
    "    \n",
    "- Essa abordagem não tras bons resultados, ainda mais à medida que o número de classes aumenta.\n",
    "\n",
    "- Para tratar este problema é necessário utilizar uma outra função de ativação na última camada: *Softmax*."
   ]
  },
  {
   "cell_type": "markdown",
   "metadata": {
    "slideshow": {
     "slide_type": "subslide"
    }
   },
   "source": [
    "- Para que Redes Neurais possam ser usadas em problemas de classificação de múltiplas classes é necessário criar um neurônio de saída para cada classe.\n",
    "\n",
    "- Um exemplo de uma rede neural com três neurônios na camada de saída é apresentado na figura abaixo:\n",
    "\n",
    "<div align=\"center\"><img src=\"img/neural_network_multiclass_1.svg\" width=100%></div>"
   ]
  },
  {
   "cell_type": "markdown",
   "metadata": {
    "slideshow": {
     "slide_type": "subslide"
    }
   },
   "source": [
    "## Softmax\n",
    "\n",
    "Ao utilizar um neurônio de saída para cada classe teremos um número entre 0 e 1 para cada um deles. Poderíamos pensar que esse valor já poderia ser a probabilidade de cada classe acontecer, mas vamos ver um exemplo:\n",
    "\n",
    "**Situação 1**: neste exemplo de 3 classes, vamos supor que para uma determinada entrada de dados a saída fosse $[0.9,0.1,0.2]$. Podemos pensar que esse $0.9$ corresponde à probabilidade de ser da classe 1, no entanto a soma de todas as saídas é $1.2$, portanto, não pode corresponder a um valor de probabilidade.\n",
    "\n",
    "**Situação 2**: vamos supor que para uma outra entrada a saída $[0.7, 0.7, 0.2]$. Além de a soma ser mais do que 1, temos as classes 1 e 2 em um empate com valor 0.7. A probabilidade de ambas deveria ser a mesma, mas não poderia ser 0.7, já que a soma de ambas daria um valor maior do que 1.    "
   ]
  },
  {
   "cell_type": "markdown",
   "metadata": {
    "slideshow": {
     "slide_type": "subslide"
    }
   },
   "source": [
    "- Para resolver esse problema existe a função *Softmax*\n",
    "\n",
    "- Esta função permite transformar as saídas da rede neural em valores de score, frequentemente entendidas como probabilidade. A função matemática que permite transformar o vetor dessa saída da rede é a seguinte:\n",
    "\n",
    "$$\n",
    "\\textit{softmax}(y_i) = \\cfrac{e^{y_i}}{\\sum_i{e^{y_i}}}\n",
    "$$\n",
    "\n",
    "- onde $y_i$ é o valor de saída do neurônio da classe $i$. \n",
    "\n",
    "- No numerador temos a função exponencial de $y_i$, que retorna algum valor positivo.\n",
    "\n",
    "- No denominador temos a soma das funções exponenciais dos valores de saída para todas as classes, que também será um valor positivo.\n",
    "\n",
    "- Essa relação entre o numerador de denominador faz com que a soma de todas as saídas seja 1. Além disso, uma forte razão para usá-la é que ela é diferenciável. Uma discussão sobre o uso desta função ao invés de usar argmax ou normalização linear neste [link](https://datascience.stackexchange.com/questions/23159/in-softmax-classifier-why-use-exp-function-to-do-normalization/24112#24112?newreg=f4d9faf572fd41eebc8199f59de4e19f)"
   ]
  },
  {
   "cell_type": "markdown",
   "metadata": {
    "slideshow": {
     "slide_type": "subslide"
    }
   },
   "source": [
    "Podemos definir a nossa função em Python para realizar esse cálculo"
   ]
  },
  {
   "cell_type": "code",
   "execution_count": 20,
   "metadata": {},
   "outputs": [],
   "source": [
    "import torch \n",
    "def softmax(x):\n",
    "    return torch.exp(x) / torch.sum(torch.exp(x))"
   ]
  },
  {
   "cell_type": "markdown",
   "metadata": {},
   "source": [
    "- As probabilidades para a saída $[0.9, 0.1, 0.2]$ seriam:"
   ]
  },
  {
   "cell_type": "code",
   "execution_count": 21,
   "metadata": {},
   "outputs": [
    {
     "data": {
      "text/plain": [
       "tensor([0.5139, 0.2309, 0.2552])"
      ]
     },
     "execution_count": 21,
     "metadata": {},
     "output_type": "execute_result"
    }
   ],
   "source": [
    "out = torch.tensor([0.9, 0.1, 0.2])\n",
    "probabilities = softmax(out)\n",
    "probabilities"
   ]
  },
  {
   "cell_type": "markdown",
   "metadata": {},
   "source": [
    "- As probabilidades para a saída $[0.7, 0.7, 0.2]$ seriam:"
   ]
  },
  {
   "cell_type": "code",
   "execution_count": 22,
   "metadata": {},
   "outputs": [
    {
     "data": {
      "text/plain": [
       "tensor([0.3837, 0.3837, 0.2327])"
      ]
     },
     "execution_count": 22,
     "metadata": {},
     "output_type": "execute_result"
    }
   ],
   "source": [
    "out = torch.tensor([0.7, 0.7, 0.2])\n",
    "probabilities = softmax(out)\n",
    "probabilities"
   ]
  },
  {
   "cell_type": "markdown",
   "metadata": {
    "slideshow": {
     "slide_type": "subslide"
    }
   },
   "source": [
    "### Rede Neural com Saída Softmax\n",
    "\n",
    "<div align=\"center\"><img src=\"img/neural_network_multiclass_1b.svg\" width=100%></div>"
   ]
  },
  {
   "cell_type": "markdown",
   "metadata": {
    "slideshow": {
     "slide_type": "subslide"
    }
   },
   "source": [
    "Em termos de implementação em Pytorch a nossa rede ficaria da seguinte forma:"
   ]
  },
  {
   "cell_type": "code",
   "execution_count": 23,
   "metadata": {},
   "outputs": [],
   "source": [
    "from torch import nn\n",
    "import torch.nn.functional as F\n",
    "\n",
    "class Network_Multiclass_1(nn.Module):\n",
    "    def __init__(self):\n",
    "        super().__init__()\n",
    "        self.fc1 = nn.Linear(in_features=4, out_features=5)        \n",
    "        self.fc2 = nn.Linear(in_features=5, out_features=3)        \n",
    "                \n",
    "    def forward(self, x):\n",
    "        x = torch.sigmoid( self.fc1(x) )        \n",
    "        x = F.softmax( self.fc2(x) , dim=1)\n",
    "        return x"
   ]
  },
  {
   "cell_type": "markdown",
   "metadata": {
    "slideshow": {
     "slide_type": "subslide"
    }
   },
   "source": [
    "Além disso, também temos que mudar a função para medir o erro, pois é o erro que orienta o aprendizado da rede e tem influência no cálculo do gradiente. Ao utilizarmos *softmax* como saída da nossa rede devemos utilizar como critério medição do erro a função *CrossEntropyLoss*. Quanto ao otimizador vamos manter *Stochastic Gradient Descent* (SGD).\n",
    "\n",
    "Segue abaixo um exemplo de implementação:"
   ]
  },
  {
   "cell_type": "code",
   "execution_count": 24,
   "metadata": {},
   "outputs": [],
   "source": [
    "from torch import nn, optim\n",
    "import matplotlib.pyplot as plt\n",
    "\n",
    "model = Network_Multiclass_1()\n",
    "criterion = nn.CrossEntropyLoss()\n",
    "optimizer = optim.SGD(model.parameters(), lr=0.1)"
   ]
  },
  {
   "cell_type": "markdown",
   "metadata": {},
   "source": [
    "O treinamento da rede continuará como já foi implementado."
   ]
  },
  {
   "cell_type": "markdown",
   "metadata": {
    "slideshow": {
     "slide_type": "subslide"
    }
   },
   "source": [
    "## Classificação de Imagens"
   ]
  },
  {
   "cell_type": "markdown",
   "metadata": {
    "slideshow": {
     "slide_type": "-"
    }
   },
   "source": [
    "### Conjunto de Dados"
   ]
  },
  {
   "cell_type": "markdown",
   "metadata": {
    "slideshow": {
     "slide_type": "-"
    }
   },
   "source": [
    "MNIST handwritten digit database"
   ]
  },
  {
   "cell_type": "code",
   "execution_count": 27,
   "metadata": {},
   "outputs": [],
   "source": [
    "import torch\n",
    "\n",
    "from torchvision import datasets\n",
    "from torch.utils.data import DataLoader\n",
    "import torchvision.transforms as transforms\n",
    "import numpy as np\n",
    "\n",
    "transform = transforms.ToTensor()\n",
    "\n",
    "data = datasets.MNIST(root='data',train=True,download=True,transform=transform)\n",
    "\n",
    "batch_size = 8\n",
    "loader = DataLoader(data, batch_size=batch_size, shuffle=True)"
   ]
  },
  {
   "cell_type": "markdown",
   "metadata": {
    "slideshow": {
     "slide_type": "subslide"
    }
   },
   "source": [
    "Visualizando um batch de tamanho de 8 dos números da base de dados."
   ]
  },
  {
   "cell_type": "code",
   "execution_count": 28,
   "metadata": {
    "slideshow": {
     "slide_type": "-"
    }
   },
   "outputs": [
    {
     "data": {
      "image/png": "[encoded data removed]",
      "text/plain": [
       "<Figure size 1800x720 with 8 Axes>"
      ]
     },
     "metadata": {},
     "output_type": "display_data"
    }
   ],
   "source": [
    "images, labels = iter(loader).next()\n",
    "from helper import show_images\n",
    "show_images(images,labels,n_rows=2)"
   ]
  },
  {
   "cell_type": "code",
   "execution_count": 29,
   "metadata": {},
   "outputs": [
    {
     "data": {
      "text/plain": [
       "torch.Size([1, 28, 28])"
      ]
     },
     "execution_count": 29,
     "metadata": {},
     "output_type": "execute_result"
    }
   ],
   "source": [
    "images[0].shape"
   ]
  },
  {
   "cell_type": "code",
   "execution_count": 30,
   "metadata": {
    "slideshow": {
     "slide_type": "subslide"
    }
   },
   "outputs": [
    {
     "data": {
      "image/png": "[encoded data removed]",
      "text/plain": [
       "<Figure size 864x720 with 1 Axes>"
      ]
     },
     "metadata": {
      "needs_background": "light"
     },
     "output_type": "display_data"
    }
   ],
   "source": [
    "from helper import show_image_in_details\n",
    "show_image_in_details(np.squeeze(images[0]), (12,10) )"
   ]
  },
  {
   "cell_type": "markdown",
   "metadata": {
    "slideshow": {
     "slide_type": "subslide"
    }
   },
   "source": [
    "## Network Multiclass 2 \n",
    "\n",
    "Arquitetura da Rede Neural:\n",
    "* Input Layer: 784 neurônios correspondentes a cada pixel da imagem de dimensões (28x28=784)\n",
    "* Hidden Layer: 20 neurônios com função de ativação sigmoidal $f_\\sigma=\\frac{1}{1 + e^{-x}}$\n",
    "* Output Layer: 10 neurônios com função de ativação *Softmax* $f_\\gamma =\\frac{e^{y_i}}{\\sum_i{e^{y_i}}}$\n",
    "\n",
    "<div align=\"center\"><img src=\"img/neural_network_multiclass_2.svg\" width=80%></div>"
   ]
  },
  {
   "cell_type": "markdown",
   "metadata": {
    "slideshow": {
     "slide_type": "subslide"
    }
   },
   "source": [
    "### Implementação da Rede Neural"
   ]
  },
  {
   "cell_type": "code",
   "execution_count": 31,
   "metadata": {
    "slideshow": {
     "slide_type": "-"
    }
   },
   "outputs": [],
   "source": [
    "class Network_Multiclass_2(nn.Module):\n",
    "    def __init__(self):\n",
    "        super().__init__()\n",
    "        # From 784 to 20\n",
    "        self.fc1 = nn.Linear(in_features=784, out_features=20)\n",
    "        # From 20 to 10\n",
    "        self.fc2 = nn.Linear(in_features=20, out_features=10)\n",
    "        \n",
    "    def forward(self, x):\n",
    "        # O input passa pela primeira camada\n",
    "        x = torch.sigmoid( self.fc1(x) )\n",
    "        # A saída da primeira camada passa pela segunda camada        \n",
    "        x = F.softmax( self.fc2(x) , dim=1 )\n",
    "        return x"
   ]
  },
  {
   "cell_type": "code",
   "execution_count": 32,
   "metadata": {},
   "outputs": [
    {
     "data": {
      "text/plain": [
       "Network_Multiclass_2(\n",
       "  (fc1): Linear(in_features=784, out_features=20, bias=True)\n",
       "  (fc2): Linear(in_features=20, out_features=10, bias=True)\n",
       ")"
      ]
     },
     "execution_count": 32,
     "metadata": {},
     "output_type": "execute_result"
    }
   ],
   "source": [
    "model = Network_Multiclass_2()\n",
    "model"
   ]
  },
  {
   "cell_type": "markdown",
   "metadata": {
    "slideshow": {
     "slide_type": "subslide"
    }
   },
   "source": [
    "### Passando uma Imagem pela Rede Neural\n",
    "\n",
    "A estrutura da nossa Rede Neural está definida, no entanto ainda os pesos dela não estão ajustados, o que significa que ela ainda não é boa para classificar imagens de dígitos.\n",
    "\n",
    "Podemos testar a execução do método `forward` que implementamos na nossa classe. Esse método é o responsável por transformar os dados de entrada da imagem (os valores dos píxels) em uma saída, que será um vetor de probabilidades (devido ao uso de *softmax*) da imagem pertencer aos possíveis números.\n",
    "\n",
    "O `x` do nosso método `forward` espera um input de dimensão $784$ mas as nossas imagens tem $28 x 28$, portanto precisamos transformar o nosso conjunto de dados, que tem o shape $(1, 1, 28, 28)$ para $(1, 784)$"
   ]
  },
  {
   "cell_type": "code",
   "execution_count": 33,
   "metadata": {},
   "outputs": [
    {
     "data": {
      "text/plain": [
       "torch.Size([1, 784])"
      ]
     },
     "execution_count": 33,
     "metadata": {},
     "output_type": "execute_result"
    }
   ],
   "source": [
    "input_data = images[0].clone().resize_(1, 784)\n",
    "input_data.shape"
   ]
  },
  {
   "cell_type": "code",
   "execution_count": 34,
   "metadata": {
    "slideshow": {
     "slide_type": "subslide"
    }
   },
   "outputs": [
    {
     "data": {
      "text/plain": [
       "tensor([[0.1276, 0.0968, 0.1362, 0.1553, 0.0430, 0.0950, 0.1171, 0.0726, 0.0689,\n",
       "         0.0874]], grad_fn=<SoftmaxBackward>)"
      ]
     },
     "execution_count": 34,
     "metadata": {},
     "output_type": "execute_result"
    }
   ],
   "source": [
    "output_proba = model(input_data)\n",
    "output_proba"
   ]
  },
  {
   "cell_type": "code",
   "execution_count": 35,
   "metadata": {},
   "outputs": [
    {
     "data": {
      "text/plain": [
       "[{'classe': 0, 'probabilidade': 12.76},\n",
       " {'classe': 1, 'probabilidade': 9.68},\n",
       " {'classe': 2, 'probabilidade': 13.62},\n",
       " {'classe': 3, 'probabilidade': 15.53},\n",
       " {'classe': 4, 'probabilidade': 4.3},\n",
       " {'classe': 5, 'probabilidade': 9.5},\n",
       " {'classe': 6, 'probabilidade': 11.71},\n",
       " {'classe': 7, 'probabilidade': 7.26},\n",
       " {'classe': 8, 'probabilidade': 6.89},\n",
       " {'classe': 9, 'probabilidade': 8.74}]"
      ]
     },
     "execution_count": 35,
     "metadata": {},
     "output_type": "execute_result"
    }
   ],
   "source": [
    "[{'classe' : i, 'probabilidade': round(output_proba[0,i].detach().numpy()*100,2)} for i in range(len(output_proba[0,:]))]"
   ]
  },
  {
   "cell_type": "markdown",
   "metadata": {
    "slideshow": {
     "slide_type": "subslide"
    }
   },
   "source": [
    "### Passando um Batch de Imagens pela Rede Neural\n",
    "\n",
    "Transformação do nosso batch de imagens, que tem o shape $(8, 1, 28, 28)$ para $(8, 784)$"
   ]
  },
  {
   "cell_type": "code",
   "execution_count": 36,
   "metadata": {},
   "outputs": [
    {
     "data": {
      "text/plain": [
       "torch.Size([8, 784])"
      ]
     },
     "execution_count": 36,
     "metadata": {},
     "output_type": "execute_result"
    }
   ],
   "source": [
    "input_data = images.clone().resize_(batch_size, 784)\n",
    "input_data.shape"
   ]
  },
  {
   "cell_type": "code",
   "execution_count": 37,
   "metadata": {
    "slideshow": {
     "slide_type": "subslide"
    }
   },
   "outputs": [
    {
     "data": {
      "text/plain": [
       "tensor([[0.1276, 0.0968, 0.1362, 0.1553, 0.0430, 0.0950, 0.1171, 0.0726, 0.0689,\n",
       "         0.0874],\n",
       "        [0.1285, 0.0990, 0.1339, 0.1559, 0.0439, 0.0963, 0.1189, 0.0723, 0.0661,\n",
       "         0.0852],\n",
       "        [0.1270, 0.0974, 0.1373, 0.1556, 0.0458, 0.0925, 0.1170, 0.0724, 0.0683,\n",
       "         0.0867],\n",
       "        [0.1284, 0.0984, 0.1331, 0.1551, 0.0442, 0.0963, 0.1186, 0.0733, 0.0665,\n",
       "         0.0861],\n",
       "        [0.1305, 0.0990, 0.1323, 0.1512, 0.0430, 0.0961, 0.1157, 0.0756, 0.0688,\n",
       "         0.0879],\n",
       "        [0.1310, 0.0975, 0.1336, 0.1561, 0.0424, 0.0973, 0.1171, 0.0729, 0.0657,\n",
       "         0.0865],\n",
       "        [0.1248, 0.0969, 0.1364, 0.1543, 0.0455, 0.0953, 0.1164, 0.0733, 0.0694,\n",
       "         0.0877],\n",
       "        [0.1262, 0.0969, 0.1358, 0.1577, 0.0439, 0.0952, 0.1166, 0.0721, 0.0686,\n",
       "         0.0871]], grad_fn=<SoftmaxBackward>)"
      ]
     },
     "execution_count": 37,
     "metadata": {},
     "output_type": "execute_result"
    }
   ],
   "source": [
    "output_proba = model(input_data)\n",
    "output_proba"
   ]
  },
  {
   "cell_type": "code",
   "execution_count": 38,
   "metadata": {
    "slideshow": {
     "slide_type": "subslide"
    }
   },
   "outputs": [
    {
     "data": {
      "text/html": [
       "<div>\n",
       "<style scoped>\n",
       "    .dataframe tbody tr th:only-of-type {\n",
       "        vertical-align: middle;\n",
       "    }\n",
       "\n",
       "    .dataframe tbody tr th {\n",
       "        vertical-align: top;\n",
       "    }\n",
       "\n",
       "    .dataframe thead th {\n",
       "        text-align: right;\n",
       "    }\n",
       "</style>\n",
       "<table border=\"1\" class=\"dataframe\">\n",
       "  <thead>\n",
       "    <tr style=\"text-align: right;\">\n",
       "      <th></th>\n",
       "      <th>0</th>\n",
       "      <th>1</th>\n",
       "      <th>2</th>\n",
       "      <th>3</th>\n",
       "      <th>4</th>\n",
       "      <th>5</th>\n",
       "      <th>6</th>\n",
       "      <th>7</th>\n",
       "      <th>8</th>\n",
       "      <th>9</th>\n",
       "      <th>Soma</th>\n",
       "    </tr>\n",
       "  </thead>\n",
       "  <tbody>\n",
       "    <tr>\n",
       "      <th>0</th>\n",
       "      <td>12.76</td>\n",
       "      <td>9.68</td>\n",
       "      <td>13.62</td>\n",
       "      <td>15.53</td>\n",
       "      <td>4.30</td>\n",
       "      <td>9.50</td>\n",
       "      <td>11.71</td>\n",
       "      <td>7.26</td>\n",
       "      <td>6.89</td>\n",
       "      <td>8.74</td>\n",
       "      <td>100.0</td>\n",
       "    </tr>\n",
       "    <tr>\n",
       "      <th>1</th>\n",
       "      <td>12.85</td>\n",
       "      <td>9.90</td>\n",
       "      <td>13.39</td>\n",
       "      <td>15.59</td>\n",
       "      <td>4.39</td>\n",
       "      <td>9.63</td>\n",
       "      <td>11.89</td>\n",
       "      <td>7.23</td>\n",
       "      <td>6.61</td>\n",
       "      <td>8.52</td>\n",
       "      <td>100.0</td>\n",
       "    </tr>\n",
       "    <tr>\n",
       "      <th>2</th>\n",
       "      <td>12.70</td>\n",
       "      <td>9.74</td>\n",
       "      <td>13.73</td>\n",
       "      <td>15.56</td>\n",
       "      <td>4.58</td>\n",
       "      <td>9.25</td>\n",
       "      <td>11.70</td>\n",
       "      <td>7.24</td>\n",
       "      <td>6.83</td>\n",
       "      <td>8.67</td>\n",
       "      <td>100.0</td>\n",
       "    </tr>\n",
       "    <tr>\n",
       "      <th>3</th>\n",
       "      <td>12.84</td>\n",
       "      <td>9.84</td>\n",
       "      <td>13.31</td>\n",
       "      <td>15.51</td>\n",
       "      <td>4.42</td>\n",
       "      <td>9.63</td>\n",
       "      <td>11.86</td>\n",
       "      <td>7.33</td>\n",
       "      <td>6.65</td>\n",
       "      <td>8.61</td>\n",
       "      <td>100.0</td>\n",
       "    </tr>\n",
       "    <tr>\n",
       "      <th>4</th>\n",
       "      <td>13.05</td>\n",
       "      <td>9.90</td>\n",
       "      <td>13.23</td>\n",
       "      <td>15.12</td>\n",
       "      <td>4.30</td>\n",
       "      <td>9.61</td>\n",
       "      <td>11.57</td>\n",
       "      <td>7.56</td>\n",
       "      <td>6.88</td>\n",
       "      <td>8.79</td>\n",
       "      <td>100.0</td>\n",
       "    </tr>\n",
       "    <tr>\n",
       "      <th>5</th>\n",
       "      <td>13.10</td>\n",
       "      <td>9.75</td>\n",
       "      <td>13.36</td>\n",
       "      <td>15.61</td>\n",
       "      <td>4.24</td>\n",
       "      <td>9.73</td>\n",
       "      <td>11.71</td>\n",
       "      <td>7.29</td>\n",
       "      <td>6.57</td>\n",
       "      <td>8.65</td>\n",
       "      <td>100.0</td>\n",
       "    </tr>\n",
       "    <tr>\n",
       "      <th>6</th>\n",
       "      <td>12.48</td>\n",
       "      <td>9.69</td>\n",
       "      <td>13.64</td>\n",
       "      <td>15.43</td>\n",
       "      <td>4.55</td>\n",
       "      <td>9.53</td>\n",
       "      <td>11.64</td>\n",
       "      <td>7.33</td>\n",
       "      <td>6.94</td>\n",
       "      <td>8.77</td>\n",
       "      <td>100.0</td>\n",
       "    </tr>\n",
       "    <tr>\n",
       "      <th>7</th>\n",
       "      <td>12.62</td>\n",
       "      <td>9.69</td>\n",
       "      <td>13.58</td>\n",
       "      <td>15.77</td>\n",
       "      <td>4.39</td>\n",
       "      <td>9.52</td>\n",
       "      <td>11.66</td>\n",
       "      <td>7.21</td>\n",
       "      <td>6.86</td>\n",
       "      <td>8.71</td>\n",
       "      <td>100.0</td>\n",
       "    </tr>\n",
       "  </tbody>\n",
       "</table>\n",
       "</div>"
      ],
      "text/plain": [
       "       0     1      2      3     4     5      6     7     8     9   Soma\n",
       "0  12.76  9.68  13.62  15.53  4.30  9.50  11.71  7.26  6.89  8.74  100.0\n",
       "1  12.85  9.90  13.39  15.59  4.39  9.63  11.89  7.23  6.61  8.52  100.0\n",
       "2  12.70  9.74  13.73  15.56  4.58  9.25  11.70  7.24  6.83  8.67  100.0\n",
       "3  12.84  9.84  13.31  15.51  4.42  9.63  11.86  7.33  6.65  8.61  100.0\n",
       "4  13.05  9.90  13.23  15.12  4.30  9.61  11.57  7.56  6.88  8.79  100.0\n",
       "5  13.10  9.75  13.36  15.61  4.24  9.73  11.71  7.29  6.57  8.65  100.0\n",
       "6  12.48  9.69  13.64  15.43  4.55  9.53  11.64  7.33  6.94  8.77  100.0\n",
       "7  12.62  9.69  13.58  15.77  4.39  9.52  11.66  7.21  6.86  8.71  100.0"
      ]
     },
     "execution_count": 38,
     "metadata": {},
     "output_type": "execute_result"
    }
   ],
   "source": [
    "import pandas as pd\n",
    "df = pd.DataFrame(np.round(output_proba.detach().numpy()*100, 2))\n",
    "df['Soma'] = np.round( df.sum(axis=1) )\n",
    "df"
   ]
  },
  {
   "cell_type": "markdown",
   "metadata": {
    "slideshow": {
     "slide_type": "subslide"
    }
   },
   "source": [
    "### Visualização das Probabilidades"
   ]
  },
  {
   "cell_type": "code",
   "execution_count": 19,
   "metadata": {},
   "outputs": [
    {
     "data": {
      "image/png": "[encoded data removed]",
      "text/plain": [
       "<Figure size 432x648 with 2 Axes>"
      ]
     },
     "metadata": {
      "needs_background": "light"
     },
     "output_type": "display_data"
    },
    {
     "data": {
      "image/png": "[encoded data removed]",
      "text/plain": [
       "<Figure size 432x648 with 2 Axes>"
      ]
     },
     "metadata": {
      "needs_background": "light"
     },
     "output_type": "display_data"
    }
   ],
   "source": [
    "from helper import view_classify\n",
    "view_classify(input_data[0].view(28, 28), output_proba[0,:])\n",
    "view_classify(input_data[1].view(28, 28), output_proba[1,:])"
   ]
  },
  {
   "cell_type": "markdown",
   "metadata": {
    "slideshow": {
     "slide_type": "subslide"
    }
   },
   "source": [
    "O que gostaríamos é que a maior probabilidade corresponda ao número da imagem, mas isso não acontece magicamente. Para isso é necessário treinar a Rede Neural. Treinar a rede significa encontrar os valores dos pesos nas camadas de tal forma que a saída seja correta."
   ]
  },
  {
   "cell_type": "markdown",
   "metadata": {
    "slideshow": {
     "slide_type": "subslide"
    }
   },
   "source": [
    "### Treinamento da Rede Neural"
   ]
  },
  {
   "cell_type": "code",
   "execution_count": 20,
   "metadata": {},
   "outputs": [],
   "source": [
    "def train_epoch(model, trainLoader, optimizer, criterion):\n",
    "    model.train()\n",
    "    losses = []\n",
    "    for images, labels in trainLoader:\n",
    "        # (0) Prepare data\n",
    "        (batch_size, _, width, height) = images.shape\n",
    "        images.resize_(batch_size, width*height)\n",
    "        \n",
    "        optimizer.zero_grad()\n",
    "        # (1) Forward\n",
    "        y_pred = model(images)    \n",
    "        # (2) Compute error\n",
    "        loss = criterion(y_pred, labels)\n",
    "        # (3) Compute gradients\n",
    "        loss.backward()\n",
    "        # (4) Update weights\n",
    "        optimizer.step()        \n",
    "        losses.append(loss.item())\n",
    "        \n",
    "    model.eval()\n",
    "    return losses"
   ]
  },
  {
   "cell_type": "code",
   "execution_count": 21,
   "metadata": {
    "slideshow": {
     "slide_type": "subslide"
    }
   },
   "outputs": [],
   "source": [
    "batch_size = 20\n",
    "loader = DataLoader(data, batch_size=batch_size, shuffle=True)"
   ]
  },
  {
   "cell_type": "code",
   "execution_count": 22,
   "metadata": {},
   "outputs": [],
   "source": [
    "from torch import nn, optim\n",
    "\n",
    "model = Network_Multiclass_2()\n",
    "criterion = nn.CrossEntropyLoss()\n",
    "optimizer = optim.SGD(model.parameters(), lr=0.1)"
   ]
  },
  {
   "cell_type": "markdown",
   "metadata": {
    "slideshow": {
     "slide_type": "subslide"
    }
   },
   "source": [
    "#### Iteração 1"
   ]
  },
  {
   "cell_type": "code",
   "execution_count": 23,
   "metadata": {},
   "outputs": [],
   "source": [
    "losses = train_epoch(model, loader, optimizer, criterion)"
   ]
  },
  {
   "cell_type": "code",
   "execution_count": 24,
   "metadata": {},
   "outputs": [
    {
     "name": "stdout",
     "output_type": "stream",
     "text": [
      "first 5 losses:  [2.305 2.318 2.291 2.3   2.307]\n",
      "last  5 losses:  [1.882 1.754 1.934 1.776 1.92 ]\n"
     ]
    }
   ],
   "source": [
    "print('first 5 losses: ', np.round(losses[:5],3) )\n",
    "print('last  5 losses: ', np.round(losses[(len(losses)-5):],3) )"
   ]
  },
  {
   "cell_type": "code",
   "execution_count": 25,
   "metadata": {},
   "outputs": [],
   "source": [
    "test_images, test_labels = iter(loader).next()"
   ]
  },
  {
   "cell_type": "code",
   "execution_count": 26,
   "metadata": {},
   "outputs": [
    {
     "data": {
      "image/png": "[encoded data removed]",
      "text/plain": [
       "<Figure size 432x648 with 2 Axes>"
      ]
     },
     "metadata": {
      "needs_background": "light"
     },
     "output_type": "display_data"
    }
   ],
   "source": [
    "view_classify(test_images[7].view(28, 28), model(test_images[7].view(1,-1) ) )"
   ]
  },
  {
   "cell_type": "markdown",
   "metadata": {
    "slideshow": {
     "slide_type": "subslide"
    }
   },
   "source": [
    "#### Iteração 2"
   ]
  },
  {
   "cell_type": "code",
   "execution_count": 27,
   "metadata": {},
   "outputs": [],
   "source": [
    "losses = train_epoch(model, loader, optimizer, criterion)"
   ]
  },
  {
   "cell_type": "code",
   "execution_count": 28,
   "metadata": {},
   "outputs": [
    {
     "name": "stdout",
     "output_type": "stream",
     "text": [
      "first 5 losses:  [1.875 1.792 1.967 1.846 1.887]\n",
      "last  5 losses:  [1.881 1.838 1.81  1.666 1.682]\n"
     ]
    }
   ],
   "source": [
    "print('first 5 losses: ', np.round(losses[:5],3) )\n",
    "print('last  5 losses: ', np.round(losses[(len(losses)-5):],3) )"
   ]
  },
  {
   "cell_type": "code",
   "execution_count": 29,
   "metadata": {},
   "outputs": [
    {
     "data": {
      "image/png": "[encoded data removed]",
      "text/plain": [
       "<Figure size 432x648 with 2 Axes>"
      ]
     },
     "metadata": {
      "needs_background": "light"
     },
     "output_type": "display_data"
    }
   ],
   "source": [
    "view_classify(test_images[7].view(28, 28), model(test_images[7].view(1,-1) ) )"
   ]
  },
  {
   "cell_type": "markdown",
   "metadata": {
    "slideshow": {
     "slide_type": "subslide"
    }
   },
   "source": [
    "#### Iteração 3:"
   ]
  },
  {
   "cell_type": "code",
   "execution_count": 30,
   "metadata": {},
   "outputs": [],
   "source": [
    "losses = train_epoch(model, loader, optimizer, criterion)"
   ]
  },
  {
   "cell_type": "code",
   "execution_count": 31,
   "metadata": {},
   "outputs": [
    {
     "name": "stdout",
     "output_type": "stream",
     "text": [
      "first 5 losses:  [1.687 1.789 1.827 1.879 1.577]\n",
      "last  5 losses:  [1.701 1.838 1.673 1.697 1.762]\n"
     ]
    }
   ],
   "source": [
    "print('first 5 losses: ', np.round(losses[:5],3) )\n",
    "print('last  5 losses: ', np.round(losses[(len(losses)-5):],3) )"
   ]
  },
  {
   "cell_type": "code",
   "execution_count": 32,
   "metadata": {},
   "outputs": [
    {
     "data": {
      "image/png": "[encoded data removed]",
      "text/plain": [
       "<Figure size 432x648 with 2 Axes>"
      ]
     },
     "metadata": {
      "needs_background": "light"
     },
     "output_type": "display_data"
    }
   ],
   "source": [
    "view_classify(test_images[7].view(28, 28), model(test_images[7].view(1,-1) ) )"
   ]
  },
  {
   "cell_type": "markdown",
   "metadata": {
    "slideshow": {
     "slide_type": "subslide"
    }
   },
   "source": [
    "### Treinamento com 10 Épocas"
   ]
  },
  {
   "cell_type": "code",
   "execution_count": 33,
   "metadata": {},
   "outputs": [],
   "source": [
    "lr = 0.1\n",
    "batch_size = 20\n",
    "num_epochs = 10\n",
    "\n",
    "model = Network_Multiclass_2()\n",
    "criterion = nn.CrossEntropyLoss()\n",
    "optimizer = optim.SGD(model.parameters(), lr=0.1)\n",
    "loader = DataLoader(data, batch_size=batch_size)"
   ]
  },
  {
   "cell_type": "code",
   "execution_count": 34,
   "metadata": {},
   "outputs": [
    {
     "name": "stderr",
     "output_type": "stream",
     "text": [
      "100%|██████████| 10/10 [01:36<00:00,  9.64s/it]\n"
     ]
    }
   ],
   "source": [
    "from tqdm import tqdm\n",
    "e_losses = []\n",
    "for e in tqdm(range(num_epochs)):\n",
    "    losses =  train_epoch(model, loader, optimizer, criterion)\n",
    "    e_losses += [np.mean(losses)]"
   ]
  },
  {
   "cell_type": "markdown",
   "metadata": {
    "slideshow": {
     "slide_type": "subslide"
    }
   },
   "source": [
    "#### CrossEntropyLoss vs. Epochs"
   ]
  },
  {
   "cell_type": "code",
   "execution_count": 35,
   "metadata": {},
   "outputs": [
    {
     "data": {
      "text/plain": [
       "[<matplotlib.lines.Line2D at 0x29967bb0e80>]"
      ]
     },
     "execution_count": 35,
     "metadata": {},
     "output_type": "execute_result"
    },
    {
     "data": {
      "image/png": "[encoded data removed]",
      "text/plain": [
       "<Figure size 864x288 with 1 Axes>"
      ]
     },
     "metadata": {
      "needs_background": "light"
     },
     "output_type": "display_data"
    }
   ],
   "source": [
    "fig, ax = plt.subplots(figsize=(12,4))\n",
    "plt.title('CrossEntropyLoss vs. Epochs')\n",
    "plt.plot(e_losses)"
   ]
  },
  {
   "cell_type": "markdown",
   "metadata": {
    "slideshow": {
     "slide_type": "subslide"
    }
   },
   "source": [
    "#### Visualização de uma Classificação"
   ]
  },
  {
   "cell_type": "code",
   "execution_count": 36,
   "metadata": {
    "slideshow": {
     "slide_type": "-"
    }
   },
   "outputs": [
    {
     "data": {
      "image/png": "[encoded data removed]",
      "text/plain": [
       "<Figure size 432x648 with 2 Axes>"
      ]
     },
     "metadata": {
      "needs_background": "light"
     },
     "output_type": "display_data"
    }
   ],
   "source": [
    "view_classify(test_images[7].view(28, 28), model(test_images[7].view(1,-1) ) )"
   ]
  },
  {
   "cell_type": "markdown",
   "metadata": {
    "slideshow": {
     "slide_type": "subslide"
    }
   },
   "source": [
    "#### Verificiando a Acurácia"
   ]
  },
  {
   "cell_type": "code",
   "execution_count": 37,
   "metadata": {},
   "outputs": [],
   "source": [
    "def eval_model(model, loader):\n",
    "    measures = []\n",
    "    total = 0\n",
    "    correct = 0\n",
    "    for images, labels in loader:\n",
    "        # (0) Prepare data\n",
    "        (batch_size, _, width, height) = images.shape\n",
    "        images.resize_(batch_size, width*height)\n",
    "        \n",
    "        # (1) Get the most probably class\n",
    "        _, y_pred = torch.max(model(images),1)\n",
    "        \n",
    "        total += labels.size(0)\n",
    "        correct += (y_pred == labels).sum().item()\n",
    "        \n",
    "    measures = {'acc' : correct/total}\n",
    "    return measures"
   ]
  },
  {
   "cell_type": "markdown",
   "metadata": {
    "slideshow": {
     "slide_type": "subslide"
    }
   },
   "source": [
    "**No Conjunto de Treinamento**"
   ]
  },
  {
   "cell_type": "code",
   "execution_count": 38,
   "metadata": {},
   "outputs": [
    {
     "name": "stdout",
     "output_type": "stream",
     "text": [
      "Acurácia no treino: 92.85\n"
     ]
    }
   ],
   "source": [
    "results = eval_model(model, loader)\n",
    "print('Acurácia no treino: {:.2f}'.format(results['acc']*100))"
   ]
  },
  {
   "cell_type": "markdown",
   "metadata": {},
   "source": [
    "**No Conjunto de Teste**"
   ]
  },
  {
   "cell_type": "code",
   "execution_count": 39,
   "metadata": {},
   "outputs": [],
   "source": [
    "data_test = datasets.MNIST(root='data',train=False,download=True,transform=transform)\n",
    "testLoader = DataLoader(data_test, batch_size=batch_size)"
   ]
  },
  {
   "cell_type": "code",
   "execution_count": 40,
   "metadata": {},
   "outputs": [
    {
     "name": "stdout",
     "output_type": "stream",
     "text": [
      "Acurácia no teste: 92.72\n"
     ]
    }
   ],
   "source": [
    "results = eval_model(model, testLoader)\n",
    "print('Acurácia no teste: {:.2f}'.format(results['acc']*100))"
   ]
  },
  {
   "cell_type": "markdown",
   "metadata": {
    "slideshow": {
     "slide_type": "subslide"
    }
   },
   "source": [
    "## Network Multiclass 3:\n",
    "\n",
    "Arquitetura da Rede Neural:\n",
    "* Input Layer: 784 neurônios correspondentes a cada pixel da imagem de dimensões (28x28=784)\n",
    "* Hidden Layer 1: 40 neurônios com função de ativação sigmoidal $f_\\sigma=\\frac{1}{1 + e^{-x}}$\n",
    "* Hidden Layer 2: 20 neurônios com função de ativação sigmoidal $f_\\sigma$\n",
    "* Output Layer: 10 neurônios com função de ativação *Softmax* $f_\\gamma =\\frac{e^{y_i}}{\\sum_i{e^{y_i}}}$\n",
    "\n",
    "<div align=\"center\"><img src=\"img/neural_network_multiclass_4.svg\" width=75%></div>"
   ]
  },
  {
   "cell_type": "markdown",
   "metadata": {
    "slideshow": {
     "slide_type": "subslide"
    }
   },
   "source": [
    "#### Implementação da Rede Neural"
   ]
  },
  {
   "cell_type": "code",
   "execution_count": 39,
   "metadata": {},
   "outputs": [],
   "source": [
    "class Network_Multiclass_3(nn.Module):\n",
    "    def __init__(self):\n",
    "        super().__init__()\n",
    "        # From 784 to 40\n",
    "        self.fc1 = nn.Linear(in_features=784, out_features=40)\n",
    "        # From 40 to 20\n",
    "        self.fc2 = nn.Linear(in_features=40, out_features=20)\n",
    "        # From 20 to 10\n",
    "        self.fc3 = nn.Linear(in_features=20, out_features=10)\n",
    "        \n",
    "    def forward(self, x):\n",
    "        # O input passa pela primeira camada\n",
    "        x = torch.sigmoid( self.fc1(x) )\n",
    "        # A saída da primeira passa pela segunda camada        \n",
    "        x = torch.sigmoid( self.fc2(x) )\n",
    "        # A saída da segunda passa pela terceira camada        \n",
    "        return x"
   ]
  },
  {
   "cell_type": "markdown",
   "metadata": {
    "slideshow": {
     "slide_type": "subslide"
    }
   },
   "source": [
    "#### Treinamento da Rede Neural"
   ]
  },
  {
   "cell_type": "code",
   "execution_count": 42,
   "metadata": {},
   "outputs": [],
   "source": [
    "lr = 0.1\n",
    "batch_size = 20\n",
    "num_epochs = 10\n",
    "\n",
    "model = Network_Multiclass_3()\n",
    "criterion = nn.CrossEntropyLoss()\n",
    "optimizer = optim.SGD(model.parameters(), lr=0.1)\n",
    "loader = DataLoader(data, batch_size=batch_size)"
   ]
  },
  {
   "cell_type": "code",
   "execution_count": 43,
   "metadata": {},
   "outputs": [
    {
     "name": "stderr",
     "output_type": "stream",
     "text": [
      "100%|██████████| 10/10 [01:45<00:00, 10.87s/it]\n"
     ]
    }
   ],
   "source": [
    "from tqdm import tqdm\n",
    "e_losses = []\n",
    "for e in tqdm(range(num_epochs)):\n",
    "    losses =  train_epoch(model, loader, optimizer, criterion)\n",
    "    e_losses += [np.mean(losses)]"
   ]
  },
  {
   "cell_type": "markdown",
   "metadata": {
    "slideshow": {
     "slide_type": "subslide"
    }
   },
   "source": [
    "#### CrossEntropyLoss vs. Epochs"
   ]
  },
  {
   "cell_type": "code",
   "execution_count": 44,
   "metadata": {},
   "outputs": [
    {
     "data": {
      "text/plain": [
       "[<matplotlib.lines.Line2D at 0x29969313b00>]"
      ]
     },
     "execution_count": 44,
     "metadata": {},
     "output_type": "execute_result"
    },
    {
     "data": {
      "image/png": "[encoded data removed]",
      "text/plain": [
       "<Figure size 864x288 with 1 Axes>"
      ]
     },
     "metadata": {
      "needs_background": "light"
     },
     "output_type": "display_data"
    }
   ],
   "source": [
    "fig, ax = plt.subplots(figsize=(12,4))\n",
    "plt.title('CrossEntropyLoss vs. Epochs')\n",
    "plt.plot(e_losses)"
   ]
  },
  {
   "cell_type": "markdown",
   "metadata": {
    "slideshow": {
     "slide_type": "subslide"
    }
   },
   "source": [
    "**No Conjunto de Treinamento**"
   ]
  },
  {
   "cell_type": "code",
   "execution_count": 45,
   "metadata": {},
   "outputs": [
    {
     "name": "stdout",
     "output_type": "stream",
     "text": [
      "Acurácia no treino: 76.55\n"
     ]
    }
   ],
   "source": [
    "results = eval_model(model, loader)\n",
    "print('Acurácia no treino: {:.2f}'.format(results['acc']*100))"
   ]
  },
  {
   "cell_type": "markdown",
   "metadata": {},
   "source": [
    "**No Conjunto de Teste**"
   ]
  },
  {
   "cell_type": "code",
   "execution_count": 46,
   "metadata": {},
   "outputs": [
    {
     "name": "stdout",
     "output_type": "stream",
     "text": [
      "Acurácia no treino: 76.39\n"
     ]
    }
   ],
   "source": [
    "results = eval_model(model, testLoader)\n",
    "print('Acurácia no treino: {:.2f}'.format(results['acc']*100))"
   ]
  },
  {
   "cell_type": "markdown",
   "metadata": {
    "slideshow": {
     "slide_type": "subslide"
    }
   },
   "source": [
    "#### Análise dos Resultados\n",
    "\n",
    "Ao analisarmos o gráfico verificamos que em 10 iterações o `loss` da rede neural diminuiu em apenas `0.6`, de `2.3` para `1.7`.\n",
    "\n",
    "Isso acontece quando temos muitos neurônios com função de ativação sigmoidal, pois a derivada da função de ativação sigmoidal costuma dar valores pequenos para os gradientes. Este problema é chamado de *Dissipação de Gradiente*.\n",
    "\n",
    "Para exemplificar isso vamos construir um gráfico que simule o valor de uma combinação linear para a função de ativação sigmoidal de um neurônio. Considere intervalo `xx` de `-3` até `3`, o resultado da função de ativação sigmoidal desses dados em `yy` e o resultado da derivada da função sigmoidal em `yy_d`."
   ]
  },
  {
   "cell_type": "code",
   "execution_count": 47,
   "metadata": {},
   "outputs": [],
   "source": [
    "xx = torch.tensor( np.arange(-3, 3, 0.01) )\n",
    "yy = torch.sigmoid(xx)\n",
    "yy_d = torch.sigmoid(xx) * (1 - torch.sigmoid(xx))"
   ]
  },
  {
   "cell_type": "markdown",
   "metadata": {
    "slideshow": {
     "slide_type": "subslide"
    }
   },
   "source": [
    "#### Função de Ativação Sigmoidal vs sua Derivada"
   ]
  },
  {
   "cell_type": "code",
   "execution_count": 48,
   "metadata": {
    "slideshow": {
     "slide_type": "-"
    }
   },
   "outputs": [
    {
     "data": {
      "image/png": "[encoded data removed]",
      "text/plain": [
       "<Figure size 864x288 with 2 Axes>"
      ]
     },
     "metadata": {
      "needs_background": "light"
     },
     "output_type": "display_data"
    }
   ],
   "source": [
    "fig, (ax1,ax2) = plt.subplots(1,2,figsize=(12,4)); plt.ylim((0.05,1.05))\n",
    "ax1.plot(xx.detach().numpy(), yy.detach().numpy())\n",
    "ax1.set_title('Função de ativação sigmoidal')\n",
    "ax2.plot(xx.detach().numpy(), yy_d.detach().numpy())\n",
    "ax2.set_title('Derivada da função de ativação sigmoidal')\n",
    "plt.show()"
   ]
  },
  {
   "cell_type": "markdown",
   "metadata": {},
   "source": [
    "A derivada da função retorna vamos menores para entradas mais próximas de `-3` e `3` e valores maiores quando está próxima a `0`. Isso indica que quando a entrada para a função sigmoidal for próxima de `0` o gradiente vai ser alto para que os pesos sejam alterados com mais força e na próxima iteração o valor de entrada seja mais negativo ou mais positivo."
   ]
  },
  {
   "cell_type": "markdown",
   "metadata": {
    "slideshow": {
     "slide_type": "subslide"
    }
   },
   "source": [
    "#### Função de Ativação Tangente Hiperbólica vs sua Derivada"
   ]
  },
  {
   "cell_type": "code",
   "execution_count": 49,
   "metadata": {},
   "outputs": [
    {
     "data": {
      "image/png": "[encoded data removed]",
      "text/plain": [
       "<Figure size 864x288 with 2 Axes>"
      ]
     },
     "metadata": {
      "needs_background": "light"
     },
     "output_type": "display_data"
    }
   ],
   "source": [
    "yy = torch.tanh(xx)\n",
    "yy_d = 1.0 - np.tanh(xx)**2\n",
    "fig, (ax1,ax2) = plt.subplots(1,2,figsize=(12,4)); plt.ylim((-0.05,1.05))\n",
    "ax1.plot(xx.detach().numpy(),yy.detach().numpy())\n",
    "ax1.set_title('Função de ativação tangente hiperbólica')\n",
    "ax2.plot(xx.detach().numpy(),yy_d.detach().numpy())\n",
    "ax1.set_title('Derivada da função tangente hiperbólica')\n",
    "plt.show()"
   ]
  },
  {
   "cell_type": "markdown",
   "metadata": {},
   "source": [
    "A derivada desta função retorna valores maiores do que a derivada da função sigmoidal, o que resulta em gradientes maiores e na maior alteração do valor dos pesos da rede neural."
   ]
  },
  {
   "cell_type": "markdown",
   "metadata": {
    "slideshow": {
     "slide_type": "subslide"
    }
   },
   "source": [
    "#### Função de Ativação ReLU vs sua Derivada"
   ]
  },
  {
   "cell_type": "code",
   "execution_count": 50,
   "metadata": {},
   "outputs": [
    {
     "data": {
      "image/png": "[encoded data removed]",
      "text/plain": [
       "<Figure size 864x288 with 2 Axes>"
      ]
     },
     "metadata": {
      "needs_background": "light"
     },
     "output_type": "display_data"
    }
   ],
   "source": [
    "yy = torch.relu(xx)\n",
    "yy_d = torch.tensor([1 if xi > 0 else 0 for xi in xx])\n",
    "\n",
    "fig, (ax1,ax2) = plt.subplots(1,2,figsize=(12,4))\n",
    "plt.ylim((-0.05,1.05))\n",
    "ax1.plot(xx.detach().numpy(),yy.detach().numpy())\n",
    "ax1.set_title('Função de ativação ReLU')\n",
    "ax2.plot(xx.detach().numpy(),yy_d.detach().numpy())\n",
    "ax2.set_title('Derivada da função de ativação ReLU')\n",
    "plt.show()"
   ]
  },
  {
   "cell_type": "markdown",
   "metadata": {
    "slideshow": {
     "slide_type": "subslide"
    }
   },
   "source": [
    "## Network Multiclass 4:\n",
    "\n",
    "Arquitetura da Rede Neural:\n",
    "* Input Layer: 784 neurônios correspondentes a cada pixel da imagem de dimensões (28x28=784)\n",
    "* Hidden Layer 1: 40 neurônios com função de ativação tanh (tangente hiperbólica) $f_\\sigma(x)=tan(x)$\n",
    "* Hidden Layer 2: 20 neurônios com função de ativação tanh (tangente hiperbólica) $f_\\sigma(x)$\n",
    "* Output Layer: 10 neurônios com função de ativação *Softmax* $f_\\gamma =\\frac{e^{y_i}}{\\sum_i{e^{y_i}}}$\n",
    "\n",
    "<div align=\"center\"><img src=\"img/neural_network_multiclass_4.svg\" width=70%></div>"
   ]
  },
  {
   "cell_type": "markdown",
   "metadata": {
    "slideshow": {
     "slide_type": "subslide"
    }
   },
   "source": [
    "### Implementação da Rede Neural"
   ]
  },
  {
   "cell_type": "code",
   "execution_count": 51,
   "metadata": {
    "slideshow": {
     "slide_type": "-"
    }
   },
   "outputs": [],
   "source": [
    "class Network_Multiclass_4(nn.Module):\n",
    "    def __init__(self):\n",
    "        super().__init__()\n",
    "        # From 784 to 40\n",
    "        self.fc1 = nn.Linear(in_features=784, out_features=40)\n",
    "        # From 40 to 20\n",
    "        self.fc2 = nn.Linear(in_features=40, out_features=20)\n",
    "        # From 20 to 10\n",
    "        self.fc3 = nn.Linear(in_features=20, out_features=10)\n",
    "        \n",
    "    def forward(self, x):\n",
    "        # O input passa pela primeira camada\n",
    "        x = torch.tanh( self.fc1(x) )\n",
    "        # A saída da primeira passa pela segunda camada\n",
    "        x = torch.tanh( self.fc2(x) )\n",
    "        # A saída da segunda passa pela terceira camada\n",
    "        x = F.softmax( self.fc3(x) , dim=1 )\n",
    "        return x"
   ]
  },
  {
   "cell_type": "code",
   "execution_count": 52,
   "metadata": {
    "slideshow": {
     "slide_type": "-"
    }
   },
   "outputs": [],
   "source": [
    "lr = 0.1\n",
    "batch_size = 20\n",
    "num_epochs = 10\n",
    "\n",
    "model = Network_Multiclass_4()\n",
    "criterion = nn.CrossEntropyLoss()\n",
    "optimizer = optim.SGD(model.parameters(), lr=0.1)\n",
    "loader = DataLoader(data, batch_size=batch_size)"
   ]
  },
  {
   "cell_type": "code",
   "execution_count": 53,
   "metadata": {
    "slideshow": {
     "slide_type": "subslide"
    }
   },
   "outputs": [
    {
     "name": "stderr",
     "output_type": "stream",
     "text": [
      "100%|██████████| 10/10 [01:44<00:00, 10.56s/it]\n"
     ]
    }
   ],
   "source": [
    "e_losses = []\n",
    "progress = tqdm(range(num_epochs))\n",
    "for e in progress:\n",
    "    losses =  train_epoch(model, loader, optimizer, criterion)\n",
    "    e_losses += [np.mean(losses)]    "
   ]
  },
  {
   "cell_type": "code",
   "execution_count": 54,
   "metadata": {
    "slideshow": {
     "slide_type": "subslide"
    }
   },
   "outputs": [
    {
     "data": {
      "text/plain": [
       "[<matplotlib.lines.Line2D at 0x29967fc0198>]"
      ]
     },
     "execution_count": 54,
     "metadata": {},
     "output_type": "execute_result"
    },
    {
     "data": {
      "image/png": "[encoded data removed]",
      "text/plain": [
       "<Figure size 864x288 with 1 Axes>"
      ]
     },
     "metadata": {
      "needs_background": "light"
     },
     "output_type": "display_data"
    }
   ],
   "source": [
    "fig, ax = plt.subplots(figsize=(12,4))\n",
    "plt.title('CrossEntropyLoss vs. Epochs')\n",
    "plt.plot(e_losses)"
   ]
  },
  {
   "cell_type": "markdown",
   "metadata": {
    "slideshow": {
     "slide_type": "subslide"
    }
   },
   "source": [
    "**No Conjunto de Treinamento**"
   ]
  },
  {
   "cell_type": "code",
   "execution_count": 55,
   "metadata": {},
   "outputs": [
    {
     "name": "stdout",
     "output_type": "stream",
     "text": [
      "Acurácia no treino: 97.38\n"
     ]
    }
   ],
   "source": [
    "results = eval_model(model, loader)\n",
    "print('Acurácia no treino: {:.2f}'.format(results['acc']*100))"
   ]
  },
  {
   "cell_type": "markdown",
   "metadata": {},
   "source": [
    "**No Conjunto de Teste**"
   ]
  },
  {
   "cell_type": "code",
   "execution_count": 56,
   "metadata": {},
   "outputs": [
    {
     "name": "stdout",
     "output_type": "stream",
     "text": [
      "Acurácia no treino: 96.17\n"
     ]
    }
   ],
   "source": [
    "results = eval_model(model, testLoader)\n",
    "print('Acurácia no treino: {:.2f}'.format(results['acc']*100))"
   ]
  },
  {
   "cell_type": "markdown",
   "metadata": {
    "slideshow": {
     "slide_type": "subslide"
    }
   },
   "source": [
    "## Network Multiclass 5:\n",
    "\n",
    "Arquitetura da Rede Neural:\n",
    "* Input Layer: 784 neurônios correspondentes a cada pixel da imagem de dimensões (28x28=784)\n",
    "* Hidden Layer 1: 40 neurônios com função de ativação ReLU $f_\\sigma(x)=ReLU(x)$\n",
    "* Hidden Layer 2: 20 neurônios com função de ativação ReLU $f_\\sigma(x)$\n",
    "* Output Layer: 10 neurônios com função de ativação *Softmax* $f_\\gamma =\\frac{e^{y_i}}{\\sum_i{e^{y_i}}}$\n",
    "\n",
    "<div align=\"center\"><img src=\"img/neural_network_multiclass_4.svg\" width=70%></div>"
   ]
  },
  {
   "cell_type": "markdown",
   "metadata": {
    "slideshow": {
     "slide_type": "subslide"
    }
   },
   "source": [
    "### Implementação da Rede Neural"
   ]
  },
  {
   "cell_type": "code",
   "execution_count": 40,
   "metadata": {
    "slideshow": {
     "slide_type": "-"
    }
   },
   "outputs": [],
   "source": [
    "class Network_Multiclass_5(nn.Module):\n",
    "    def __init__(self):\n",
    "        super().__init__()\n",
    "        # From 784 to 40\n",
    "        self.fc1 = nn.Linear(in_features=784, out_features=40)\n",
    "        # From 40 to 20\n",
    "        self.fc2 = nn.Linear(in_features=40, out_features=20)\n",
    "        # From 20 to 10\n",
    "        self.fc3 = nn.Linear(in_features=20, out_features=10)\n",
    "        \n",
    "    def forward(self, x):\n",
    "        # O input passa pela primeira camada\n",
    "        x = torch.relu( self.fc1(x) )\n",
    "        # A saída da primeira passa pela segunda camada\n",
    "        x = torch.relu( self.fc2(x) )\n",
    "        # A saída da segunda passa pela terceira camada  \n",
    "        x = F.softmax( self.fc3(x) , dim=1 )\n",
    "        return x"
   ]
  },
  {
   "cell_type": "code",
   "execution_count": 58,
   "metadata": {},
   "outputs": [],
   "source": [
    "lr = 0.1\n",
    "batch_size = 20\n",
    "num_epochs = 10\n",
    "\n",
    "model = Network_Multiclass_5()\n",
    "criterion = nn.CrossEntropyLoss()\n",
    "optimizer = optim.SGD(model.parameters(), lr=0.1)\n",
    "loader = DataLoader(data, batch_size=batch_size)"
   ]
  },
  {
   "cell_type": "code",
   "execution_count": 59,
   "metadata": {
    "slideshow": {
     "slide_type": "subslide"
    }
   },
   "outputs": [
    {
     "name": "stderr",
     "output_type": "stream",
     "text": [
      "100%|██████████| 10/10 [01:47<00:00, 10.78s/it]\n"
     ]
    }
   ],
   "source": [
    "e_losses = []\n",
    "progress = tqdm(range(num_epochs))\n",
    "for e in progress:\n",
    "    losses =  train_epoch(model, loader, optimizer, criterion)\n",
    "    e_losses += [np.mean(losses)]    "
   ]
  },
  {
   "cell_type": "code",
   "execution_count": 60,
   "metadata": {
    "slideshow": {
     "slide_type": "subslide"
    }
   },
   "outputs": [
    {
     "data": {
      "text/plain": [
       "[<matplotlib.lines.Line2D at 0x29969339a58>]"
      ]
     },
     "execution_count": 60,
     "metadata": {},
     "output_type": "execute_result"
    },
    {
     "data": {
      "image/png": "[encoded data removed]",
      "text/plain": [
       "<Figure size 864x288 with 1 Axes>"
      ]
     },
     "metadata": {
      "needs_background": "light"
     },
     "output_type": "display_data"
    }
   ],
   "source": [
    "fig, ax = plt.subplots(figsize=(12,4))\n",
    "plt.title('CrossEntropyLoss vs. Epochs')\n",
    "plt.plot(e_losses)"
   ]
  },
  {
   "cell_type": "markdown",
   "metadata": {
    "slideshow": {
     "slide_type": "subslide"
    }
   },
   "source": [
    "**No Conjunto de Treinamento**"
   ]
  },
  {
   "cell_type": "code",
   "execution_count": 61,
   "metadata": {},
   "outputs": [
    {
     "name": "stdout",
     "output_type": "stream",
     "text": [
      "Acurácia no treino: 96.32\n"
     ]
    }
   ],
   "source": [
    "results = eval_model(model, loader)\n",
    "print('Acurácia no treino: {:.2f}'.format(results['acc']*100))"
   ]
  },
  {
   "cell_type": "markdown",
   "metadata": {},
   "source": [
    "**No Conjunto de Teste**"
   ]
  },
  {
   "cell_type": "code",
   "execution_count": 62,
   "metadata": {},
   "outputs": [
    {
     "name": "stdout",
     "output_type": "stream",
     "text": [
      "Acurácia no treino: 95.78\n"
     ]
    }
   ],
   "source": [
    "results = eval_model(model, testLoader)\n",
    "print('Acurácia no treino: {:.2f}'.format(results['acc']*100))"
   ]
  },
  {
   "cell_type": "markdown",
   "metadata": {
    "slideshow": {
     "slide_type": "subslide"
    }
   },
   "source": [
    "### Mostrando Acurácia de Treino e Teste Durante o Treinamento"
   ]
  },
  {
   "cell_type": "code",
   "execution_count": 63,
   "metadata": {},
   "outputs": [],
   "source": [
    "data_train = datasets.MNIST(root='data',train=True,download=True,transform=transform)\n",
    "data_test  = datasets.MNIST(root='data',train=False,download=True,transform=transform)"
   ]
  },
  {
   "cell_type": "code",
   "execution_count": 64,
   "metadata": {},
   "outputs": [],
   "source": [
    "batch_size = 20\n",
    "trainLoader = DataLoader(data_train, batch_size=batch_size)\n",
    "testLoader  = DataLoader(data_test , batch_size=batch_size)"
   ]
  },
  {
   "cell_type": "code",
   "execution_count": 65,
   "metadata": {},
   "outputs": [],
   "source": [
    "lr = 0.1\n",
    "num_epochs = 10\n",
    "\n",
    "model = Network_Multiclass_5()\n",
    "criterion = nn.CrossEntropyLoss()\n",
    "optimizer = optim.SGD(model.parameters(), lr=lr)"
   ]
  },
  {
   "cell_type": "code",
   "execution_count": 66,
   "metadata": {
    "slideshow": {
     "slide_type": "subslide"
    }
   },
   "outputs": [
    {
     "name": "stdout",
     "output_type": "stream",
     "text": [
      "{'epoch': 0, 'train_loss': 1.845, 'train_acc': 0.802, 'test_acc': 0.805}\n",
      "{'epoch': 1, 'train_loss': 1.632, 'train_acc': 0.836, 'test_acc': 0.837}\n",
      "{'epoch': 2, 'train_loss': 1.615, 'train_acc': 0.846, 'test_acc': 0.846}\n",
      "{'epoch': 3, 'train_loss': 1.608, 'train_acc': 0.858, 'test_acc': 0.857}\n",
      "{'epoch': 4, 'train_loss': 1.601, 'train_acc': 0.863, 'test_acc': 0.859}\n",
      "{'epoch': 5, 'train_loss': 1.596, 'train_acc': 0.869, 'test_acc': 0.862}\n",
      "{'epoch': 6, 'train_loss': 1.593, 'train_acc': 0.872, 'test_acc': 0.866}\n",
      "{'epoch': 7, 'train_loss': 1.59, 'train_acc': 0.875, 'test_acc': 0.87}\n",
      "{'epoch': 8, 'train_loss': 1.587, 'train_acc': 0.876, 'test_acc': 0.871}\n",
      "{'epoch': 9, 'train_loss': 1.584, 'train_acc': 0.879, 'test_acc': 0.872}\n"
     ]
    }
   ],
   "source": [
    "e_measures = []\n",
    "for e in range(num_epochs):\n",
    "    losses =  train_epoch(model, trainLoader, optimizer, criterion)    \n",
    "    measures_on_train = eval_model(model, trainLoader)\n",
    "    measures_on_test  = eval_model(model, testLoader )\n",
    "    measures = {'epoch': e, 'train_loss': round(np.mean(losses),3), 'train_acc' : round(measures_on_train['acc'],3), 'test_acc' : round(measures_on_test['acc'],3) }    \n",
    "    print(measures)\n",
    "    e_measures += [measures]"
   ]
  },
  {
   "cell_type": "markdown",
   "metadata": {
    "slideshow": {
     "slide_type": "subslide"
    }
   },
   "source": [
    "**Resultados**"
   ]
  },
  {
   "cell_type": "code",
   "execution_count": 67,
   "metadata": {},
   "outputs": [
    {
     "data": {
      "text/html": [
       "<div>\n",
       "<style scoped>\n",
       "    .dataframe tbody tr th:only-of-type {\n",
       "        vertical-align: middle;\n",
       "    }\n",
       "\n",
       "    .dataframe tbody tr th {\n",
       "        vertical-align: top;\n",
       "    }\n",
       "\n",
       "    .dataframe thead th {\n",
       "        text-align: right;\n",
       "    }\n",
       "</style>\n",
       "<table border=\"1\" class=\"dataframe\">\n",
       "  <thead>\n",
       "    <tr style=\"text-align: right;\">\n",
       "      <th></th>\n",
       "      <th>epoch</th>\n",
       "      <th>test_acc</th>\n",
       "      <th>train_acc</th>\n",
       "      <th>train_loss</th>\n",
       "    </tr>\n",
       "  </thead>\n",
       "  <tbody>\n",
       "    <tr>\n",
       "      <th>0</th>\n",
       "      <td>0</td>\n",
       "      <td>0.805</td>\n",
       "      <td>0.802</td>\n",
       "      <td>1.845</td>\n",
       "    </tr>\n",
       "    <tr>\n",
       "      <th>1</th>\n",
       "      <td>1</td>\n",
       "      <td>0.837</td>\n",
       "      <td>0.836</td>\n",
       "      <td>1.632</td>\n",
       "    </tr>\n",
       "    <tr>\n",
       "      <th>2</th>\n",
       "      <td>2</td>\n",
       "      <td>0.846</td>\n",
       "      <td>0.846</td>\n",
       "      <td>1.615</td>\n",
       "    </tr>\n",
       "    <tr>\n",
       "      <th>3</th>\n",
       "      <td>3</td>\n",
       "      <td>0.857</td>\n",
       "      <td>0.858</td>\n",
       "      <td>1.608</td>\n",
       "    </tr>\n",
       "    <tr>\n",
       "      <th>4</th>\n",
       "      <td>4</td>\n",
       "      <td>0.859</td>\n",
       "      <td>0.863</td>\n",
       "      <td>1.601</td>\n",
       "    </tr>\n",
       "    <tr>\n",
       "      <th>5</th>\n",
       "      <td>5</td>\n",
       "      <td>0.862</td>\n",
       "      <td>0.869</td>\n",
       "      <td>1.596</td>\n",
       "    </tr>\n",
       "    <tr>\n",
       "      <th>6</th>\n",
       "      <td>6</td>\n",
       "      <td>0.866</td>\n",
       "      <td>0.872</td>\n",
       "      <td>1.593</td>\n",
       "    </tr>\n",
       "    <tr>\n",
       "      <th>7</th>\n",
       "      <td>7</td>\n",
       "      <td>0.870</td>\n",
       "      <td>0.875</td>\n",
       "      <td>1.590</td>\n",
       "    </tr>\n",
       "    <tr>\n",
       "      <th>8</th>\n",
       "      <td>8</td>\n",
       "      <td>0.871</td>\n",
       "      <td>0.876</td>\n",
       "      <td>1.587</td>\n",
       "    </tr>\n",
       "    <tr>\n",
       "      <th>9</th>\n",
       "      <td>9</td>\n",
       "      <td>0.872</td>\n",
       "      <td>0.879</td>\n",
       "      <td>1.584</td>\n",
       "    </tr>\n",
       "  </tbody>\n",
       "</table>\n",
       "</div>"
      ],
      "text/plain": [
       "   epoch  test_acc  train_acc  train_loss\n",
       "0      0     0.805      0.802       1.845\n",
       "1      1     0.837      0.836       1.632\n",
       "2      2     0.846      0.846       1.615\n",
       "3      3     0.857      0.858       1.608\n",
       "4      4     0.859      0.863       1.601\n",
       "5      5     0.862      0.869       1.596\n",
       "6      6     0.866      0.872       1.593\n",
       "7      7     0.870      0.875       1.590\n",
       "8      8     0.871      0.876       1.587\n",
       "9      9     0.872      0.879       1.584"
      ]
     },
     "execution_count": 67,
     "metadata": {},
     "output_type": "execute_result"
    }
   ],
   "source": [
    "pd.DataFrame(e_measures)"
   ]
  },
  {
   "cell_type": "markdown",
   "metadata": {
    "slideshow": {
     "slide_type": "slide"
    }
   },
   "source": [
    "# Atividade\n",
    "\n",
    "* Explorar o conjunto de dados Fashion MNIST\n",
    "* Construir 5 modelos de redes neurais para classificar as imagens desse conjunto. Explorar:\n",
    "    * Número de neurônios nas camadas\n",
    "    * Número de hidden layers\n",
    "    * Funções de ativação nas hidden layers\n",
    "    * Número de épocas de treinamento\n",
    "* Para cada modelo mostrar:\n",
    "    * Um gráfico de *CrossEntropyLoss* vs Epochs\n",
    "    * Um gráfico de *Accuracy on Train and Test* vs Epochs\n",
    "    * A acurácia final no conjunto de treino e teste"
   ]
  }
 ],
 "metadata": {
  "kernelspec": {
   "display_name": "Python 3",
   "language": "python",
   "name": "python3"
  },
  "language_info": {
   "codemirror_mode": {
    "name": "ipython",
    "version": 3
   },
   "file_extension": ".py",
   "mimetype": "text/x-python",
   "name": "python",
   "nbconvert_exporter": "python",
   "pygments_lexer": "ipython3",
   "version": "3.7.1"
  }
 },
 "nbformat": 4,
 "nbformat_minor": 2
}
