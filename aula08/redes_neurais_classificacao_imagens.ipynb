{
 "cells": [
  {
   "cell_type": "markdown",
   "metadata": {
    "slideshow": {
     "slide_type": "slide"
    }
   },
   "source": [
    "<img src=\"img/logoifsc.png\">\n",
    "\n",
    "---\n",
    "\n",
    "Prof. Carlos Andrés Ferrero\n",
    "\n",
    "# Redes Neurais com PyTorch\n",
    "\n",
    "## Classificação de Imagens\n",
    "---\n",
    "\n"
   ]
  },
  {
   "cell_type": "markdown",
   "metadata": {
    "slideshow": {
     "slide_type": "slide"
    }
   },
   "source": [
    "Classificação Multiclasse\n",
    "- Introdução\n",
    "- Softmax\n",
    "- Classificação de Imagens\n",
    "- Conceito de Dissipação de Gradiente\n",
    "- Funções de ativação tangente hiperbólica e ReLU"
   ]
  },
  {
   "cell_type": "markdown",
   "metadata": {
    "slideshow": {
     "slide_type": "slide"
    }
   },
   "source": [
    "## Introdução"
   ]
  },
  {
   "cell_type": "markdown",
   "metadata": {
    "slideshow": {
     "slide_type": "subslide"
    }
   },
   "source": [
    "- Muitos problemas de classificação possuem mais do que uma classe. Por ex. ao classificar imagens de dígitos temos 10 classes (dígitos de 0 a 9), ou ao classificar imagens de produtos de moda (camisetas, camisas, calças, bolsas, etc.) também temos mais do que duas classes.\n",
    "\n",
    "- Poderíamos pensar que, a saída da rede neural poderia ser dividia de forma equidistante para cada classe. Por exemplo, em um problema de 3 classes, poderiamos dividir a saída 0 a 1 em:\n",
    "    - 0.0 para classe 1 (dog);\n",
    "    - 0.5 para classe 2 (cat);\n",
    "    - 1.0 para classe 3 (horse).\n",
    "    \n",
    "- Essa abordagem não tras bons resultados, ainda mais à medida que o número de classes aumenta.\n",
    "\n",
    "- Para tratar este problema é necessário utilizar uma outra função de ativação na última camada: *Softmax*."
   ]
  },
  {
   "cell_type": "markdown",
   "metadata": {
    "slideshow": {
     "slide_type": "subslide"
    }
   },
   "source": [
    "- Para que Redes Neurais possam ser usadas em problemas de classificação de múltiplas classes é necessário criar um neurônio de saída para cada classe.\n",
    "\n",
    "- Um exemplo de uma rede neural com três neurônios na camada de saída é apresentado na figura abaixo:\n",
    "\n",
    "<div align=\"center\"><img src=\"img/neural_network_multiclass_1.svg\" width=100%></div>"
   ]
  },
  {
   "cell_type": "markdown",
   "metadata": {
    "slideshow": {
     "slide_type": "subslide"
    }
   },
   "source": [
    "## Softmax\n",
    "\n",
    "Ao utilizar um neurônio de saída para cada classe teremos um número entre 0 e 1 para cada um deles. Poderíamos pensar que esse valor já poderia ser a probabilidade de cada classe acontecer, mas vamos ver um exemplo:\n",
    "\n",
    "**Situação 1**: neste exemplo de 3 classes, vamos supor que para uma determinada entrada de dados a saída fosse $[0.9,0.1,0.2]$. Podemos pensar que esse $0.9$ corresponde à probabilidade de ser da classe 1, no entanto a soma de todas as saídas é $1.2$, portanto, não pode corresponder a um valor de probabilidade.\n",
    "\n",
    "**Situação 2**: vamos supor que para uma outra entrada a saída $[0.7, 0.7, 0.2]$. Além de a soma ser mais do que 1, temos as classes 1 e 2 em um empate com valor 0.7. A probabilidade de ambas deveria ser a mesma, mas não poderia ser 0.7, já que a soma de ambas daria um valor maior do que 1.    "
   ]
  },
  {
   "cell_type": "markdown",
   "metadata": {
    "slideshow": {
     "slide_type": "subslide"
    }
   },
   "source": [
    "- Para resolver esse problema existe a função *Softmax*\n",
    "\n",
    "- Esta função permite transformar as saídas da rede neural em valores de score, frequentemente entendidas como probabilidade. A função matemática que permite transformar o vetor dessa saída da rede é a seguinte:\n",
    "\n",
    "$$\n",
    "\\textit{softmax}(y_i) = \\cfrac{e^{y_i}}{\\sum_i{e^{y_i}}}\n",
    "$$\n",
    "\n",
    "- onde $y_i$ é o valor de saída do neurônio da classe $i$. \n",
    "\n",
    "- No numerador temos a função exponencial de $y_i$, que retorna algum valor positivo.\n",
    "\n",
    "- No denominador temos a soma das funções exponenciais dos valores de saída para todas as classes, que também será um valor positivo.\n",
    "\n",
    "- Essa relação entre o numerador de denominador faz com que a soma de todas as saídas seja 1. Além disso, uma forte razão para usá-la é que ela é diferenciável. Uma discussão sobre o uso desta função ao invés de usar argmax ou normalização linear neste [link](https://datascience.stackexchange.com/questions/23159/in-softmax-classifier-why-use-exp-function-to-do-normalization/24112#24112?newreg=f4d9faf572fd41eebc8199f59de4e19f)"
   ]
  },
  {
   "cell_type": "markdown",
   "metadata": {
    "slideshow": {
     "slide_type": "subslide"
    }
   },
   "source": [
    "Podemos definir a nossa função em Python para realizar esse cálculo"
   ]
  },
  {
   "cell_type": "code",
   "execution_count": 41,
   "metadata": {},
   "outputs": [],
   "source": [
    "import torch \n",
    "def softmax(x):\n",
    "    return torch.exp(x) / torch.sum(torch.exp(x))"
   ]
  },
  {
   "cell_type": "markdown",
   "metadata": {},
   "source": [
    "- As probabilidades para a saída $[0.9, 0.1, 0.2]$ seriam:"
   ]
  },
  {
   "cell_type": "code",
   "execution_count": 42,
   "metadata": {},
   "outputs": [
    {
     "data": {
      "text/plain": [
       "tensor([0.5139, 0.2309, 0.2552])"
      ]
     },
     "execution_count": 42,
     "metadata": {},
     "output_type": "execute_result"
    }
   ],
   "source": [
    "out = torch.tensor([0.9, 0.1, 0.2])\n",
    "probabilities = softmax(out)\n",
    "probabilities"
   ]
  },
  {
   "cell_type": "markdown",
   "metadata": {},
   "source": [
    "- As probabilidades para a saída $[0.7, 0.7, 0.2]$ seriam:"
   ]
  },
  {
   "cell_type": "code",
   "execution_count": 43,
   "metadata": {},
   "outputs": [
    {
     "data": {
      "text/plain": [
       "tensor([0.3837, 0.3837, 0.2327])"
      ]
     },
     "execution_count": 43,
     "metadata": {},
     "output_type": "execute_result"
    }
   ],
   "source": [
    "out = torch.tensor([0.7, 0.7, 0.2])\n",
    "probabilities = softmax(out)\n",
    "probabilities"
   ]
  },
  {
   "cell_type": "markdown",
   "metadata": {
    "slideshow": {
     "slide_type": "subslide"
    }
   },
   "source": [
    "### Rede Neural com Saída Softmax\n",
    "\n",
    "<div align=\"center\"><img src=\"img/neural_network_multiclass_1b.svg\" width=100%></div>"
   ]
  },
  {
   "cell_type": "markdown",
   "metadata": {
    "slideshow": {
     "slide_type": "subslide"
    }
   },
   "source": [
    "Em termos de implementação em Pytorch a nossa rede ficaria da seguinte forma:"
   ]
  },
  {
   "cell_type": "code",
   "execution_count": 44,
   "metadata": {},
   "outputs": [],
   "source": [
    "from torch import nn\n",
    "import torch.nn.functional as F\n",
    "\n",
    "class Network_Multiclass_1(nn.Module):\n",
    "    def __init__(self):\n",
    "        super().__init__()\n",
    "        self.fc1 = nn.Linear(in_features=4, out_features=5)        \n",
    "        self.fc2 = nn.Linear(in_features=5, out_features=3)        \n",
    "                \n",
    "    def forward(self, x):\n",
    "        x = torch.sigmoid( self.fc1(x) )        \n",
    "        x = F.softmax( self.fc2(x) , dim=1)\n",
    "        return x"
   ]
  },
  {
   "cell_type": "markdown",
   "metadata": {
    "slideshow": {
     "slide_type": "subslide"
    }
   },
   "source": [
    "Além disso, também temos que mudar a função para medir o erro, pois é o erro que orienta o aprendizado da rede e tem influência no cálculo do gradiente. Ao utilizarmos *softmax* como saída da nossa rede devemos utilizar como critério medição do erro a função *CrossEntropyLoss*. Quanto ao otimizador vamos manter *Stochastic Gradient Descent* (SGD).\n",
    "\n",
    "Segue abaixo um exemplo de implementação:"
   ]
  },
  {
   "cell_type": "code",
   "execution_count": 45,
   "metadata": {},
   "outputs": [],
   "source": [
    "from torch import nn, optim\n",
    "import matplotlib.pyplot as plt\n",
    "\n",
    "model = Network_Multiclass_1()\n",
    "criterion = nn.CrossEntropyLoss()\n",
    "optimizer = optim.SGD(model.parameters(), lr=0.1)"
   ]
  },
  {
   "cell_type": "markdown",
   "metadata": {},
   "source": [
    "O treinamento da rede continuará como já foi implementado."
   ]
  },
  {
   "cell_type": "markdown",
   "metadata": {
    "slideshow": {
     "slide_type": "subslide"
    }
   },
   "source": [
    "## Classificação de Imagens"
   ]
  },
  {
   "cell_type": "markdown",
   "metadata": {
    "slideshow": {
     "slide_type": "-"
    }
   },
   "source": [
    "### Conjunto de Dados"
   ]
  },
  {
   "cell_type": "markdown",
   "metadata": {
    "slideshow": {
     "slide_type": "-"
    }
   },
   "source": [
    "MNIST handwritten digit database"
   ]
  },
  {
   "cell_type": "code",
   "execution_count": 46,
   "metadata": {},
   "outputs": [],
   "source": [
    "import torch\n",
    "\n",
    "from torchvision import datasets\n",
    "from torch.utils.data import DataLoader\n",
    "import torchvision.transforms as transforms\n",
    "import numpy as np\n",
    "\n",
    "transform = transforms.ToTensor()\n",
    "\n",
    "data = datasets.MNIST(root='data',train=True,download=True,transform=transform)\n",
    "\n",
    "batch_size = 8\n",
    "loader = DataLoader(data, batch_size=batch_size, shuffle=True)"
   ]
  },
  {
   "cell_type": "markdown",
   "metadata": {
    "slideshow": {
     "slide_type": "subslide"
    }
   },
   "source": [
    "Visualizando um batch de tamanho de 8 dos números da base de dados."
   ]
  },
  {
   "cell_type": "code",
   "execution_count": 47,
   "metadata": {
    "slideshow": {
     "slide_type": "-"
    }
   },
   "outputs": [
    {
     "data": {
      "image/png": "[encoded data removed]",
      "text/plain": [
       "<Figure size 1800x720 with 8 Axes>"
      ]
     },
     "metadata": {},
     "output_type": "display_data"
    }
   ],
   "source": [
    "images, labels = iter(loader).next()\n",
    "from helper import show_images\n",
    "show_images(images,labels,n_rows=2)"
   ]
  },
  {
   "cell_type": "code",
   "execution_count": 48,
   "metadata": {},
   "outputs": [
    {
     "data": {
      "text/plain": [
       "torch.Size([1, 28, 28])"
      ]
     },
     "execution_count": 48,
     "metadata": {},
     "output_type": "execute_result"
    }
   ],
   "source": [
    "images[0].shape"
   ]
  },
  {
   "cell_type": "code",
   "execution_count": 49,
   "metadata": {
    "slideshow": {
     "slide_type": "subslide"
    }
   },
   "outputs": [
    {
     "data": {
      "image/png": "[encoded data removed]",
      "text/plain": [
       "<Figure size 864x720 with 1 Axes>"
      ]
     },
     "metadata": {
      "needs_background": "light"
     },
     "output_type": "display_data"
    }
   ],
   "source": [
    "from helper import show_image_in_details\n",
    "show_image_in_details(np.squeeze(images[0]), (12,10) )"
   ]
  },
  {
   "cell_type": "markdown",
   "metadata": {
    "slideshow": {
     "slide_type": "subslide"
    }
   },
   "source": [
    "## Network Multiclass 2 \n",
    "\n",
    "Arquitetura da Rede Neural:\n",
    "* Input Layer: 784 neurônios correspondentes a cada pixel da imagem de dimensões (28x28=784)\n",
    "* Hidden Layer: 20 neurônios com função de ativação sigmoidal $f_\\sigma=\\frac{1}{1 + e^{-x}}$\n",
    "* Output Layer: 10 neurônios com função de ativação *Softmax* $f_\\gamma =\\frac{e^{y_i}}{\\sum_i{e^{y_i}}}$\n",
    "\n",
    "<div align=\"center\"><img src=\"img/neural_network_multiclass_2.svg\" width=80%></div>"
   ]
  },
  {
   "cell_type": "markdown",
   "metadata": {
    "slideshow": {
     "slide_type": "subslide"
    }
   },
   "source": [
    "### Implementação da Rede Neural"
   ]
  },
  {
   "cell_type": "code",
   "execution_count": 50,
   "metadata": {
    "slideshow": {
     "slide_type": "-"
    }
   },
   "outputs": [],
   "source": [
    "class Network_Multiclass_2(nn.Module):\n",
    "    def __init__(self):\n",
    "        super().__init__()\n",
    "        # From 784 to 20\n",
    "        self.fc1 = nn.Linear(in_features=784, out_features=20)\n",
    "        # From 20 to 10\n",
    "        self.fc2 = nn.Linear(in_features=20, out_features=10)\n",
    "        \n",
    "    def forward(self, x):\n",
    "        # O input passa pela primeira camada\n",
    "        x = torch.sigmoid( self.fc1(x) )\n",
    "        # A saída da primeira camada passa pela segunda camada        \n",
    "        x = F.softmax( self.fc2(x) , dim=1 )\n",
    "        return x"
   ]
  },
  {
   "cell_type": "code",
   "execution_count": 51,
   "metadata": {},
   "outputs": [
    {
     "data": {
      "text/plain": [
       "Network_Multiclass_2(\n",
       "  (fc1): Linear(in_features=784, out_features=20, bias=True)\n",
       "  (fc2): Linear(in_features=20, out_features=10, bias=True)\n",
       ")"
      ]
     },
     "execution_count": 51,
     "metadata": {},
     "output_type": "execute_result"
    }
   ],
   "source": [
    "model = Network_Multiclass_2()\n",
    "model"
   ]
  },
  {
   "cell_type": "markdown",
   "metadata": {
    "slideshow": {
     "slide_type": "subslide"
    }
   },
   "source": [
    "### Passando uma Imagem pela Rede Neural\n",
    "\n",
    "A estrutura da nossa Rede Neural está definida, no entanto ainda os pesos dela não estão ajustados, o que significa que ela ainda não é boa para classificar imagens de dígitos.\n",
    "\n",
    "Podemos testar a execução do método `forward` que implementamos na nossa classe. Esse método é o responsável por transformar os dados de entrada da imagem (os valores dos píxels) em uma saída, que será um vetor de probabilidades (devido ao uso de *softmax*) da imagem pertencer aos possíveis números.\n",
    "\n",
    "O `x` do nosso método `forward` espera um input de dimensão $784$ mas as nossas imagens tem $28 x 28$, portanto precisamos transformar o nosso conjunto de dados, que tem o shape $(1, 1, 28, 28)$ para $(1, 784)$"
   ]
  },
  {
   "cell_type": "code",
   "execution_count": 52,
   "metadata": {},
   "outputs": [
    {
     "data": {
      "text/plain": [
       "torch.Size([1, 784])"
      ]
     },
     "execution_count": 52,
     "metadata": {},
     "output_type": "execute_result"
    }
   ],
   "source": [
    "input_data = images[0].clone().resize_(1, 784)\n",
    "input_data.shape"
   ]
  },
  {
   "cell_type": "code",
   "execution_count": 53,
   "metadata": {
    "slideshow": {
     "slide_type": "subslide"
    }
   },
   "outputs": [
    {
     "data": {
      "text/plain": [
       "tensor([[0.0912, 0.0981, 0.1309, 0.1422, 0.1045, 0.0602, 0.1091, 0.0720, 0.0976,\n",
       "         0.0942]], grad_fn=<SoftmaxBackward>)"
      ]
     },
     "execution_count": 53,
     "metadata": {},
     "output_type": "execute_result"
    }
   ],
   "source": [
    "output_proba = model(input_data)\n",
    "output_proba"
   ]
  },
  {
   "cell_type": "code",
   "execution_count": 54,
   "metadata": {},
   "outputs": [
    {
     "data": {
      "text/plain": [
       "[{'classe': 0, 'probabilidade': 9.12},\n",
       " {'classe': 1, 'probabilidade': 9.81},\n",
       " {'classe': 2, 'probabilidade': 13.09},\n",
       " {'classe': 3, 'probabilidade': 14.22},\n",
       " {'classe': 4, 'probabilidade': 10.45},\n",
       " {'classe': 5, 'probabilidade': 6.02},\n",
       " {'classe': 6, 'probabilidade': 10.91},\n",
       " {'classe': 7, 'probabilidade': 7.2},\n",
       " {'classe': 8, 'probabilidade': 9.76},\n",
       " {'classe': 9, 'probabilidade': 9.42}]"
      ]
     },
     "execution_count": 54,
     "metadata": {},
     "output_type": "execute_result"
    }
   ],
   "source": [
    "[{'classe' : i, 'probabilidade': round(output_proba[0,i].detach().numpy()*100,2)} for i in range(len(output_proba[0,:]))]"
   ]
  },
  {
   "cell_type": "markdown",
   "metadata": {
    "slideshow": {
     "slide_type": "subslide"
    }
   },
   "source": [
    "### Passando um Batch de Imagens pela Rede Neural\n",
    "\n",
    "Transformação do nosso batch de imagens, que tem o shape $(8, 1, 28, 28)$ para $(8, 784)$"
   ]
  },
  {
   "cell_type": "code",
   "execution_count": 55,
   "metadata": {},
   "outputs": [
    {
     "data": {
      "text/plain": [
       "torch.Size([8, 784])"
      ]
     },
     "execution_count": 55,
     "metadata": {},
     "output_type": "execute_result"
    }
   ],
   "source": [
    "input_data = images.clone().resize_(batch_size, 784)\n",
    "input_data.shape"
   ]
  },
  {
   "cell_type": "code",
   "execution_count": 56,
   "metadata": {
    "slideshow": {
     "slide_type": "subslide"
    }
   },
   "outputs": [
    {
     "data": {
      "text/plain": [
       "tensor([[0.0912, 0.0981, 0.1309, 0.1422, 0.1045, 0.0602, 0.1091, 0.0720, 0.0976,\n",
       "         0.0942],\n",
       "        [0.0907, 0.0949, 0.1328, 0.1384, 0.1064, 0.0624, 0.1109, 0.0727, 0.0977,\n",
       "         0.0932],\n",
       "        [0.0957, 0.0983, 0.1298, 0.1391, 0.1056, 0.0602, 0.1057, 0.0705, 0.1009,\n",
       "         0.0941],\n",
       "        [0.0933, 0.0990, 0.1275, 0.1396, 0.1070, 0.0616, 0.1084, 0.0737, 0.0986,\n",
       "         0.0913],\n",
       "        [0.0942, 0.0984, 0.1286, 0.1388, 0.1041, 0.0621, 0.1069, 0.0729, 0.1023,\n",
       "         0.0916],\n",
       "        [0.0938, 0.0988, 0.1291, 0.1380, 0.0986, 0.0644, 0.1089, 0.0737, 0.1026,\n",
       "         0.0921],\n",
       "        [0.0931, 0.0990, 0.1271, 0.1412, 0.1025, 0.0629, 0.1039, 0.0745, 0.1035,\n",
       "         0.0923],\n",
       "        [0.0939, 0.0980, 0.1266, 0.1378, 0.1083, 0.0614, 0.1092, 0.0719, 0.0999,\n",
       "         0.0929]], grad_fn=<SoftmaxBackward>)"
      ]
     },
     "execution_count": 56,
     "metadata": {},
     "output_type": "execute_result"
    }
   ],
   "source": [
    "output_proba = model(input_data)\n",
    "output_proba"
   ]
  },
  {
   "cell_type": "code",
   "execution_count": 57,
   "metadata": {
    "slideshow": {
     "slide_type": "subslide"
    }
   },
   "outputs": [
    {
     "data": {
      "text/html": [
       "<div>\n",
       "<style scoped>\n",
       "    .dataframe tbody tr th:only-of-type {\n",
       "        vertical-align: middle;\n",
       "    }\n",
       "\n",
       "    .dataframe tbody tr th {\n",
       "        vertical-align: top;\n",
       "    }\n",
       "\n",
       "    .dataframe thead th {\n",
       "        text-align: right;\n",
       "    }\n",
       "</style>\n",
       "<table border=\"1\" class=\"dataframe\">\n",
       "  <thead>\n",
       "    <tr style=\"text-align: right;\">\n",
       "      <th></th>\n",
       "      <th>0</th>\n",
       "      <th>1</th>\n",
       "      <th>2</th>\n",
       "      <th>3</th>\n",
       "      <th>4</th>\n",
       "      <th>5</th>\n",
       "      <th>6</th>\n",
       "      <th>7</th>\n",
       "      <th>8</th>\n",
       "      <th>9</th>\n",
       "      <th>Soma</th>\n",
       "    </tr>\n",
       "  </thead>\n",
       "  <tbody>\n",
       "    <tr>\n",
       "      <th>0</th>\n",
       "      <td>9.12</td>\n",
       "      <td>9.81</td>\n",
       "      <td>13.09</td>\n",
       "      <td>14.22</td>\n",
       "      <td>10.45</td>\n",
       "      <td>6.02</td>\n",
       "      <td>10.91</td>\n",
       "      <td>7.20</td>\n",
       "      <td>9.76</td>\n",
       "      <td>9.42</td>\n",
       "      <td>100.0</td>\n",
       "    </tr>\n",
       "    <tr>\n",
       "      <th>1</th>\n",
       "      <td>9.07</td>\n",
       "      <td>9.49</td>\n",
       "      <td>13.28</td>\n",
       "      <td>13.84</td>\n",
       "      <td>10.64</td>\n",
       "      <td>6.24</td>\n",
       "      <td>11.09</td>\n",
       "      <td>7.27</td>\n",
       "      <td>9.77</td>\n",
       "      <td>9.32</td>\n",
       "      <td>100.0</td>\n",
       "    </tr>\n",
       "    <tr>\n",
       "      <th>2</th>\n",
       "      <td>9.57</td>\n",
       "      <td>9.83</td>\n",
       "      <td>12.98</td>\n",
       "      <td>13.91</td>\n",
       "      <td>10.56</td>\n",
       "      <td>6.02</td>\n",
       "      <td>10.57</td>\n",
       "      <td>7.05</td>\n",
       "      <td>10.09</td>\n",
       "      <td>9.41</td>\n",
       "      <td>100.0</td>\n",
       "    </tr>\n",
       "    <tr>\n",
       "      <th>3</th>\n",
       "      <td>9.33</td>\n",
       "      <td>9.90</td>\n",
       "      <td>12.75</td>\n",
       "      <td>13.96</td>\n",
       "      <td>10.70</td>\n",
       "      <td>6.16</td>\n",
       "      <td>10.84</td>\n",
       "      <td>7.37</td>\n",
       "      <td>9.86</td>\n",
       "      <td>9.13</td>\n",
       "      <td>100.0</td>\n",
       "    </tr>\n",
       "    <tr>\n",
       "      <th>4</th>\n",
       "      <td>9.42</td>\n",
       "      <td>9.84</td>\n",
       "      <td>12.86</td>\n",
       "      <td>13.88</td>\n",
       "      <td>10.41</td>\n",
       "      <td>6.21</td>\n",
       "      <td>10.69</td>\n",
       "      <td>7.29</td>\n",
       "      <td>10.23</td>\n",
       "      <td>9.16</td>\n",
       "      <td>100.0</td>\n",
       "    </tr>\n",
       "    <tr>\n",
       "      <th>5</th>\n",
       "      <td>9.38</td>\n",
       "      <td>9.88</td>\n",
       "      <td>12.91</td>\n",
       "      <td>13.80</td>\n",
       "      <td>9.86</td>\n",
       "      <td>6.44</td>\n",
       "      <td>10.89</td>\n",
       "      <td>7.37</td>\n",
       "      <td>10.26</td>\n",
       "      <td>9.21</td>\n",
       "      <td>100.0</td>\n",
       "    </tr>\n",
       "    <tr>\n",
       "      <th>6</th>\n",
       "      <td>9.31</td>\n",
       "      <td>9.90</td>\n",
       "      <td>12.71</td>\n",
       "      <td>14.12</td>\n",
       "      <td>10.25</td>\n",
       "      <td>6.29</td>\n",
       "      <td>10.39</td>\n",
       "      <td>7.45</td>\n",
       "      <td>10.35</td>\n",
       "      <td>9.23</td>\n",
       "      <td>100.0</td>\n",
       "    </tr>\n",
       "    <tr>\n",
       "      <th>7</th>\n",
       "      <td>9.39</td>\n",
       "      <td>9.80</td>\n",
       "      <td>12.66</td>\n",
       "      <td>13.78</td>\n",
       "      <td>10.83</td>\n",
       "      <td>6.14</td>\n",
       "      <td>10.92</td>\n",
       "      <td>7.19</td>\n",
       "      <td>9.99</td>\n",
       "      <td>9.29</td>\n",
       "      <td>100.0</td>\n",
       "    </tr>\n",
       "  </tbody>\n",
       "</table>\n",
       "</div>"
      ],
      "text/plain": [
       "      0     1      2      3      4     5      6     7      8     9   Soma\n",
       "0  9.12  9.81  13.09  14.22  10.45  6.02  10.91  7.20   9.76  9.42  100.0\n",
       "1  9.07  9.49  13.28  13.84  10.64  6.24  11.09  7.27   9.77  9.32  100.0\n",
       "2  9.57  9.83  12.98  13.91  10.56  6.02  10.57  7.05  10.09  9.41  100.0\n",
       "3  9.33  9.90  12.75  13.96  10.70  6.16  10.84  7.37   9.86  9.13  100.0\n",
       "4  9.42  9.84  12.86  13.88  10.41  6.21  10.69  7.29  10.23  9.16  100.0\n",
       "5  9.38  9.88  12.91  13.80   9.86  6.44  10.89  7.37  10.26  9.21  100.0\n",
       "6  9.31  9.90  12.71  14.12  10.25  6.29  10.39  7.45  10.35  9.23  100.0\n",
       "7  9.39  9.80  12.66  13.78  10.83  6.14  10.92  7.19   9.99  9.29  100.0"
      ]
     },
     "execution_count": 57,
     "metadata": {},
     "output_type": "execute_result"
    }
   ],
   "source": [
    "import pandas as pd\n",
    "df = pd.DataFrame(np.round(output_proba.detach().numpy()*100, 2))\n",
    "df['Soma'] = np.round( df.sum(axis=1) )\n",
    "df"
   ]
  },
  {
   "cell_type": "markdown",
   "metadata": {
    "slideshow": {
     "slide_type": "subslide"
    }
   },
   "source": [
    "### Visualização das Probabilidades"
   ]
  },
  {
   "cell_type": "code",
   "execution_count": 58,
   "metadata": {},
   "outputs": [
    {
     "data": {
      "image/png": "[encoded data removed]",
      "text/plain": [
       "<Figure size 432x648 with 2 Axes>"
      ]
     },
     "metadata": {
      "needs_background": "light"
     },
     "output_type": "display_data"
    },
    {
     "data": {
      "image/png": "[encoded data removed]",
      "text/plain": [
       "<Figure size 432x648 with 2 Axes>"
      ]
     },
     "metadata": {
      "needs_background": "light"
     },
     "output_type": "display_data"
    }
   ],
   "source": [
    "from helper import view_classify\n",
    "view_classify(input_data[0].view(28, 28), output_proba[0,:])\n",
    "view_classify(input_data[1].view(28, 28), output_proba[1,:])"
   ]
  },
  {
   "cell_type": "markdown",
   "metadata": {
    "slideshow": {
     "slide_type": "subslide"
    }
   },
   "source": [
    "O que gostaríamos é que a maior probabilidade corresponda ao número da imagem, mas isso não acontece magicamente. Para isso é necessário treinar a Rede Neural. Treinar a rede significa encontrar os valores dos pesos nas camadas de tal forma que a saída seja correta."
   ]
  },
  {
   "cell_type": "markdown",
   "metadata": {
    "slideshow": {
     "slide_type": "subslide"
    }
   },
   "source": [
    "### Treinamento da Rede Neural"
   ]
  },
  {
   "cell_type": "code",
   "execution_count": 59,
   "metadata": {},
   "outputs": [],
   "source": [
    "def train_epoch(model, trainLoader, optimizer, criterion):\n",
    "    model.train()\n",
    "    losses = []\n",
    "    for images, labels in trainLoader:\n",
    "        # (0) Prepare data\n",
    "        (batch_size, _, width, height) = images.shape\n",
    "        images.resize_(batch_size, width*height)\n",
    "        \n",
    "        optimizer.zero_grad()\n",
    "        # (1) Forward\n",
    "        y_pred = model(images)    \n",
    "        # (2) Compute error\n",
    "        loss = criterion(y_pred, labels)\n",
    "        # (3) Compute gradients\n",
    "        loss.backward()\n",
    "        # (4) Update weights\n",
    "        optimizer.step()        \n",
    "        losses.append(loss.item())\n",
    "        \n",
    "    model.eval()\n",
    "    return losses"
   ]
  },
  {
   "cell_type": "code",
   "execution_count": 60,
   "metadata": {
    "slideshow": {
     "slide_type": "subslide"
    }
   },
   "outputs": [],
   "source": [
    "batch_size = 20\n",
    "loader = DataLoader(data, batch_size=batch_size, shuffle=True)"
   ]
  },
  {
   "cell_type": "code",
   "execution_count": 61,
   "metadata": {},
   "outputs": [],
   "source": [
    "from torch import nn, optim\n",
    "\n",
    "model = Network_Multiclass_2()\n",
    "criterion = nn.CrossEntropyLoss()\n",
    "optimizer = optim.SGD(model.parameters(), lr=0.1)"
   ]
  },
  {
   "cell_type": "markdown",
   "metadata": {
    "slideshow": {
     "slide_type": "subslide"
    }
   },
   "source": [
    "#### Iteração 1"
   ]
  },
  {
   "cell_type": "code",
   "execution_count": 62,
   "metadata": {},
   "outputs": [],
   "source": [
    "losses = train_epoch(model, loader, optimizer, criterion)"
   ]
  },
  {
   "cell_type": "code",
   "execution_count": 63,
   "metadata": {},
   "outputs": [
    {
     "name": "stdout",
     "output_type": "stream",
     "text": [
      "first 5 losses:  [2.313 2.298 2.288 2.303 2.313]\n",
      "last  5 losses:  [2.009 1.897 1.991 1.997 1.798]\n"
     ]
    }
   ],
   "source": [
    "print('first 5 losses: ', np.round(losses[:5],3) )\n",
    "print('last  5 losses: ', np.round(losses[(len(losses)-5):],3) )"
   ]
  },
  {
   "cell_type": "code",
   "execution_count": 64,
   "metadata": {},
   "outputs": [],
   "source": [
    "test_images, test_labels = iter(loader).next()"
   ]
  },
  {
   "cell_type": "code",
   "execution_count": 65,
   "metadata": {},
   "outputs": [
    {
     "data": {
      "image/png": "[encoded data removed]",
      "text/plain": [
       "<Figure size 432x648 with 2 Axes>"
      ]
     },
     "metadata": {
      "needs_background": "light"
     },
     "output_type": "display_data"
    }
   ],
   "source": [
    "view_classify(test_images[7].view(28, 28), model(test_images[7].view(1,-1) ) )"
   ]
  },
  {
   "cell_type": "markdown",
   "metadata": {
    "slideshow": {
     "slide_type": "subslide"
    }
   },
   "source": [
    "#### Iteração 2"
   ]
  },
  {
   "cell_type": "code",
   "execution_count": 66,
   "metadata": {},
   "outputs": [],
   "source": [
    "losses = train_epoch(model, loader, optimizer, criterion)"
   ]
  },
  {
   "cell_type": "code",
   "execution_count": 67,
   "metadata": {},
   "outputs": [
    {
     "name": "stdout",
     "output_type": "stream",
     "text": [
      "first 5 losses:  [1.901 1.949 1.98  1.912 1.826]\n",
      "last  5 losses:  [1.738 1.701 1.796 1.692 1.626]\n"
     ]
    }
   ],
   "source": [
    "print('first 5 losses: ', np.round(losses[:5],3) )\n",
    "print('last  5 losses: ', np.round(losses[(len(losses)-5):],3) )"
   ]
  },
  {
   "cell_type": "code",
   "execution_count": 68,
   "metadata": {},
   "outputs": [
    {
     "data": {
      "image/png": "[encoded data removed]",
      "text/plain": [
       "<Figure size 432x648 with 2 Axes>"
      ]
     },
     "metadata": {
      "needs_background": "light"
     },
     "output_type": "display_data"
    }
   ],
   "source": [
    "view_classify(test_images[7].view(28, 28), model(test_images[7].view(1,-1) ) )"
   ]
  },
  {
   "cell_type": "markdown",
   "metadata": {
    "slideshow": {
     "slide_type": "subslide"
    }
   },
   "source": [
    "#### Iteração 3:"
   ]
  },
  {
   "cell_type": "code",
   "execution_count": 69,
   "metadata": {},
   "outputs": [],
   "source": [
    "losses = train_epoch(model, loader, optimizer, criterion)"
   ]
  },
  {
   "cell_type": "code",
   "execution_count": 70,
   "metadata": {},
   "outputs": [
    {
     "name": "stdout",
     "output_type": "stream",
     "text": [
      "first 5 losses:  [1.809 1.692 1.658 1.66  1.57 ]\n",
      "last  5 losses:  [1.594 1.625 1.648 1.735 1.698]\n"
     ]
    }
   ],
   "source": [
    "print('first 5 losses: ', np.round(losses[:5],3) )\n",
    "print('last  5 losses: ', np.round(losses[(len(losses)-5):],3) )"
   ]
  },
  {
   "cell_type": "code",
   "execution_count": 71,
   "metadata": {},
   "outputs": [
    {
     "data": {
      "image/png": "[encoded data removed]",
      "text/plain": [
       "<Figure size 432x648 with 2 Axes>"
      ]
     },
     "metadata": {
      "needs_background": "light"
     },
     "output_type": "display_data"
    }
   ],
   "source": [
    "view_classify(test_images[7].view(28, 28), model(test_images[7].view(1,-1) ) )"
   ]
  },
  {
   "cell_type": "markdown",
   "metadata": {
    "slideshow": {
     "slide_type": "subslide"
    }
   },
   "source": [
    "### Treinamento com 10 Épocas"
   ]
  },
  {
   "cell_type": "code",
   "execution_count": 72,
   "metadata": {},
   "outputs": [],
   "source": [
    "lr = 0.1\n",
    "batch_size = 20\n",
    "num_epochs = 10\n",
    "\n",
    "model = Network_Multiclass_2()\n",
    "criterion = nn.CrossEntropyLoss()\n",
    "optimizer = optim.SGD(model.parameters(), lr=0.1)\n",
    "loader = DataLoader(data, batch_size=batch_size)"
   ]
  },
  {
   "cell_type": "code",
   "execution_count": 73,
   "metadata": {},
   "outputs": [
    {
     "name": "stderr",
     "output_type": "stream",
     "text": [
      "100%|██████████| 10/10 [03:11<00:00, 19.06s/it]\n"
     ]
    }
   ],
   "source": [
    "from tqdm import tqdm\n",
    "e_losses = []\n",
    "for e in tqdm(range(num_epochs)):\n",
    "    losses =  train_epoch(model, loader, optimizer, criterion)\n",
    "    e_losses += [np.mean(losses)]"
   ]
  },
  {
   "cell_type": "markdown",
   "metadata": {
    "slideshow": {
     "slide_type": "subslide"
    }
   },
   "source": [
    "#### CrossEntropyLoss vs. Epochs"
   ]
  },
  {
   "cell_type": "code",
   "execution_count": 74,
   "metadata": {},
   "outputs": [
    {
     "data": {
      "text/plain": [
       "[<matplotlib.lines.Line2D at 0x1f34571d9e8>]"
      ]
     },
     "execution_count": 74,
     "metadata": {},
     "output_type": "execute_result"
    },
    {
     "data": {
      "image/png": "[encoded data removed]",
      "text/plain": [
       "<Figure size 864x288 with 1 Axes>"
      ]
     },
     "metadata": {
      "needs_background": "light"
     },
     "output_type": "display_data"
    }
   ],
   "source": [
    "fig, ax = plt.subplots(figsize=(12,4))\n",
    "plt.title('CrossEntropyLoss vs. Epochs')\n",
    "plt.plot(e_losses)"
   ]
  },
  {
   "cell_type": "markdown",
   "metadata": {
    "slideshow": {
     "slide_type": "subslide"
    }
   },
   "source": [
    "#### Visualização de uma Classificação"
   ]
  },
  {
   "cell_type": "code",
   "execution_count": 75,
   "metadata": {
    "slideshow": {
     "slide_type": "-"
    }
   },
   "outputs": [
    {
     "data": {
      "image/png": "[encoded data removed]",
      "text/plain": [
       "<Figure size 432x648 with 2 Axes>"
      ]
     },
     "metadata": {
      "needs_background": "light"
     },
     "output_type": "display_data"
    }
   ],
   "source": [
    "view_classify(test_images[7].view(28, 28), model(test_images[7].view(1,-1) ) )"
   ]
  },
  {
   "cell_type": "markdown",
   "metadata": {
    "slideshow": {
     "slide_type": "subslide"
    }
   },
   "source": [
    "#### Verificiando a Acurácia"
   ]
  },
  {
   "cell_type": "code",
   "execution_count": 76,
   "metadata": {},
   "outputs": [],
   "source": [
    "def eval_model(model, loader):\n",
    "    measures = []\n",
    "    total = 0\n",
    "    correct = 0\n",
    "    for images, labels in loader:\n",
    "        # (0) Prepare data\n",
    "        (batch_size, _, width, height) = images.shape\n",
    "        images.resize_(batch_size, width*height)\n",
    "        \n",
    "        # (1) Get the most probably class\n",
    "        _, y_pred = torch.max(model(images),1)\n",
    "        \n",
    "        total += labels.size(0)\n",
    "        correct += (y_pred == labels).sum().item()\n",
    "        \n",
    "    measures = {'acc' : correct/total}\n",
    "    return measures"
   ]
  },
  {
   "cell_type": "markdown",
   "metadata": {
    "slideshow": {
     "slide_type": "subslide"
    }
   },
   "source": [
    "**No Conjunto de Treinamento**"
   ]
  },
  {
   "cell_type": "code",
   "execution_count": 77,
   "metadata": {},
   "outputs": [
    {
     "name": "stdout",
     "output_type": "stream",
     "text": [
      "Acurácia no treino: 92.07\n"
     ]
    }
   ],
   "source": [
    "results = eval_model(model, loader)\n",
    "print('Acurácia no treino: {:.2f}'.format(results['acc']*100))"
   ]
  },
  {
   "cell_type": "markdown",
   "metadata": {},
   "source": [
    "**No Conjunto de Teste**"
   ]
  },
  {
   "cell_type": "code",
   "execution_count": 78,
   "metadata": {},
   "outputs": [],
   "source": [
    "data_test = datasets.MNIST(root='data',train=False,download=True,transform=transform)\n",
    "testLoader = DataLoader(data_test, batch_size=batch_size)"
   ]
  },
  {
   "cell_type": "code",
   "execution_count": 79,
   "metadata": {},
   "outputs": [
    {
     "name": "stdout",
     "output_type": "stream",
     "text": [
      "Acurácia no teste: 92.13\n"
     ]
    }
   ],
   "source": [
    "results = eval_model(model, testLoader)\n",
    "print('Acurácia no teste: {:.2f}'.format(results['acc']*100))"
   ]
  },
  {
   "cell_type": "markdown",
   "metadata": {
    "slideshow": {
     "slide_type": "subslide"
    }
   },
   "source": [
    "## Network Multiclass 3:\n",
    "\n",
    "Arquitetura da Rede Neural:\n",
    "* Input Layer: 784 neurônios correspondentes a cada pixel da imagem de dimensões (28x28=784)\n",
    "* Hidden Layer 1: 40 neurônios com função de ativação sigmoidal $f_\\sigma=\\frac{1}{1 + e^{-x}}$\n",
    "* Hidden Layer 2: 20 neurônios com função de ativação sigmoidal $f_\\sigma$\n",
    "* Output Layer: 10 neurônios com função de ativação *Softmax* $f_\\gamma =\\frac{e^{y_i}}{\\sum_i{e^{y_i}}}$\n",
    "\n",
    "<div align=\"center\"><img src=\"img/neural_network_multiclass_4.svg\" width=75%></div>"
   ]
  },
  {
   "cell_type": "markdown",
   "metadata": {
    "slideshow": {
     "slide_type": "subslide"
    }
   },
   "source": [
    "#### Implementação da Rede Neural"
   ]
  },
  {
   "cell_type": "code",
   "execution_count": 80,
   "metadata": {},
   "outputs": [],
   "source": [
    "class Network_Multiclass_3(nn.Module):\n",
    "    def __init__(self):\n",
    "        super().__init__()\n",
    "        # From 784 to 40\n",
    "        self.fc1 = nn.Linear(in_features=784, out_features=40)\n",
    "        # From 40 to 20\n",
    "        self.fc2 = nn.Linear(in_features=40, out_features=20)\n",
    "        # From 20 to 10\n",
    "        self.fc3 = nn.Linear(in_features=20, out_features=10)\n",
    "        \n",
    "    def forward(self, x):\n",
    "        # O input passa pela primeira camada\n",
    "        x = torch.sigmoid( self.fc1(x) )\n",
    "        # A saída da primeira passa pela segunda camada        \n",
    "        x = torch.sigmoid( self.fc2(x) )\n",
    "        # A saída da segunda passa pela terceira camada        \n",
    "        return x"
   ]
  },
  {
   "cell_type": "markdown",
   "metadata": {
    "slideshow": {
     "slide_type": "subslide"
    }
   },
   "source": [
    "#### Treinamento da Rede Neural"
   ]
  },
  {
   "cell_type": "code",
   "execution_count": 81,
   "metadata": {},
   "outputs": [],
   "source": [
    "lr = 0.1\n",
    "batch_size = 20\n",
    "num_epochs = 10\n",
    "\n",
    "model = Network_Multiclass_3()\n",
    "criterion = nn.CrossEntropyLoss()\n",
    "optimizer = optim.SGD(model.parameters(), lr=0.1)\n",
    "loader = DataLoader(data, batch_size=batch_size)"
   ]
  },
  {
   "cell_type": "code",
   "execution_count": 82,
   "metadata": {},
   "outputs": [
    {
     "name": "stderr",
     "output_type": "stream",
     "text": [
      "100%|██████████| 10/10 [03:10<00:00, 19.25s/it]\n"
     ]
    }
   ],
   "source": [
    "from tqdm import tqdm\n",
    "e_losses = []\n",
    "for e in tqdm(range(num_epochs)):\n",
    "    losses =  train_epoch(model, loader, optimizer, criterion)\n",
    "    e_losses += [np.mean(losses)]"
   ]
  },
  {
   "cell_type": "markdown",
   "metadata": {
    "slideshow": {
     "slide_type": "subslide"
    }
   },
   "source": [
    "#### CrossEntropyLoss vs. Epochs"
   ]
  },
  {
   "cell_type": "code",
   "execution_count": 83,
   "metadata": {},
   "outputs": [
    {
     "data": {
      "text/plain": [
       "[<matplotlib.lines.Line2D at 0x1f354e44358>]"
      ]
     },
     "execution_count": 83,
     "metadata": {},
     "output_type": "execute_result"
    },
    {
     "data": {
      "image/png": "[encoded data removed]",
      "text/plain": [
       "<Figure size 864x288 with 1 Axes>"
      ]
     },
     "metadata": {
      "needs_background": "light"
     },
     "output_type": "display_data"
    }
   ],
   "source": [
    "fig, ax = plt.subplots(figsize=(12,4))\n",
    "plt.title('CrossEntropyLoss vs. Epochs')\n",
    "plt.plot(e_losses)"
   ]
  },
  {
   "cell_type": "markdown",
   "metadata": {
    "slideshow": {
     "slide_type": "subslide"
    }
   },
   "source": [
    "**No Conjunto de Treinamento**"
   ]
  },
  {
   "cell_type": "code",
   "execution_count": 84,
   "metadata": {},
   "outputs": [
    {
     "name": "stdout",
     "output_type": "stream",
     "text": [
      "Acurácia no treino: 80.43\n"
     ]
    }
   ],
   "source": [
    "results = eval_model(model, loader)\n",
    "print('Acurácia no treino: {:.2f}'.format(results['acc']*100))"
   ]
  },
  {
   "cell_type": "markdown",
   "metadata": {},
   "source": [
    "**No Conjunto de Teste**"
   ]
  },
  {
   "cell_type": "code",
   "execution_count": 85,
   "metadata": {},
   "outputs": [
    {
     "name": "stdout",
     "output_type": "stream",
     "text": [
      "Acurácia no treino: 80.19\n"
     ]
    }
   ],
   "source": [
    "results = eval_model(model, testLoader)\n",
    "print('Acurácia no treino: {:.2f}'.format(results['acc']*100))"
   ]
  },
  {
   "cell_type": "markdown",
   "metadata": {
    "slideshow": {
     "slide_type": "subslide"
    }
   },
   "source": [
    "#### Análise dos Resultados\n",
    "\n",
    "Ao analisarmos o gráfico verificamos que em 10 iterações o `loss` da rede neural diminuiu em apenas `0.6`, de `2.3` para `1.7`.\n",
    "\n",
    "Isso acontece quando temos muitos neurônios com função de ativação sigmoidal, pois a derivada da função de ativação sigmoidal costuma dar valores pequenos para os gradientes. Este problema é chamado de *Dissipação de Gradiente*.\n",
    "\n",
    "Para exemplificar isso vamos construir um gráfico que simule o valor de uma combinação linear para a função de ativação sigmoidal de um neurônio. Considere intervalo `xx` de `-3` até `3`, o resultado da função de ativação sigmoidal desses dados em `yy` e o resultado da derivada da função sigmoidal em `yy_d`."
   ]
  },
  {
   "cell_type": "code",
   "execution_count": 86,
   "metadata": {},
   "outputs": [],
   "source": [
    "xx = torch.tensor( np.arange(-3, 3, 0.01) )\n",
    "yy = torch.sigmoid(xx)\n",
    "yy_d = torch.sigmoid(xx) * (1 - torch.sigmoid(xx))"
   ]
  },
  {
   "cell_type": "markdown",
   "metadata": {
    "slideshow": {
     "slide_type": "subslide"
    }
   },
   "source": [
    "#### Função de Ativação Sigmoidal vs sua Derivada"
   ]
  },
  {
   "cell_type": "code",
   "execution_count": 87,
   "metadata": {
    "slideshow": {
     "slide_type": "-"
    }
   },
   "outputs": [
    {
     "data": {
      "image/png": "[encoded data removed]",
      "text/plain": [
       "<Figure size 864x288 with 2 Axes>"
      ]
     },
     "metadata": {
      "needs_background": "light"
     },
     "output_type": "display_data"
    }
   ],
   "source": [
    "fig, (ax1,ax2) = plt.subplots(1,2,figsize=(12,4)); plt.ylim((0.05,1.05))\n",
    "ax1.plot(xx.detach().numpy(), yy.detach().numpy())\n",
    "ax1.set_title('Função de ativação sigmoidal')\n",
    "ax2.plot(xx.detach().numpy(), yy_d.detach().numpy())\n",
    "ax2.set_title('Derivada da função de ativação sigmoidal')\n",
    "plt.show()"
   ]
  },
  {
   "cell_type": "markdown",
   "metadata": {},
   "source": [
    "A derivada da função retorna vamos menores para entradas mais próximas de `-3` e `3` e valores maiores quando está próxima a `0`. Isso indica que quando a entrada para a função sigmoidal for próxima de `0` o gradiente vai ser alto para que os pesos sejam alterados com mais força e na próxima iteração o valor de entrada seja mais negativo ou mais positivo."
   ]
  },
  {
   "cell_type": "markdown",
   "metadata": {
    "slideshow": {
     "slide_type": "subslide"
    }
   },
   "source": [
    "#### Função de Ativação Tangente Hiperbólica vs sua Derivada"
   ]
  },
  {
   "cell_type": "code",
   "execution_count": 88,
   "metadata": {},
   "outputs": [
    {
     "data": {
      "image/png": "[encoded data removed]",
      "text/plain": [
       "<Figure size 864x288 with 2 Axes>"
      ]
     },
     "metadata": {
      "needs_background": "light"
     },
     "output_type": "display_data"
    }
   ],
   "source": [
    "yy = torch.tanh(xx)\n",
    "yy_d = 1.0 - np.tanh(xx)**2\n",
    "fig, (ax1,ax2) = plt.subplots(1,2,figsize=(12,4)); plt.ylim((-0.05,1.05))\n",
    "ax1.plot(xx.detach().numpy(),yy.detach().numpy())\n",
    "ax1.set_title('Função de ativação tangente hiperbólica')\n",
    "ax2.plot(xx.detach().numpy(),yy_d.detach().numpy())\n",
    "ax1.set_title('Derivada da função tangente hiperbólica')\n",
    "plt.show()"
   ]
  },
  {
   "cell_type": "markdown",
   "metadata": {},
   "source": [
    "A derivada desta função retorna valores maiores do que a derivada da função sigmoidal, o que resulta em gradientes maiores e na maior alteração do valor dos pesos da rede neural."
   ]
  },
  {
   "cell_type": "markdown",
   "metadata": {
    "slideshow": {
     "slide_type": "subslide"
    }
   },
   "source": [
    "#### Função de Ativação ReLU vs sua Derivada"
   ]
  },
  {
   "cell_type": "code",
   "execution_count": 89,
   "metadata": {},
   "outputs": [
    {
     "data": {
      "image/png": "[encoded data removed]",
      "text/plain": [
       "<Figure size 864x288 with 2 Axes>"
      ]
     },
     "metadata": {
      "needs_background": "light"
     },
     "output_type": "display_data"
    }
   ],
   "source": [
    "yy = torch.relu(xx)\n",
    "yy_d = torch.tensor([1 if xi > 0 else 0 for xi in xx])\n",
    "\n",
    "fig, (ax1,ax2) = plt.subplots(1,2,figsize=(12,4))\n",
    "plt.ylim((-0.05,1.05))\n",
    "ax1.plot(xx.detach().numpy(),yy.detach().numpy())\n",
    "ax1.set_title('Função de ativação ReLU')\n",
    "ax2.plot(xx.detach().numpy(),yy_d.detach().numpy())\n",
    "ax2.set_title('Derivada da função de ativação ReLU')\n",
    "plt.show()"
   ]
  },
  {
   "cell_type": "markdown",
   "metadata": {
    "slideshow": {
     "slide_type": "subslide"
    }
   },
   "source": [
    "## Network Multiclass 4:\n",
    "\n",
    "Arquitetura da Rede Neural:\n",
    "* Input Layer: 784 neurônios correspondentes a cada pixel da imagem de dimensões (28x28=784)\n",
    "* Hidden Layer 1: 40 neurônios com função de ativação tanh (tangente hiperbólica) $f_\\sigma(x)=tan(x)$\n",
    "* Hidden Layer 2: 20 neurônios com função de ativação tanh (tangente hiperbólica) $f_\\sigma(x)$\n",
    "* Output Layer: 10 neurônios com função de ativação *Softmax* $f_\\gamma =\\frac{e^{y_i}}{\\sum_i{e^{y_i}}}$\n",
    "\n",
    "<div align=\"center\"><img src=\"img/neural_network_multiclass_4.svg\" width=70%></div>"
   ]
  },
  {
   "cell_type": "markdown",
   "metadata": {
    "slideshow": {
     "slide_type": "subslide"
    }
   },
   "source": [
    "### Implementação da Rede Neural"
   ]
  },
  {
   "cell_type": "code",
   "execution_count": 90,
   "metadata": {
    "slideshow": {
     "slide_type": "-"
    }
   },
   "outputs": [],
   "source": [
    "class Network_Multiclass_4(nn.Module):\n",
    "    def __init__(self):\n",
    "        super().__init__()\n",
    "        # From 784 to 40\n",
    "        self.fc1 = nn.Linear(in_features=784, out_features=40)\n",
    "        # From 40 to 20\n",
    "        self.fc2 = nn.Linear(in_features=40, out_features=20)\n",
    "        # From 20 to 10\n",
    "        self.fc3 = nn.Linear(in_features=20, out_features=10)\n",
    "        \n",
    "    def forward(self, x):\n",
    "        # O input passa pela primeira camada\n",
    "        x = torch.tanh( self.fc1(x) )\n",
    "        # A saída da primeira passa pela segunda camada\n",
    "        x = torch.tanh( self.fc2(x) )\n",
    "        # A saída da segunda passa pela terceira camada\n",
    "        x = F.softmax( self.fc3(x) , dim=1 )\n",
    "        return x"
   ]
  },
  {
   "cell_type": "code",
   "execution_count": 91,
   "metadata": {
    "slideshow": {
     "slide_type": "-"
    }
   },
   "outputs": [],
   "source": [
    "lr = 0.1\n",
    "batch_size = 20\n",
    "num_epochs = 10\n",
    "\n",
    "model = Network_Multiclass_4()\n",
    "criterion = nn.CrossEntropyLoss()\n",
    "optimizer = optim.SGD(model.parameters(), lr=0.1)\n",
    "loader = DataLoader(data, batch_size=batch_size)"
   ]
  },
  {
   "cell_type": "code",
   "execution_count": 92,
   "metadata": {
    "slideshow": {
     "slide_type": "subslide"
    }
   },
   "outputs": [
    {
     "name": "stderr",
     "output_type": "stream",
     "text": [
      "100%|██████████| 10/10 [03:21<00:00, 20.23s/it]\n"
     ]
    }
   ],
   "source": [
    "e_losses = []\n",
    "progress = tqdm(range(num_epochs))\n",
    "for e in progress:\n",
    "    losses =  train_epoch(model, loader, optimizer, criterion)\n",
    "    e_losses += [np.mean(losses)]    "
   ]
  },
  {
   "cell_type": "code",
   "execution_count": 93,
   "metadata": {
    "slideshow": {
     "slide_type": "subslide"
    }
   },
   "outputs": [
    {
     "data": {
      "text/plain": [
       "[<matplotlib.lines.Line2D at 0x1f354e8d048>]"
      ]
     },
     "execution_count": 93,
     "metadata": {},
     "output_type": "execute_result"
    },
    {
     "data": {
      "image/png": "[encoded data removed]",
      "text/plain": [
       "<Figure size 864x288 with 1 Axes>"
      ]
     },
     "metadata": {
      "needs_background": "light"
     },
     "output_type": "display_data"
    }
   ],
   "source": [
    "fig, ax = plt.subplots(figsize=(12,4))\n",
    "plt.title('CrossEntropyLoss vs. Epochs')\n",
    "plt.plot(e_losses)"
   ]
  },
  {
   "cell_type": "markdown",
   "metadata": {
    "slideshow": {
     "slide_type": "subslide"
    }
   },
   "source": [
    "**No Conjunto de Treinamento**"
   ]
  },
  {
   "cell_type": "code",
   "execution_count": 94,
   "metadata": {},
   "outputs": [
    {
     "name": "stdout",
     "output_type": "stream",
     "text": [
      "Acurácia no treino: 97.07\n"
     ]
    }
   ],
   "source": [
    "results = eval_model(model, loader)\n",
    "print('Acurácia no treino: {:.2f}'.format(results['acc']*100))"
   ]
  },
  {
   "cell_type": "markdown",
   "metadata": {},
   "source": [
    "**No Conjunto de Teste**"
   ]
  },
  {
   "cell_type": "code",
   "execution_count": 95,
   "metadata": {},
   "outputs": [
    {
     "name": "stdout",
     "output_type": "stream",
     "text": [
      "Acurácia no treino: 96.01\n"
     ]
    }
   ],
   "source": [
    "results = eval_model(model, testLoader)\n",
    "print('Acurácia no treino: {:.2f}'.format(results['acc']*100))"
   ]
  },
  {
   "cell_type": "markdown",
   "metadata": {
    "slideshow": {
     "slide_type": "subslide"
    }
   },
   "source": [
    "## Network Multiclass 5:\n",
    "\n",
    "Arquitetura da Rede Neural:\n",
    "* Input Layer: 784 neurônios correspondentes a cada pixel da imagem de dimensões (28x28=784)\n",
    "* Hidden Layer 1: 40 neurônios com função de ativação ReLU $f_\\sigma(x)=ReLU(x)$\n",
    "* Hidden Layer 2: 20 neurônios com função de ativação ReLU $f_\\sigma(x)$\n",
    "* Output Layer: 10 neurônios com função de ativação *Softmax* $f_\\gamma =\\frac{e^{y_i}}{\\sum_i{e^{y_i}}}$\n",
    "\n",
    "<div align=\"center\"><img src=\"img/neural_network_multiclass_4.svg\" width=70%></div>"
   ]
  },
  {
   "cell_type": "markdown",
   "metadata": {
    "slideshow": {
     "slide_type": "subslide"
    }
   },
   "source": [
    "### Implementação da Rede Neural"
   ]
  },
  {
   "cell_type": "code",
   "execution_count": 96,
   "metadata": {
    "slideshow": {
     "slide_type": "-"
    }
   },
   "outputs": [],
   "source": [
    "class Network_Multiclass_5(nn.Module):\n",
    "    def __init__(self):\n",
    "        super().__init__()\n",
    "        # From 784 to 40\n",
    "        self.fc1 = nn.Linear(in_features=784, out_features=40)\n",
    "        # From 40 to 20\n",
    "        self.fc2 = nn.Linear(in_features=40, out_features=20)\n",
    "        # From 20 to 10\n",
    "        self.fc3 = nn.Linear(in_features=20, out_features=10)\n",
    "        \n",
    "    def forward(self, x):\n",
    "        # O input passa pela primeira camada\n",
    "        x = torch.relu( self.fc1(x) )\n",
    "        # A saída da primeira passa pela segunda camada\n",
    "        x = torch.relu( self.fc2(x) )\n",
    "        # A saída da segunda passa pela terceira camada  \n",
    "        x = F.softmax( self.fc3(x) , dim=1 )\n",
    "        return x"
   ]
  },
  {
   "cell_type": "code",
   "execution_count": 97,
   "metadata": {},
   "outputs": [],
   "source": [
    "lr = 0.1\n",
    "batch_size = 20\n",
    "num_epochs = 10\n",
    "\n",
    "model = Network_Multiclass_5()\n",
    "criterion = nn.CrossEntropyLoss()\n",
    "optimizer = optim.SGD(model.parameters(), lr=0.1)\n",
    "loader = DataLoader(data, batch_size=batch_size)"
   ]
  },
  {
   "cell_type": "code",
   "execution_count": 98,
   "metadata": {
    "slideshow": {
     "slide_type": "subslide"
    }
   },
   "outputs": [
    {
     "name": "stderr",
     "output_type": "stream",
     "text": [
      "100%|██████████| 10/10 [03:21<00:00, 20.07s/it]\n"
     ]
    }
   ],
   "source": [
    "e_losses = []\n",
    "progress = tqdm(range(num_epochs))\n",
    "for e in progress:\n",
    "    losses =  train_epoch(model, loader, optimizer, criterion)\n",
    "    e_losses += [np.mean(losses)]    "
   ]
  },
  {
   "cell_type": "code",
   "execution_count": 99,
   "metadata": {
    "slideshow": {
     "slide_type": "subslide"
    }
   },
   "outputs": [
    {
     "data": {
      "text/plain": [
       "[<matplotlib.lines.Line2D at 0x1f34589fb00>]"
      ]
     },
     "execution_count": 99,
     "metadata": {},
     "output_type": "execute_result"
    },
    {
     "data": {
      "image/png": "[encoded data removed]",
      "text/plain": [
       "<Figure size 864x288 with 1 Axes>"
      ]
     },
     "metadata": {
      "needs_background": "light"
     },
     "output_type": "display_data"
    }
   ],
   "source": [
    "fig, ax = plt.subplots(figsize=(12,4))\n",
    "plt.title('CrossEntropyLoss vs. Epochs')\n",
    "plt.plot(e_losses)"
   ]
  },
  {
   "cell_type": "markdown",
   "metadata": {
    "slideshow": {
     "slide_type": "subslide"
    }
   },
   "source": [
    "**No Conjunto de Treinamento**"
   ]
  },
  {
   "cell_type": "code",
   "execution_count": 100,
   "metadata": {},
   "outputs": [
    {
     "name": "stdout",
     "output_type": "stream",
     "text": [
      "Acurácia no treino: 95.45\n"
     ]
    }
   ],
   "source": [
    "results = eval_model(model, loader)\n",
    "print('Acurácia no treino: {:.2f}'.format(results['acc']*100))"
   ]
  },
  {
   "cell_type": "markdown",
   "metadata": {},
   "source": [
    "**No Conjunto de Teste**"
   ]
  },
  {
   "cell_type": "code",
   "execution_count": 101,
   "metadata": {},
   "outputs": [
    {
     "name": "stdout",
     "output_type": "stream",
     "text": [
      "Acurácia no treino: 94.92\n"
     ]
    }
   ],
   "source": [
    "results = eval_model(model, testLoader)\n",
    "print('Acurácia no treino: {:.2f}'.format(results['acc']*100))"
   ]
  },
  {
   "cell_type": "markdown",
   "metadata": {
    "slideshow": {
     "slide_type": "subslide"
    }
   },
   "source": [
    "### Mostrando Acurácia de Treino e Teste Durante o Treinamento"
   ]
  },
  {
   "cell_type": "code",
   "execution_count": 102,
   "metadata": {},
   "outputs": [],
   "source": [
    "data_train = datasets.MNIST(root='data',train=True,download=True,transform=transform)\n",
    "data_test  = datasets.MNIST(root='data',train=False,download=True,transform=transform)"
   ]
  },
  {
   "cell_type": "code",
   "execution_count": 103,
   "metadata": {},
   "outputs": [],
   "source": [
    "batch_size = 20\n",
    "trainLoader = DataLoader(data_train, batch_size=batch_size)\n",
    "testLoader  = DataLoader(data_test , batch_size=batch_size)"
   ]
  },
  {
   "cell_type": "code",
   "execution_count": 104,
   "metadata": {},
   "outputs": [],
   "source": [
    "lr = 0.1\n",
    "num_epochs = 10\n",
    "\n",
    "model = Network_Multiclass_5()\n",
    "criterion = nn.CrossEntropyLoss()\n",
    "optimizer = optim.SGD(model.parameters(), lr=lr)"
   ]
  },
  {
   "cell_type": "code",
   "execution_count": 105,
   "metadata": {
    "slideshow": {
     "slide_type": "subslide"
    }
   },
   "outputs": [
    {
     "name": "stdout",
     "output_type": "stream",
     "text": [
      "{'epoch': 0, 'train_loss': 1.84, 'train_acc': 0.753, 'test_acc': 0.757}\n",
      "{'epoch': 1, 'train_loss': 1.696, 'train_acc': 0.766, 'test_acc': 0.765}\n",
      "{'epoch': 2, 'train_loss': 1.687, 'train_acc': 0.774, 'test_acc': 0.772}\n",
      "{'epoch': 3, 'train_loss': 1.682, 'train_acc': 0.78, 'test_acc': 0.778}\n",
      "{'epoch': 4, 'train_loss': 1.621, 'train_acc': 0.855, 'test_acc': 0.85}\n",
      "{'epoch': 5, 'train_loss': 1.601, 'train_acc': 0.867, 'test_acc': 0.86}\n",
      "{'epoch': 6, 'train_loss': 1.594, 'train_acc': 0.871, 'test_acc': 0.865}\n",
      "{'epoch': 7, 'train_loss': 1.59, 'train_acc': 0.874, 'test_acc': 0.869}\n",
      "{'epoch': 8, 'train_loss': 1.588, 'train_acc': 0.876, 'test_acc': 0.869}\n",
      "{'epoch': 9, 'train_loss': 1.585, 'train_acc': 0.879, 'test_acc': 0.871}\n"
     ]
    }
   ],
   "source": [
    "e_measures = []\n",
    "for e in range(num_epochs):\n",
    "    losses =  train_epoch(model, trainLoader, optimizer, criterion)    \n",
    "    measures_on_train = eval_model(model, trainLoader)\n",
    "    measures_on_test  = eval_model(model, testLoader )\n",
    "    measures = {'epoch': e, 'train_loss': round(np.mean(losses),3), 'train_acc' : round(measures_on_train['acc'],3), 'test_acc' : round(measures_on_test['acc'],3) }    \n",
    "    print(measures)\n",
    "    e_measures += [measures]"
   ]
  },
  {
   "cell_type": "markdown",
   "metadata": {
    "slideshow": {
     "slide_type": "subslide"
    }
   },
   "source": [
    "**Resultados**"
   ]
  },
  {
   "cell_type": "code",
   "execution_count": 106,
   "metadata": {},
   "outputs": [
    {
     "data": {
      "text/html": [
       "<div>\n",
       "<style scoped>\n",
       "    .dataframe tbody tr th:only-of-type {\n",
       "        vertical-align: middle;\n",
       "    }\n",
       "\n",
       "    .dataframe tbody tr th {\n",
       "        vertical-align: top;\n",
       "    }\n",
       "\n",
       "    .dataframe thead th {\n",
       "        text-align: right;\n",
       "    }\n",
       "</style>\n",
       "<table border=\"1\" class=\"dataframe\">\n",
       "  <thead>\n",
       "    <tr style=\"text-align: right;\">\n",
       "      <th></th>\n",
       "      <th>epoch</th>\n",
       "      <th>test_acc</th>\n",
       "      <th>train_acc</th>\n",
       "      <th>train_loss</th>\n",
       "    </tr>\n",
       "  </thead>\n",
       "  <tbody>\n",
       "    <tr>\n",
       "      <th>0</th>\n",
       "      <td>0</td>\n",
       "      <td>0.757</td>\n",
       "      <td>0.753</td>\n",
       "      <td>1.840</td>\n",
       "    </tr>\n",
       "    <tr>\n",
       "      <th>1</th>\n",
       "      <td>1</td>\n",
       "      <td>0.765</td>\n",
       "      <td>0.766</td>\n",
       "      <td>1.696</td>\n",
       "    </tr>\n",
       "    <tr>\n",
       "      <th>2</th>\n",
       "      <td>2</td>\n",
       "      <td>0.772</td>\n",
       "      <td>0.774</td>\n",
       "      <td>1.687</td>\n",
       "    </tr>\n",
       "    <tr>\n",
       "      <th>3</th>\n",
       "      <td>3</td>\n",
       "      <td>0.778</td>\n",
       "      <td>0.780</td>\n",
       "      <td>1.682</td>\n",
       "    </tr>\n",
       "    <tr>\n",
       "      <th>4</th>\n",
       "      <td>4</td>\n",
       "      <td>0.850</td>\n",
       "      <td>0.855</td>\n",
       "      <td>1.621</td>\n",
       "    </tr>\n",
       "    <tr>\n",
       "      <th>5</th>\n",
       "      <td>5</td>\n",
       "      <td>0.860</td>\n",
       "      <td>0.867</td>\n",
       "      <td>1.601</td>\n",
       "    </tr>\n",
       "    <tr>\n",
       "      <th>6</th>\n",
       "      <td>6</td>\n",
       "      <td>0.865</td>\n",
       "      <td>0.871</td>\n",
       "      <td>1.594</td>\n",
       "    </tr>\n",
       "    <tr>\n",
       "      <th>7</th>\n",
       "      <td>7</td>\n",
       "      <td>0.869</td>\n",
       "      <td>0.874</td>\n",
       "      <td>1.590</td>\n",
       "    </tr>\n",
       "    <tr>\n",
       "      <th>8</th>\n",
       "      <td>8</td>\n",
       "      <td>0.869</td>\n",
       "      <td>0.876</td>\n",
       "      <td>1.588</td>\n",
       "    </tr>\n",
       "    <tr>\n",
       "      <th>9</th>\n",
       "      <td>9</td>\n",
       "      <td>0.871</td>\n",
       "      <td>0.879</td>\n",
       "      <td>1.585</td>\n",
       "    </tr>\n",
       "  </tbody>\n",
       "</table>\n",
       "</div>"
      ],
      "text/plain": [
       "   epoch  test_acc  train_acc  train_loss\n",
       "0      0     0.757      0.753       1.840\n",
       "1      1     0.765      0.766       1.696\n",
       "2      2     0.772      0.774       1.687\n",
       "3      3     0.778      0.780       1.682\n",
       "4      4     0.850      0.855       1.621\n",
       "5      5     0.860      0.867       1.601\n",
       "6      6     0.865      0.871       1.594\n",
       "7      7     0.869      0.874       1.590\n",
       "8      8     0.869      0.876       1.588\n",
       "9      9     0.871      0.879       1.585"
      ]
     },
     "execution_count": 106,
     "metadata": {},
     "output_type": "execute_result"
    }
   ],
   "source": [
    "pd.DataFrame(e_measures)"
   ]
  },
  {
   "cell_type": "markdown",
   "metadata": {
    "slideshow": {
     "slide_type": "slide"
    }
   },
   "source": [
    "# Atividade\n",
    "\n",
    "* Explorar o conjunto de dados Fashion MNIST\n",
    "* Construir 5 modelos de redes neurais para classificar as imagens desse conjunto. Explorar:\n",
    "    * Número de neurônios nas camadas\n",
    "    * Número de hidden layers\n",
    "    * Funções de ativação nas hidden layers\n",
    "    * Número de épocas de treinamento\n",
    "* Para cada modelo mostrar:\n",
    "    * Um gráfico de *CrossEntropyLoss* vs Epochs\n",
    "    * Um gráfico de *Accuracy on Train and Test* vs Epochs\n",
    "    * A acurácia final no conjunto de treino e teste"
   ]
  }
 ],
 "metadata": {
  "kernelspec": {
   "display_name": "Python 3",
   "language": "python",
   "name": "python3"
  },
  "language_info": {
   "codemirror_mode": {
    "name": "ipython",
    "version": 3
   },
   "file_extension": ".py",
   "mimetype": "text/x-python",
   "name": "python",
   "nbconvert_exporter": "python",
   "pygments_lexer": "ipython3",
   "version": "3.7.1"
  }
 },
 "nbformat": 4,
 "nbformat_minor": 2
}
